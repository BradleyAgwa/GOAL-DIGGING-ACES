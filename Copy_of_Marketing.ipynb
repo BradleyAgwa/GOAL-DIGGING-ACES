{
  "nbformat": 4,
  "nbformat_minor": 0,
  "metadata": {
    "colab": {
      "name": "Copy of Marketing.ipynb",
      "provenance": [],
      "collapsed_sections": [],
      "toc_visible": true,
      "include_colab_link": true
    },
    "kernelspec": {
      "name": "python3",
      "display_name": "Python 3"
    },
    "language_info": {
      "name": "python"
    }
  },
  "cells": [
    {
      "cell_type": "markdown",
      "metadata": {
        "id": "view-in-github",
        "colab_type": "text"
      },
      "source": [
        "<a href=\"https://colab.research.google.com/github/BradleyAgwa/GOAL-DIGGING-ACES/blob/main/Copy_of_Marketing.ipynb\" target=\"_parent\"><img src=\"https://colab.research.google.com/assets/colab-badge.svg\" alt=\"Open In Colab\"/></a>"
      ]
    },
    {
      "cell_type": "markdown",
      "metadata": {
        "id": "ucqB17cjcezG"
      },
      "source": [
        "# CUSTOMER PERSONALITY ANALYSIS"
      ]
    },
    {
      "cell_type": "markdown",
      "metadata": {
        "id": "zA-kMtrqwLTT"
      },
      "source": [
        "## 1.1 Introduction\n"
      ]
    },
    {
      "cell_type": "markdown",
      "metadata": {
        "id": "Wz8ocOVa2H-g"
      },
      "source": [
        "### Defining the question\n",
        "The research problem is to figure out how different customer profiles i.e., their education, marital status affects which products they buy and how they respond to marketing campaigns?"
      ]
    },
    {
      "cell_type": "markdown",
      "metadata": {
        "id": "PfiUr0Ea2MoT"
      },
      "source": [
        "### Defining the Metric for Success\n",
        "This analysis requires us to come up with a solution that will help provide insights to tailor the marketing campaigns according to responses by the various customer profiles for the shop On The Go.\n",
        "We therefore need to identify the metrics that are significant in determining this and assess the key customer profile factors that drive this and offer insights. We will implement the solution by performing basic analysis.\n"
      ]
    },
    {
      "cell_type": "markdown",
      "metadata": {
        "id": "LwPJVS7k2Ql8"
      },
      "source": [
        "###  Understanding the context\n",
        "Customer profile/behavior refers to an individual's buying habits, including social trends, frequency patterns, and background factors influencing their decision to buy something. Businesses study customer behavior to understand their target audience and create more-enticing products and service offers. Customer behavior doesn't describe who is shopping in a store, but, instead, how they're shopping in the specified store. It assesses factors like how frequently customers shop, which products they prefer, and how they perceive your marketing, sales, and customer service offers. Understanding these details helps businesses communicate with customers in a productive and delightful way. Using important information from our data we can clean and analyze it and try to understand how different customers with different profiles, i.e., Education Levels, Marital Status etc. spend on different products.\n",
        "An understanding of key factors that are significant in influencing shopping habits is of great importance.\n"
      ]
    },
    {
      "cell_type": "markdown",
      "metadata": {
        "id": "Qa9L-6kv2ZoD"
      },
      "source": [
        "### Research Questions\n"
      ]
    },
    {
      "cell_type": "markdown",
      "metadata": {
        "id": "ulAsI5xA2gn7"
      },
      "source": [
        "1. How many customers in the various education levels accepted the 1st and 5th campaign?\n",
        "2. Which level of education spent the most amount on food? \n",
        "3. Which level of education spent the most money on gold products?\n",
        "4. Were the first and fifth campaigns popular among couples, the single, widowed or divorced?\n",
        "5. How the number of kids affected the purchasing behaviour of customers\n"
      ]
    },
    {
      "cell_type": "markdown",
      "metadata": {
        "id": "LnuTZVvw2wd5"
      },
      "source": [
        "### Objectives"
      ]
    },
    {
      "cell_type": "markdown",
      "metadata": {
        "id": "eEvgyRc420MZ"
      },
      "source": [
        "1.      To find out the customers with highest number of purchases\n",
        "2.      To find out if the first campaign was popular among the more educated people or not.\n",
        "3.      To find out if marital status has any effect on the spending done on the products\n",
        "4.       To determine if kids affect the purchasing habits of customers "
      ]
    },
    {
      "cell_type": "markdown",
      "metadata": {
        "id": "_tUE8W_d27qT"
      },
      "source": [
        "### Recording the Experimental Design"
      ]
    },
    {
      "cell_type": "markdown",
      "metadata": {
        "id": "FqK_9l3o3BzV"
      },
      "source": [
        "Below are the steps i took to implement this solution\n",
        "1. Business Understanding: This sheds light to the context of the business question that we are trying to answer hence keep the focus during the data analysis so that we meet the intended objective.\n",
        "2. Reading the data: Reading our data with and aim to understand the variables and observations.\n",
        "3. Checking our data: This to get details about the dataset, the number of records, the statistal summary,the datatypes in our dataset among others.\n",
        "4. Data cleaning, I performed all my data cleaning and preparation to make my data ready for analysis.\n",
        "5. Challenged the solution.\n",
        "6. Conclusion"
      ]
    },
    {
      "cell_type": "markdown",
      "metadata": {
        "id": "8VDRTRs73HXH"
      },
      "source": [
        "### Data Relevance"
      ]
    },
    {
      "cell_type": "markdown",
      "metadata": {
        "id": "iqfDGX0u3Ktr"
      },
      "source": [
        "The data set chosen for this project was:\n",
        "Marketing campaign  [https://www.kaggle.com/imakash3011/customer-personality-analysis/download]"
      ]
    },
    {
      "cell_type": "markdown",
      "metadata": {
        "id": "54AdzAuk3OtF"
      },
      "source": [
        "### Data Information \n",
        "**Attributes**\n",
        "\n",
        "***People***\n",
        "\n",
        "1. ID: Customer's unique identifier\n",
        "2. Year_Birth: Customer's birth year\n",
        "3. Education: Customer's education level\n",
        "4. Marital_Status: Customer's marital status\n",
        "5. Income: Customer's yearly household income\n",
        "6. Kidhome: Number of children in customer's household\n",
        "7. Teenhome: Number of teenagers in customer's household\n",
        "8. Dt_Customer: Date of customer's enrollment with the company\n",
        "9. Recency: Number of days since customer's last purchase\n",
        "10. Complain: 1 if customer complained in the last 2 years, 0 otherwise\n",
        "\n",
        "***Products***\n",
        "1. MntWines: Amount spent on wine in last 2 years\n",
        "2. MntFruits: Amount spent on fruits in last 2 years\n",
        "3. MntMeatProducts: Amount spent on meat in last 2 years\n",
        "4. MntFishProducts: Amount spent on fish in last 2 years\n",
        "5. MntSweetProducts: Amount spent on sweets in last 2 years\n",
        "6. MntGoldProds: Amount spent on gold in last 2 years\n",
        "***Promotion***\n",
        "1. NumDealsPurchases: Number of purchases made with a discount\n",
        "2. AcceptedCmp1: 1 if customer accepted the offer in the 1st campaign, 0 otherwise\n",
        "3. AcceptedCmp2: 1 if customer accepted the offer in the 2nd campaign, 0 otherwise\n",
        "4. AcceptedCmp3: 1 if customer accepted the offer in the 3rd campaign, 0 otherwise\n",
        "5. AcceptedCmp4: 1 if customer accepted the offer in the 4th campaign, 0 otherwise\n",
        "6. AcceptedCmp5: 1 if customer accepted the offer in the 5th campaign, 0 otherwise\n",
        "7. Response: 1 if customer accepted the offer in the last campaign, 0 otherwise\n",
        "***Place***\n",
        "1. NumWebPurchases: Number of purchases made through the company’s web site\n",
        "2. NumCatalogPurchases: Number of purchases made using a catalogue\n",
        "3. NumStorePurchases: Number of purchases made directly in stores\n",
        "4. NumWebVisitsMonth: Number of visits to company’s web site in the last month\n"
      ]
    },
    {
      "cell_type": "markdown",
      "metadata": {
        "id": "an0pzEzfwW_C"
      },
      "source": [
        "## 1.2Importing Our Libraries"
      ]
    },
    {
      "cell_type": "code",
      "metadata": {
        "id": "ZCqX0uQUrRyi"
      },
      "source": [
        "# Loading our libraries i.e pandas and numpy libraries\n",
        "import pandas as pd\n",
        "import numpy as np"
      ],
      "execution_count": null,
      "outputs": []
    },
    {
      "cell_type": "markdown",
      "metadata": {
        "id": "mC59JiRXwdHr"
      },
      "source": [
        "## 1.3 Loading Our Dataset"
      ]
    },
    {
      "cell_type": "code",
      "metadata": {
        "colab": {
          "base_uri": "https://localhost:8080/",
          "height": 414
        },
        "id": "1BzZZQa9rdSt",
        "outputId": "b0acf8f4-081f-43d6-cdb8-ba0d7f6fdcaf"
      },
      "source": [
        "# Loading the dataset we are going to work on.\n",
        "marketing = pd.read_csv('/content/marketing_campaign.csv',delimiter='\\t', index_col=['ID'])\n",
        "marketing.head(10)"
      ],
      "execution_count": null,
      "outputs": [
        {
          "output_type": "execute_result",
          "data": {
            "text/html": [
              "<div>\n",
              "<style scoped>\n",
              "    .dataframe tbody tr th:only-of-type {\n",
              "        vertical-align: middle;\n",
              "    }\n",
              "\n",
              "    .dataframe tbody tr th {\n",
              "        vertical-align: top;\n",
              "    }\n",
              "\n",
              "    .dataframe thead th {\n",
              "        text-align: right;\n",
              "    }\n",
              "</style>\n",
              "<table border=\"1\" class=\"dataframe\">\n",
              "  <thead>\n",
              "    <tr style=\"text-align: right;\">\n",
              "      <th></th>\n",
              "      <th>Year_Birth</th>\n",
              "      <th>Education</th>\n",
              "      <th>Marital_Status</th>\n",
              "      <th>Income</th>\n",
              "      <th>Kidhome</th>\n",
              "      <th>Teenhome</th>\n",
              "      <th>Dt_Customer</th>\n",
              "      <th>Recency</th>\n",
              "      <th>MntWines</th>\n",
              "      <th>MntFruits</th>\n",
              "      <th>MntMeatProducts</th>\n",
              "      <th>MntFishProducts</th>\n",
              "      <th>MntSweetProducts</th>\n",
              "      <th>MntGoldProds</th>\n",
              "      <th>NumDealsPurchases</th>\n",
              "      <th>NumWebPurchases</th>\n",
              "      <th>NumCatalogPurchases</th>\n",
              "      <th>NumStorePurchases</th>\n",
              "      <th>NumWebVisitsMonth</th>\n",
              "      <th>AcceptedCmp3</th>\n",
              "      <th>AcceptedCmp4</th>\n",
              "      <th>AcceptedCmp5</th>\n",
              "      <th>AcceptedCmp1</th>\n",
              "      <th>AcceptedCmp2</th>\n",
              "      <th>Complain</th>\n",
              "      <th>Z_CostContact</th>\n",
              "      <th>Z_Revenue</th>\n",
              "      <th>Response</th>\n",
              "    </tr>\n",
              "    <tr>\n",
              "      <th>ID</th>\n",
              "      <th></th>\n",
              "      <th></th>\n",
              "      <th></th>\n",
              "      <th></th>\n",
              "      <th></th>\n",
              "      <th></th>\n",
              "      <th></th>\n",
              "      <th></th>\n",
              "      <th></th>\n",
              "      <th></th>\n",
              "      <th></th>\n",
              "      <th></th>\n",
              "      <th></th>\n",
              "      <th></th>\n",
              "      <th></th>\n",
              "      <th></th>\n",
              "      <th></th>\n",
              "      <th></th>\n",
              "      <th></th>\n",
              "      <th></th>\n",
              "      <th></th>\n",
              "      <th></th>\n",
              "      <th></th>\n",
              "      <th></th>\n",
              "      <th></th>\n",
              "      <th></th>\n",
              "      <th></th>\n",
              "      <th></th>\n",
              "    </tr>\n",
              "  </thead>\n",
              "  <tbody>\n",
              "    <tr>\n",
              "      <th>5524</th>\n",
              "      <td>1957</td>\n",
              "      <td>Graduation</td>\n",
              "      <td>Single</td>\n",
              "      <td>58138.0</td>\n",
              "      <td>0</td>\n",
              "      <td>0</td>\n",
              "      <td>04-09-2012</td>\n",
              "      <td>58</td>\n",
              "      <td>635</td>\n",
              "      <td>88</td>\n",
              "      <td>546</td>\n",
              "      <td>172</td>\n",
              "      <td>88</td>\n",
              "      <td>88</td>\n",
              "      <td>3</td>\n",
              "      <td>8</td>\n",
              "      <td>10</td>\n",
              "      <td>4</td>\n",
              "      <td>7</td>\n",
              "      <td>0</td>\n",
              "      <td>0</td>\n",
              "      <td>0</td>\n",
              "      <td>0</td>\n",
              "      <td>0</td>\n",
              "      <td>0</td>\n",
              "      <td>3</td>\n",
              "      <td>11</td>\n",
              "      <td>1</td>\n",
              "    </tr>\n",
              "    <tr>\n",
              "      <th>2174</th>\n",
              "      <td>1954</td>\n",
              "      <td>Graduation</td>\n",
              "      <td>Single</td>\n",
              "      <td>46344.0</td>\n",
              "      <td>1</td>\n",
              "      <td>1</td>\n",
              "      <td>08-03-2014</td>\n",
              "      <td>38</td>\n",
              "      <td>11</td>\n",
              "      <td>1</td>\n",
              "      <td>6</td>\n",
              "      <td>2</td>\n",
              "      <td>1</td>\n",
              "      <td>6</td>\n",
              "      <td>2</td>\n",
              "      <td>1</td>\n",
              "      <td>1</td>\n",
              "      <td>2</td>\n",
              "      <td>5</td>\n",
              "      <td>0</td>\n",
              "      <td>0</td>\n",
              "      <td>0</td>\n",
              "      <td>0</td>\n",
              "      <td>0</td>\n",
              "      <td>0</td>\n",
              "      <td>3</td>\n",
              "      <td>11</td>\n",
              "      <td>0</td>\n",
              "    </tr>\n",
              "    <tr>\n",
              "      <th>4141</th>\n",
              "      <td>1965</td>\n",
              "      <td>Graduation</td>\n",
              "      <td>Together</td>\n",
              "      <td>71613.0</td>\n",
              "      <td>0</td>\n",
              "      <td>0</td>\n",
              "      <td>21-08-2013</td>\n",
              "      <td>26</td>\n",
              "      <td>426</td>\n",
              "      <td>49</td>\n",
              "      <td>127</td>\n",
              "      <td>111</td>\n",
              "      <td>21</td>\n",
              "      <td>42</td>\n",
              "      <td>1</td>\n",
              "      <td>8</td>\n",
              "      <td>2</td>\n",
              "      <td>10</td>\n",
              "      <td>4</td>\n",
              "      <td>0</td>\n",
              "      <td>0</td>\n",
              "      <td>0</td>\n",
              "      <td>0</td>\n",
              "      <td>0</td>\n",
              "      <td>0</td>\n",
              "      <td>3</td>\n",
              "      <td>11</td>\n",
              "      <td>0</td>\n",
              "    </tr>\n",
              "    <tr>\n",
              "      <th>6182</th>\n",
              "      <td>1984</td>\n",
              "      <td>Graduation</td>\n",
              "      <td>Together</td>\n",
              "      <td>26646.0</td>\n",
              "      <td>1</td>\n",
              "      <td>0</td>\n",
              "      <td>10-02-2014</td>\n",
              "      <td>26</td>\n",
              "      <td>11</td>\n",
              "      <td>4</td>\n",
              "      <td>20</td>\n",
              "      <td>10</td>\n",
              "      <td>3</td>\n",
              "      <td>5</td>\n",
              "      <td>2</td>\n",
              "      <td>2</td>\n",
              "      <td>0</td>\n",
              "      <td>4</td>\n",
              "      <td>6</td>\n",
              "      <td>0</td>\n",
              "      <td>0</td>\n",
              "      <td>0</td>\n",
              "      <td>0</td>\n",
              "      <td>0</td>\n",
              "      <td>0</td>\n",
              "      <td>3</td>\n",
              "      <td>11</td>\n",
              "      <td>0</td>\n",
              "    </tr>\n",
              "    <tr>\n",
              "      <th>5324</th>\n",
              "      <td>1981</td>\n",
              "      <td>PhD</td>\n",
              "      <td>Married</td>\n",
              "      <td>58293.0</td>\n",
              "      <td>1</td>\n",
              "      <td>0</td>\n",
              "      <td>19-01-2014</td>\n",
              "      <td>94</td>\n",
              "      <td>173</td>\n",
              "      <td>43</td>\n",
              "      <td>118</td>\n",
              "      <td>46</td>\n",
              "      <td>27</td>\n",
              "      <td>15</td>\n",
              "      <td>5</td>\n",
              "      <td>5</td>\n",
              "      <td>3</td>\n",
              "      <td>6</td>\n",
              "      <td>5</td>\n",
              "      <td>0</td>\n",
              "      <td>0</td>\n",
              "      <td>0</td>\n",
              "      <td>0</td>\n",
              "      <td>0</td>\n",
              "      <td>0</td>\n",
              "      <td>3</td>\n",
              "      <td>11</td>\n",
              "      <td>0</td>\n",
              "    </tr>\n",
              "    <tr>\n",
              "      <th>7446</th>\n",
              "      <td>1967</td>\n",
              "      <td>Master</td>\n",
              "      <td>Together</td>\n",
              "      <td>62513.0</td>\n",
              "      <td>0</td>\n",
              "      <td>1</td>\n",
              "      <td>09-09-2013</td>\n",
              "      <td>16</td>\n",
              "      <td>520</td>\n",
              "      <td>42</td>\n",
              "      <td>98</td>\n",
              "      <td>0</td>\n",
              "      <td>42</td>\n",
              "      <td>14</td>\n",
              "      <td>2</td>\n",
              "      <td>6</td>\n",
              "      <td>4</td>\n",
              "      <td>10</td>\n",
              "      <td>6</td>\n",
              "      <td>0</td>\n",
              "      <td>0</td>\n",
              "      <td>0</td>\n",
              "      <td>0</td>\n",
              "      <td>0</td>\n",
              "      <td>0</td>\n",
              "      <td>3</td>\n",
              "      <td>11</td>\n",
              "      <td>0</td>\n",
              "    </tr>\n",
              "    <tr>\n",
              "      <th>965</th>\n",
              "      <td>1971</td>\n",
              "      <td>Graduation</td>\n",
              "      <td>Divorced</td>\n",
              "      <td>55635.0</td>\n",
              "      <td>0</td>\n",
              "      <td>1</td>\n",
              "      <td>13-11-2012</td>\n",
              "      <td>34</td>\n",
              "      <td>235</td>\n",
              "      <td>65</td>\n",
              "      <td>164</td>\n",
              "      <td>50</td>\n",
              "      <td>49</td>\n",
              "      <td>27</td>\n",
              "      <td>4</td>\n",
              "      <td>7</td>\n",
              "      <td>3</td>\n",
              "      <td>7</td>\n",
              "      <td>6</td>\n",
              "      <td>0</td>\n",
              "      <td>0</td>\n",
              "      <td>0</td>\n",
              "      <td>0</td>\n",
              "      <td>0</td>\n",
              "      <td>0</td>\n",
              "      <td>3</td>\n",
              "      <td>11</td>\n",
              "      <td>0</td>\n",
              "    </tr>\n",
              "    <tr>\n",
              "      <th>6177</th>\n",
              "      <td>1985</td>\n",
              "      <td>PhD</td>\n",
              "      <td>Married</td>\n",
              "      <td>33454.0</td>\n",
              "      <td>1</td>\n",
              "      <td>0</td>\n",
              "      <td>08-05-2013</td>\n",
              "      <td>32</td>\n",
              "      <td>76</td>\n",
              "      <td>10</td>\n",
              "      <td>56</td>\n",
              "      <td>3</td>\n",
              "      <td>1</td>\n",
              "      <td>23</td>\n",
              "      <td>2</td>\n",
              "      <td>4</td>\n",
              "      <td>0</td>\n",
              "      <td>4</td>\n",
              "      <td>8</td>\n",
              "      <td>0</td>\n",
              "      <td>0</td>\n",
              "      <td>0</td>\n",
              "      <td>0</td>\n",
              "      <td>0</td>\n",
              "      <td>0</td>\n",
              "      <td>3</td>\n",
              "      <td>11</td>\n",
              "      <td>0</td>\n",
              "    </tr>\n",
              "    <tr>\n",
              "      <th>4855</th>\n",
              "      <td>1974</td>\n",
              "      <td>PhD</td>\n",
              "      <td>Together</td>\n",
              "      <td>30351.0</td>\n",
              "      <td>1</td>\n",
              "      <td>0</td>\n",
              "      <td>06-06-2013</td>\n",
              "      <td>19</td>\n",
              "      <td>14</td>\n",
              "      <td>0</td>\n",
              "      <td>24</td>\n",
              "      <td>3</td>\n",
              "      <td>3</td>\n",
              "      <td>2</td>\n",
              "      <td>1</td>\n",
              "      <td>3</td>\n",
              "      <td>0</td>\n",
              "      <td>2</td>\n",
              "      <td>9</td>\n",
              "      <td>0</td>\n",
              "      <td>0</td>\n",
              "      <td>0</td>\n",
              "      <td>0</td>\n",
              "      <td>0</td>\n",
              "      <td>0</td>\n",
              "      <td>3</td>\n",
              "      <td>11</td>\n",
              "      <td>1</td>\n",
              "    </tr>\n",
              "    <tr>\n",
              "      <th>5899</th>\n",
              "      <td>1950</td>\n",
              "      <td>PhD</td>\n",
              "      <td>Together</td>\n",
              "      <td>5648.0</td>\n",
              "      <td>1</td>\n",
              "      <td>1</td>\n",
              "      <td>13-03-2014</td>\n",
              "      <td>68</td>\n",
              "      <td>28</td>\n",
              "      <td>0</td>\n",
              "      <td>6</td>\n",
              "      <td>1</td>\n",
              "      <td>1</td>\n",
              "      <td>13</td>\n",
              "      <td>1</td>\n",
              "      <td>1</td>\n",
              "      <td>0</td>\n",
              "      <td>0</td>\n",
              "      <td>20</td>\n",
              "      <td>1</td>\n",
              "      <td>0</td>\n",
              "      <td>0</td>\n",
              "      <td>0</td>\n",
              "      <td>0</td>\n",
              "      <td>0</td>\n",
              "      <td>3</td>\n",
              "      <td>11</td>\n",
              "      <td>0</td>\n",
              "    </tr>\n",
              "  </tbody>\n",
              "</table>\n",
              "</div>"
            ],
            "text/plain": [
              "      Year_Birth   Education Marital_Status  ...  Z_CostContact  Z_Revenue  Response\n",
              "ID                                           ...                                    \n",
              "5524        1957  Graduation         Single  ...              3         11         1\n",
              "2174        1954  Graduation         Single  ...              3         11         0\n",
              "4141        1965  Graduation       Together  ...              3         11         0\n",
              "6182        1984  Graduation       Together  ...              3         11         0\n",
              "5324        1981         PhD        Married  ...              3         11         0\n",
              "7446        1967      Master       Together  ...              3         11         0\n",
              "965         1971  Graduation       Divorced  ...              3         11         0\n",
              "6177        1985         PhD        Married  ...              3         11         0\n",
              "4855        1974         PhD       Together  ...              3         11         1\n",
              "5899        1950         PhD       Together  ...              3         11         0\n",
              "\n",
              "[10 rows x 28 columns]"
            ]
          },
          "metadata": {},
          "execution_count": 54
        }
      ]
    },
    {
      "cell_type": "markdown",
      "metadata": {
        "id": "yc1z_BIWx1AO"
      },
      "source": [
        "Here we can see a preview of our columns and the first 10 entries in our dataset."
      ]
    },
    {
      "cell_type": "code",
      "metadata": {
        "colab": {
          "base_uri": "https://localhost:8080/"
        },
        "id": "EmKwwyVwcm9T",
        "outputId": "5e02dec5-2008-4fdd-a1fb-f06a77ce9e0f"
      },
      "source": [
        "marketing.info()"
      ],
      "execution_count": null,
      "outputs": [
        {
          "output_type": "stream",
          "name": "stdout",
          "text": [
            "<class 'pandas.core.frame.DataFrame'>\n",
            "Int64Index: 2240 entries, 5524 to 9405\n",
            "Data columns (total 28 columns):\n",
            " #   Column               Non-Null Count  Dtype  \n",
            "---  ------               --------------  -----  \n",
            " 0   Year_Birth           2240 non-null   int64  \n",
            " 1   Education            2240 non-null   object \n",
            " 2   Marital_Status       2240 non-null   object \n",
            " 3   Income               2216 non-null   float64\n",
            " 4   Kidhome              2240 non-null   int64  \n",
            " 5   Teenhome             2240 non-null   int64  \n",
            " 6   Dt_Customer          2240 non-null   object \n",
            " 7   Recency              2240 non-null   int64  \n",
            " 8   MntWines             2240 non-null   int64  \n",
            " 9   MntFruits            2240 non-null   int64  \n",
            " 10  MntMeatProducts      2240 non-null   int64  \n",
            " 11  MntFishProducts      2240 non-null   int64  \n",
            " 12  MntSweetProducts     2240 non-null   int64  \n",
            " 13  MntGoldProds         2240 non-null   int64  \n",
            " 14  NumDealsPurchases    2240 non-null   int64  \n",
            " 15  NumWebPurchases      2240 non-null   int64  \n",
            " 16  NumCatalogPurchases  2240 non-null   int64  \n",
            " 17  NumStorePurchases    2240 non-null   int64  \n",
            " 18  NumWebVisitsMonth    2240 non-null   int64  \n",
            " 19  AcceptedCmp3         2240 non-null   int64  \n",
            " 20  AcceptedCmp4         2240 non-null   int64  \n",
            " 21  AcceptedCmp5         2240 non-null   int64  \n",
            " 22  AcceptedCmp1         2240 non-null   int64  \n",
            " 23  AcceptedCmp2         2240 non-null   int64  \n",
            " 24  Complain             2240 non-null   int64  \n",
            " 25  Z_CostContact        2240 non-null   int64  \n",
            " 26  Z_Revenue            2240 non-null   int64  \n",
            " 27  Response             2240 non-null   int64  \n",
            "dtypes: float64(1), int64(24), object(3)\n",
            "memory usage: 507.5+ KB\n"
          ]
        }
      ]
    },
    {
      "cell_type": "markdown",
      "metadata": {
        "id": "KsGlbj6NygDa"
      },
      "source": [
        "Above is the overall information of dataset, stating the columns(28), with 2240 entries, and also we can see the data types."
      ]
    },
    {
      "cell_type": "code",
      "metadata": {
        "colab": {
          "base_uri": "https://localhost:8080/",
          "height": 320
        },
        "id": "WF4d9pEoc0Yb",
        "outputId": "661bf045-e6cd-4513-9bd3-e814688810c6"
      },
      "source": [
        "marketing.describe()"
      ],
      "execution_count": null,
      "outputs": [
        {
          "output_type": "execute_result",
          "data": {
            "text/html": [
              "<div>\n",
              "<style scoped>\n",
              "    .dataframe tbody tr th:only-of-type {\n",
              "        vertical-align: middle;\n",
              "    }\n",
              "\n",
              "    .dataframe tbody tr th {\n",
              "        vertical-align: top;\n",
              "    }\n",
              "\n",
              "    .dataframe thead th {\n",
              "        text-align: right;\n",
              "    }\n",
              "</style>\n",
              "<table border=\"1\" class=\"dataframe\">\n",
              "  <thead>\n",
              "    <tr style=\"text-align: right;\">\n",
              "      <th></th>\n",
              "      <th>Year_Birth</th>\n",
              "      <th>Income</th>\n",
              "      <th>Kidhome</th>\n",
              "      <th>Teenhome</th>\n",
              "      <th>Recency</th>\n",
              "      <th>MntWines</th>\n",
              "      <th>MntFruits</th>\n",
              "      <th>MntMeatProducts</th>\n",
              "      <th>MntFishProducts</th>\n",
              "      <th>MntSweetProducts</th>\n",
              "      <th>MntGoldProds</th>\n",
              "      <th>NumDealsPurchases</th>\n",
              "      <th>NumWebPurchases</th>\n",
              "      <th>NumCatalogPurchases</th>\n",
              "      <th>NumStorePurchases</th>\n",
              "      <th>NumWebVisitsMonth</th>\n",
              "      <th>AcceptedCmp3</th>\n",
              "      <th>AcceptedCmp4</th>\n",
              "      <th>AcceptedCmp5</th>\n",
              "      <th>AcceptedCmp1</th>\n",
              "      <th>AcceptedCmp2</th>\n",
              "      <th>Complain</th>\n",
              "      <th>Z_CostContact</th>\n",
              "      <th>Z_Revenue</th>\n",
              "      <th>Response</th>\n",
              "    </tr>\n",
              "  </thead>\n",
              "  <tbody>\n",
              "    <tr>\n",
              "      <th>count</th>\n",
              "      <td>2240.000000</td>\n",
              "      <td>2216.000000</td>\n",
              "      <td>2240.000000</td>\n",
              "      <td>2240.000000</td>\n",
              "      <td>2240.000000</td>\n",
              "      <td>2240.000000</td>\n",
              "      <td>2240.000000</td>\n",
              "      <td>2240.000000</td>\n",
              "      <td>2240.000000</td>\n",
              "      <td>2240.000000</td>\n",
              "      <td>2240.000000</td>\n",
              "      <td>2240.000000</td>\n",
              "      <td>2240.000000</td>\n",
              "      <td>2240.000000</td>\n",
              "      <td>2240.000000</td>\n",
              "      <td>2240.000000</td>\n",
              "      <td>2240.000000</td>\n",
              "      <td>2240.000000</td>\n",
              "      <td>2240.000000</td>\n",
              "      <td>2240.000000</td>\n",
              "      <td>2240.000000</td>\n",
              "      <td>2240.000000</td>\n",
              "      <td>2240.0</td>\n",
              "      <td>2240.0</td>\n",
              "      <td>2240.000000</td>\n",
              "    </tr>\n",
              "    <tr>\n",
              "      <th>mean</th>\n",
              "      <td>1968.805804</td>\n",
              "      <td>52247.251354</td>\n",
              "      <td>0.444196</td>\n",
              "      <td>0.506250</td>\n",
              "      <td>49.109375</td>\n",
              "      <td>303.935714</td>\n",
              "      <td>26.302232</td>\n",
              "      <td>166.950000</td>\n",
              "      <td>37.525446</td>\n",
              "      <td>27.062946</td>\n",
              "      <td>44.021875</td>\n",
              "      <td>2.325000</td>\n",
              "      <td>4.084821</td>\n",
              "      <td>2.662054</td>\n",
              "      <td>5.790179</td>\n",
              "      <td>5.316518</td>\n",
              "      <td>0.072768</td>\n",
              "      <td>0.074554</td>\n",
              "      <td>0.072768</td>\n",
              "      <td>0.064286</td>\n",
              "      <td>0.013393</td>\n",
              "      <td>0.009375</td>\n",
              "      <td>3.0</td>\n",
              "      <td>11.0</td>\n",
              "      <td>0.149107</td>\n",
              "    </tr>\n",
              "    <tr>\n",
              "      <th>std</th>\n",
              "      <td>11.984069</td>\n",
              "      <td>25173.076661</td>\n",
              "      <td>0.538398</td>\n",
              "      <td>0.544538</td>\n",
              "      <td>28.962453</td>\n",
              "      <td>336.597393</td>\n",
              "      <td>39.773434</td>\n",
              "      <td>225.715373</td>\n",
              "      <td>54.628979</td>\n",
              "      <td>41.280498</td>\n",
              "      <td>52.167439</td>\n",
              "      <td>1.932238</td>\n",
              "      <td>2.778714</td>\n",
              "      <td>2.923101</td>\n",
              "      <td>3.250958</td>\n",
              "      <td>2.426645</td>\n",
              "      <td>0.259813</td>\n",
              "      <td>0.262728</td>\n",
              "      <td>0.259813</td>\n",
              "      <td>0.245316</td>\n",
              "      <td>0.114976</td>\n",
              "      <td>0.096391</td>\n",
              "      <td>0.0</td>\n",
              "      <td>0.0</td>\n",
              "      <td>0.356274</td>\n",
              "    </tr>\n",
              "    <tr>\n",
              "      <th>min</th>\n",
              "      <td>1893.000000</td>\n",
              "      <td>1730.000000</td>\n",
              "      <td>0.000000</td>\n",
              "      <td>0.000000</td>\n",
              "      <td>0.000000</td>\n",
              "      <td>0.000000</td>\n",
              "      <td>0.000000</td>\n",
              "      <td>0.000000</td>\n",
              "      <td>0.000000</td>\n",
              "      <td>0.000000</td>\n",
              "      <td>0.000000</td>\n",
              "      <td>0.000000</td>\n",
              "      <td>0.000000</td>\n",
              "      <td>0.000000</td>\n",
              "      <td>0.000000</td>\n",
              "      <td>0.000000</td>\n",
              "      <td>0.000000</td>\n",
              "      <td>0.000000</td>\n",
              "      <td>0.000000</td>\n",
              "      <td>0.000000</td>\n",
              "      <td>0.000000</td>\n",
              "      <td>0.000000</td>\n",
              "      <td>3.0</td>\n",
              "      <td>11.0</td>\n",
              "      <td>0.000000</td>\n",
              "    </tr>\n",
              "    <tr>\n",
              "      <th>25%</th>\n",
              "      <td>1959.000000</td>\n",
              "      <td>35303.000000</td>\n",
              "      <td>0.000000</td>\n",
              "      <td>0.000000</td>\n",
              "      <td>24.000000</td>\n",
              "      <td>23.750000</td>\n",
              "      <td>1.000000</td>\n",
              "      <td>16.000000</td>\n",
              "      <td>3.000000</td>\n",
              "      <td>1.000000</td>\n",
              "      <td>9.000000</td>\n",
              "      <td>1.000000</td>\n",
              "      <td>2.000000</td>\n",
              "      <td>0.000000</td>\n",
              "      <td>3.000000</td>\n",
              "      <td>3.000000</td>\n",
              "      <td>0.000000</td>\n",
              "      <td>0.000000</td>\n",
              "      <td>0.000000</td>\n",
              "      <td>0.000000</td>\n",
              "      <td>0.000000</td>\n",
              "      <td>0.000000</td>\n",
              "      <td>3.0</td>\n",
              "      <td>11.0</td>\n",
              "      <td>0.000000</td>\n",
              "    </tr>\n",
              "    <tr>\n",
              "      <th>50%</th>\n",
              "      <td>1970.000000</td>\n",
              "      <td>51381.500000</td>\n",
              "      <td>0.000000</td>\n",
              "      <td>0.000000</td>\n",
              "      <td>49.000000</td>\n",
              "      <td>173.500000</td>\n",
              "      <td>8.000000</td>\n",
              "      <td>67.000000</td>\n",
              "      <td>12.000000</td>\n",
              "      <td>8.000000</td>\n",
              "      <td>24.000000</td>\n",
              "      <td>2.000000</td>\n",
              "      <td>4.000000</td>\n",
              "      <td>2.000000</td>\n",
              "      <td>5.000000</td>\n",
              "      <td>6.000000</td>\n",
              "      <td>0.000000</td>\n",
              "      <td>0.000000</td>\n",
              "      <td>0.000000</td>\n",
              "      <td>0.000000</td>\n",
              "      <td>0.000000</td>\n",
              "      <td>0.000000</td>\n",
              "      <td>3.0</td>\n",
              "      <td>11.0</td>\n",
              "      <td>0.000000</td>\n",
              "    </tr>\n",
              "    <tr>\n",
              "      <th>75%</th>\n",
              "      <td>1977.000000</td>\n",
              "      <td>68522.000000</td>\n",
              "      <td>1.000000</td>\n",
              "      <td>1.000000</td>\n",
              "      <td>74.000000</td>\n",
              "      <td>504.250000</td>\n",
              "      <td>33.000000</td>\n",
              "      <td>232.000000</td>\n",
              "      <td>50.000000</td>\n",
              "      <td>33.000000</td>\n",
              "      <td>56.000000</td>\n",
              "      <td>3.000000</td>\n",
              "      <td>6.000000</td>\n",
              "      <td>4.000000</td>\n",
              "      <td>8.000000</td>\n",
              "      <td>7.000000</td>\n",
              "      <td>0.000000</td>\n",
              "      <td>0.000000</td>\n",
              "      <td>0.000000</td>\n",
              "      <td>0.000000</td>\n",
              "      <td>0.000000</td>\n",
              "      <td>0.000000</td>\n",
              "      <td>3.0</td>\n",
              "      <td>11.0</td>\n",
              "      <td>0.000000</td>\n",
              "    </tr>\n",
              "    <tr>\n",
              "      <th>max</th>\n",
              "      <td>1996.000000</td>\n",
              "      <td>666666.000000</td>\n",
              "      <td>2.000000</td>\n",
              "      <td>2.000000</td>\n",
              "      <td>99.000000</td>\n",
              "      <td>1493.000000</td>\n",
              "      <td>199.000000</td>\n",
              "      <td>1725.000000</td>\n",
              "      <td>259.000000</td>\n",
              "      <td>263.000000</td>\n",
              "      <td>362.000000</td>\n",
              "      <td>15.000000</td>\n",
              "      <td>27.000000</td>\n",
              "      <td>28.000000</td>\n",
              "      <td>13.000000</td>\n",
              "      <td>20.000000</td>\n",
              "      <td>1.000000</td>\n",
              "      <td>1.000000</td>\n",
              "      <td>1.000000</td>\n",
              "      <td>1.000000</td>\n",
              "      <td>1.000000</td>\n",
              "      <td>1.000000</td>\n",
              "      <td>3.0</td>\n",
              "      <td>11.0</td>\n",
              "      <td>1.000000</td>\n",
              "    </tr>\n",
              "  </tbody>\n",
              "</table>\n",
              "</div>"
            ],
            "text/plain": [
              "        Year_Birth         Income  ...  Z_Revenue     Response\n",
              "count  2240.000000    2216.000000  ...     2240.0  2240.000000\n",
              "mean   1968.805804   52247.251354  ...       11.0     0.149107\n",
              "std      11.984069   25173.076661  ...        0.0     0.356274\n",
              "min    1893.000000    1730.000000  ...       11.0     0.000000\n",
              "25%    1959.000000   35303.000000  ...       11.0     0.000000\n",
              "50%    1970.000000   51381.500000  ...       11.0     0.000000\n",
              "75%    1977.000000   68522.000000  ...       11.0     0.000000\n",
              "max    1996.000000  666666.000000  ...       11.0     1.000000\n",
              "\n",
              "[8 rows x 25 columns]"
            ]
          },
          "metadata": {},
          "execution_count": 56
        }
      ]
    },
    {
      "cell_type": "markdown",
      "metadata": {
        "id": "HBGbxOFa0Jh1"
      },
      "source": [
        "A described view of our table"
      ]
    },
    {
      "cell_type": "code",
      "metadata": {
        "colab": {
          "base_uri": "https://localhost:8080/"
        },
        "id": "dOFHHm_zc5LS",
        "outputId": "ee455bf1-d27b-4bd0-dc49-cffacd757565"
      },
      "source": [
        "marketing.size"
      ],
      "execution_count": null,
      "outputs": [
        {
          "output_type": "execute_result",
          "data": {
            "text/plain": [
              "62720"
            ]
          },
          "metadata": {},
          "execution_count": 57
        }
      ]
    },
    {
      "cell_type": "markdown",
      "metadata": {
        "id": "uFaM7DwP0QQ1"
      },
      "source": [
        "A check on the size of our table"
      ]
    },
    {
      "cell_type": "code",
      "metadata": {
        "colab": {
          "base_uri": "https://localhost:8080/"
        },
        "id": "q2weGh7fc8WR",
        "outputId": "66c873d0-deff-44ca-d3c3-f73494864f89"
      },
      "source": [
        "marketing.shape"
      ],
      "execution_count": null,
      "outputs": [
        {
          "output_type": "execute_result",
          "data": {
            "text/plain": [
              "(2240, 28)"
            ]
          },
          "metadata": {},
          "execution_count": 58
        }
      ]
    },
    {
      "cell_type": "markdown",
      "metadata": {
        "id": "JRSOQx2F0VSE"
      },
      "source": [
        "A check on the shape of our table"
      ]
    },
    {
      "cell_type": "code",
      "metadata": {
        "colab": {
          "base_uri": "https://localhost:8080/"
        },
        "id": "YNm-ss66svjA",
        "outputId": "d4395c17-367b-45e1-801d-28cacc7b4f7a"
      },
      "source": [
        "marketing.isnull().sum()"
      ],
      "execution_count": null,
      "outputs": [
        {
          "output_type": "execute_result",
          "data": {
            "text/plain": [
              "Year_Birth              0\n",
              "Education               0\n",
              "Marital_Status          0\n",
              "Income                 24\n",
              "Kidhome                 0\n",
              "Teenhome                0\n",
              "Dt_Customer             0\n",
              "Recency                 0\n",
              "MntWines                0\n",
              "MntFruits               0\n",
              "MntMeatProducts         0\n",
              "MntFishProducts         0\n",
              "MntSweetProducts        0\n",
              "MntGoldProds            0\n",
              "NumDealsPurchases       0\n",
              "NumWebPurchases         0\n",
              "NumCatalogPurchases     0\n",
              "NumStorePurchases       0\n",
              "NumWebVisitsMonth       0\n",
              "AcceptedCmp3            0\n",
              "AcceptedCmp4            0\n",
              "AcceptedCmp5            0\n",
              "AcceptedCmp1            0\n",
              "AcceptedCmp2            0\n",
              "Complain                0\n",
              "Z_CostContact           0\n",
              "Z_Revenue               0\n",
              "Response                0\n",
              "dtype: int64"
            ]
          },
          "metadata": {},
          "execution_count": 59
        }
      ]
    },
    {
      "cell_type": "markdown",
      "metadata": {
        "id": "3kfzTBqw0ZGu"
      },
      "source": [
        "From the check done above we can see we have 24 null values"
      ]
    },
    {
      "cell_type": "code",
      "metadata": {
        "colab": {
          "base_uri": "https://localhost:8080/"
        },
        "id": "KNkJBQEVs3GW",
        "outputId": "0a00063b-e0d3-46c4-cc34-01e77883b704"
      },
      "source": [
        "marketing.duplicated().sum()"
      ],
      "execution_count": null,
      "outputs": [
        {
          "output_type": "execute_result",
          "data": {
            "text/plain": [
              "182"
            ]
          },
          "metadata": {},
          "execution_count": 60
        }
      ]
    },
    {
      "cell_type": "markdown",
      "metadata": {
        "id": "ejYNMlve0j6y"
      },
      "source": [
        "Our dataset has 182 duplicated values"
      ]
    },
    {
      "cell_type": "markdown",
      "metadata": {
        "id": "mEQpEJGG0_qk"
      },
      "source": [
        "## 1.4  Data Cleaning"
      ]
    },
    {
      "cell_type": "markdown",
      "metadata": {
        "id": "BJzjcKVH1cR8"
      },
      "source": [
        "### Validity"
      ]
    },
    {
      "cell_type": "code",
      "metadata": {
        "id": "s9V-kBEM1gTW"
      },
      "source": [
        "# Procedure 1\n",
        "# Data Cleaning Action: Dropping the \"Year_Birth\" column\n",
        "# Explanation: It is irrelevant to our analysis.\n",
        "\n",
        "marketing_new = marketing.drop(['Year_Birth'], axis=1, inplace=True)\n",
        "marketing_new"
      ],
      "execution_count": null,
      "outputs": []
    },
    {
      "cell_type": "code",
      "metadata": {
        "id": "wVwEVQCMOKJF"
      },
      "source": [
        "# Procedure 2\n",
        "# Data Cleaning Action: Dropping the \"Dt_customer\" column\n",
        "# Explanation: It is irrelevant to our analysis.\n",
        "\n",
        "marketing_new = marketing.drop(['Dt_Customer'], axis=1, inplace=True)\n",
        "marketing_new"
      ],
      "execution_count": null,
      "outputs": []
    },
    {
      "cell_type": "code",
      "metadata": {
        "id": "_D-EBBm4PHgV"
      },
      "source": [
        "# Procedure 3\n",
        "# Data Cleaning Action: Joining all the purchases columns\n",
        "# Explanation: This is to help us easily manipulate all the purchases under one general column called purchases\n",
        "\n",
        "purchases1 = marketing['NumDealsPurchases'] + marketing['NumWebPurchases'] + marketing['NumCatalogPurchases'] + marketing['NumStorePurchases']\n",
        "marketing['number_purchases'] = purchases1"
      ],
      "execution_count": null,
      "outputs": []
    },
    {
      "cell_type": "code",
      "metadata": {
        "id": "-Ww8Qqa8T5Dn"
      },
      "source": [
        "# Procedure 4\n",
        "# Data Cleaning Action: Joining all the products columns\n",
        "# Explanation: This is to help us easily manipulate all the products under one general column called total_spent\n",
        "\n",
        "total_spent1 = marketing['MntWines'] + marketing['MntFruits'] + marketing['MntMeatProducts'] + marketing['MntFishProducts'] + marketing['MntSweetProducts'] + marketing['MntGoldProds']\n",
        "marketing['total_spent'] = total_spent1"
      ],
      "execution_count": null,
      "outputs": []
    },
    {
      "cell_type": "code",
      "metadata": {
        "id": "SiW0iGtET_Pn"
      },
      "source": [
        "# Procedure 5\n",
        "# Data Cleaning Action: Joining all the purchases columns\n",
        "# Explanation: This is to help us easily manipulate all the children under one general column called children\n",
        "children1 = marketing['Kidhome'] + marketing['Teenhome'] \n",
        "marketing['children'] = children1"
      ],
      "execution_count": null,
      "outputs": []
    },
    {
      "cell_type": "code",
      "metadata": {
        "id": "rNkoi4YkUFXx"
      },
      "source": [
        "# Procedure 6\n",
        "# Data Cleaning Action: Joining all the purchases columns\n",
        "# Explanation: This is to help us easily manipulate all the luxuries under one general column called luxuries.\n",
        "luxuries1 = marketing['MntWines'] + marketing['MntSweetProducts'] + marketing['MntGoldProds'] \n",
        "marketing['luxuries'] = luxuries1"
      ],
      "execution_count": null,
      "outputs": []
    },
    {
      "cell_type": "markdown",
      "metadata": {
        "id": "mC0BnlC8FJep"
      },
      "source": [
        "Since we have combined our four Purchases columns we proceeded to drop them because now they are under one purchase column."
      ]
    },
    {
      "cell_type": "code",
      "metadata": {
        "id": "OzkILtPUToF1"
      },
      "source": [
        "# Procedure 7\n",
        "# Data Cleaning Action: Dropping the \"NumDealsPurchases\" column\n",
        "# Explanation: It's an unneccessary column as its count is already catered for in the purchases column\n",
        "\n",
        "marketing_new = marketing.drop(['NumDealsPurchases'], axis=1, inplace=True)\n",
        "marketing_new"
      ],
      "execution_count": null,
      "outputs": []
    },
    {
      "cell_type": "code",
      "metadata": {
        "id": "2ZpqGS3sTqvd"
      },
      "source": [
        "# Procedure 8\n",
        "# Data Cleaning Action: Dropping the \"NumWebPurchases\" column\n",
        "# Explanation: It's an unneccessary column as its count is already catered for in the purchases column\n",
        "\n",
        "marketing_new = marketing.drop(['NumWebPurchases'], axis=1, inplace=True)\n",
        "marketing_new"
      ],
      "execution_count": null,
      "outputs": []
    },
    {
      "cell_type": "code",
      "metadata": {
        "id": "lDZoEhuJTuLX"
      },
      "source": [
        "# Procedure 9\n",
        "# Data Cleaning Action: Dropping the \"NumCatalogPurchases\" column\n",
        "# Explanation: It's an unneccessary column as its count is already catered for in the purchases column\n",
        "\n",
        "\n",
        "marketing_new = marketing.drop(['NumCatalogPurchases'], axis=1, inplace=True)\n",
        "marketing_new"
      ],
      "execution_count": null,
      "outputs": []
    },
    {
      "cell_type": "code",
      "metadata": {
        "id": "1wBLuhliTjvE"
      },
      "source": [
        "# Procedure 10\n",
        "# Data Cleaning Action: Dropping the \"NumStorePurchases\" column\n",
        "# Explanation: It's an unneccessary column as its count is already catered for in the purchases column\n",
        "\n",
        "\n",
        "marketing_new = marketing.drop(['NumStorePurchases'], axis=1, inplace=True)\n",
        "marketing_new"
      ],
      "execution_count": null,
      "outputs": []
    },
    {
      "cell_type": "code",
      "metadata": {
        "id": "Xs8mpYh8URug"
      },
      "source": [
        "# Procedure 11\n",
        "# Data Cleaning Action: Joining the MntFruits, MntMeatProducts, MntFishProducts columns\n",
        "# Explanation: This is to help us easily work with all the food products under one column called \"food\"\n",
        "\n",
        "food1 = marketing['MntFruits'] + marketing['MntMeatProducts'] + marketing['MntFishProducts']\n",
        "marketing['food'] = food1"
      ],
      "execution_count": null,
      "outputs": []
    },
    {
      "cell_type": "code",
      "metadata": {
        "colab": {
          "base_uri": "https://localhost:8080/",
          "height": 258
        },
        "id": "yW2OQalQOzqF",
        "outputId": "f10afeda-065b-4998-c52a-c6be7315ae29"
      },
      "source": [
        "# Previewing our table\n",
        "marketing.head(5)"
      ],
      "execution_count": null,
      "outputs": [
        {
          "output_type": "execute_result",
          "data": {
            "text/html": [
              "<div>\n",
              "<style scoped>\n",
              "    .dataframe tbody tr th:only-of-type {\n",
              "        vertical-align: middle;\n",
              "    }\n",
              "\n",
              "    .dataframe tbody tr th {\n",
              "        vertical-align: top;\n",
              "    }\n",
              "\n",
              "    .dataframe thead th {\n",
              "        text-align: right;\n",
              "    }\n",
              "</style>\n",
              "<table border=\"1\" class=\"dataframe\">\n",
              "  <thead>\n",
              "    <tr style=\"text-align: right;\">\n",
              "      <th></th>\n",
              "      <th>Education</th>\n",
              "      <th>Marital_Status</th>\n",
              "      <th>Income</th>\n",
              "      <th>Kidhome</th>\n",
              "      <th>Teenhome</th>\n",
              "      <th>Recency</th>\n",
              "      <th>MntWines</th>\n",
              "      <th>MntFruits</th>\n",
              "      <th>MntMeatProducts</th>\n",
              "      <th>MntFishProducts</th>\n",
              "      <th>MntSweetProducts</th>\n",
              "      <th>MntGoldProds</th>\n",
              "      <th>NumWebVisitsMonth</th>\n",
              "      <th>AcceptedCmp3</th>\n",
              "      <th>AcceptedCmp4</th>\n",
              "      <th>AcceptedCmp5</th>\n",
              "      <th>AcceptedCmp1</th>\n",
              "      <th>AcceptedCmp2</th>\n",
              "      <th>Complain</th>\n",
              "      <th>Z_CostContact</th>\n",
              "      <th>Z_Revenue</th>\n",
              "      <th>Response</th>\n",
              "      <th>number_purchases</th>\n",
              "      <th>total_spent</th>\n",
              "      <th>children</th>\n",
              "      <th>luxuries</th>\n",
              "      <th>food</th>\n",
              "    </tr>\n",
              "    <tr>\n",
              "      <th>ID</th>\n",
              "      <th></th>\n",
              "      <th></th>\n",
              "      <th></th>\n",
              "      <th></th>\n",
              "      <th></th>\n",
              "      <th></th>\n",
              "      <th></th>\n",
              "      <th></th>\n",
              "      <th></th>\n",
              "      <th></th>\n",
              "      <th></th>\n",
              "      <th></th>\n",
              "      <th></th>\n",
              "      <th></th>\n",
              "      <th></th>\n",
              "      <th></th>\n",
              "      <th></th>\n",
              "      <th></th>\n",
              "      <th></th>\n",
              "      <th></th>\n",
              "      <th></th>\n",
              "      <th></th>\n",
              "      <th></th>\n",
              "      <th></th>\n",
              "      <th></th>\n",
              "      <th></th>\n",
              "      <th></th>\n",
              "    </tr>\n",
              "  </thead>\n",
              "  <tbody>\n",
              "    <tr>\n",
              "      <th>5524</th>\n",
              "      <td>Graduation</td>\n",
              "      <td>Single</td>\n",
              "      <td>58138.0</td>\n",
              "      <td>0</td>\n",
              "      <td>0</td>\n",
              "      <td>58</td>\n",
              "      <td>635</td>\n",
              "      <td>88</td>\n",
              "      <td>546</td>\n",
              "      <td>172</td>\n",
              "      <td>88</td>\n",
              "      <td>88</td>\n",
              "      <td>7</td>\n",
              "      <td>0</td>\n",
              "      <td>0</td>\n",
              "      <td>0</td>\n",
              "      <td>0</td>\n",
              "      <td>0</td>\n",
              "      <td>0</td>\n",
              "      <td>3</td>\n",
              "      <td>11</td>\n",
              "      <td>1</td>\n",
              "      <td>25</td>\n",
              "      <td>1617</td>\n",
              "      <td>0</td>\n",
              "      <td>811</td>\n",
              "      <td>806</td>\n",
              "    </tr>\n",
              "    <tr>\n",
              "      <th>2174</th>\n",
              "      <td>Graduation</td>\n",
              "      <td>Single</td>\n",
              "      <td>46344.0</td>\n",
              "      <td>1</td>\n",
              "      <td>1</td>\n",
              "      <td>38</td>\n",
              "      <td>11</td>\n",
              "      <td>1</td>\n",
              "      <td>6</td>\n",
              "      <td>2</td>\n",
              "      <td>1</td>\n",
              "      <td>6</td>\n",
              "      <td>5</td>\n",
              "      <td>0</td>\n",
              "      <td>0</td>\n",
              "      <td>0</td>\n",
              "      <td>0</td>\n",
              "      <td>0</td>\n",
              "      <td>0</td>\n",
              "      <td>3</td>\n",
              "      <td>11</td>\n",
              "      <td>0</td>\n",
              "      <td>6</td>\n",
              "      <td>27</td>\n",
              "      <td>2</td>\n",
              "      <td>18</td>\n",
              "      <td>9</td>\n",
              "    </tr>\n",
              "    <tr>\n",
              "      <th>4141</th>\n",
              "      <td>Graduation</td>\n",
              "      <td>Together</td>\n",
              "      <td>71613.0</td>\n",
              "      <td>0</td>\n",
              "      <td>0</td>\n",
              "      <td>26</td>\n",
              "      <td>426</td>\n",
              "      <td>49</td>\n",
              "      <td>127</td>\n",
              "      <td>111</td>\n",
              "      <td>21</td>\n",
              "      <td>42</td>\n",
              "      <td>4</td>\n",
              "      <td>0</td>\n",
              "      <td>0</td>\n",
              "      <td>0</td>\n",
              "      <td>0</td>\n",
              "      <td>0</td>\n",
              "      <td>0</td>\n",
              "      <td>3</td>\n",
              "      <td>11</td>\n",
              "      <td>0</td>\n",
              "      <td>21</td>\n",
              "      <td>776</td>\n",
              "      <td>0</td>\n",
              "      <td>489</td>\n",
              "      <td>287</td>\n",
              "    </tr>\n",
              "    <tr>\n",
              "      <th>6182</th>\n",
              "      <td>Graduation</td>\n",
              "      <td>Together</td>\n",
              "      <td>26646.0</td>\n",
              "      <td>1</td>\n",
              "      <td>0</td>\n",
              "      <td>26</td>\n",
              "      <td>11</td>\n",
              "      <td>4</td>\n",
              "      <td>20</td>\n",
              "      <td>10</td>\n",
              "      <td>3</td>\n",
              "      <td>5</td>\n",
              "      <td>6</td>\n",
              "      <td>0</td>\n",
              "      <td>0</td>\n",
              "      <td>0</td>\n",
              "      <td>0</td>\n",
              "      <td>0</td>\n",
              "      <td>0</td>\n",
              "      <td>3</td>\n",
              "      <td>11</td>\n",
              "      <td>0</td>\n",
              "      <td>8</td>\n",
              "      <td>53</td>\n",
              "      <td>1</td>\n",
              "      <td>19</td>\n",
              "      <td>34</td>\n",
              "    </tr>\n",
              "    <tr>\n",
              "      <th>5324</th>\n",
              "      <td>PhD</td>\n",
              "      <td>Married</td>\n",
              "      <td>58293.0</td>\n",
              "      <td>1</td>\n",
              "      <td>0</td>\n",
              "      <td>94</td>\n",
              "      <td>173</td>\n",
              "      <td>43</td>\n",
              "      <td>118</td>\n",
              "      <td>46</td>\n",
              "      <td>27</td>\n",
              "      <td>15</td>\n",
              "      <td>5</td>\n",
              "      <td>0</td>\n",
              "      <td>0</td>\n",
              "      <td>0</td>\n",
              "      <td>0</td>\n",
              "      <td>0</td>\n",
              "      <td>0</td>\n",
              "      <td>3</td>\n",
              "      <td>11</td>\n",
              "      <td>0</td>\n",
              "      <td>19</td>\n",
              "      <td>422</td>\n",
              "      <td>1</td>\n",
              "      <td>215</td>\n",
              "      <td>207</td>\n",
              "    </tr>\n",
              "  </tbody>\n",
              "</table>\n",
              "</div>"
            ],
            "text/plain": [
              "       Education Marital_Status   Income  ...  children  luxuries  food\n",
              "ID                                        ...                          \n",
              "5524  Graduation         Single  58138.0  ...         0       811   806\n",
              "2174  Graduation         Single  46344.0  ...         2        18     9\n",
              "4141  Graduation       Together  71613.0  ...         0       489   287\n",
              "6182  Graduation       Together  26646.0  ...         1        19    34\n",
              "5324         PhD        Married  58293.0  ...         1       215   207\n",
              "\n",
              "[5 rows x 27 columns]"
            ]
          },
          "metadata": {},
          "execution_count": 72
        }
      ]
    },
    {
      "cell_type": "markdown",
      "metadata": {
        "id": "RaRNQpzEPFdB"
      },
      "source": [
        "### Accuracy"
      ]
    },
    {
      "cell_type": "code",
      "metadata": {
        "colab": {
          "base_uri": "https://localhost:8080/",
          "height": 321
        },
        "id": "UlTv7oTHllEO",
        "outputId": "5a71b403-5d4f-4fae-cafd-dab5f1f6baff"
      },
      "source": [
        "# Procedure 1:\n",
        "# Data Cleaning Action: Checking for outliers\n",
        "# Explanation: This will assist us to understand how accurate our data is.\n",
        "# We will first import the matplot library\n",
        "\n",
        "import matplotlib.pyplot as plt \n",
        "% matplotlib inline\n",
        "\n",
        "marketing_matplotlib = marketing.boxplot(column =['Recency','number_purchases', 'Income'], grid = False)\n",
        "marketing_matplotlib;"
      ],
      "execution_count": null,
      "outputs": [
        {
          "output_type": "stream",
          "name": "stderr",
          "text": [
            "/usr/local/lib/python3.7/dist-packages/numpy/core/_asarray.py:83: VisibleDeprecationWarning: Creating an ndarray from ragged nested sequences (which is a list-or-tuple of lists-or-tuples-or ndarrays with different lengths or shapes) is deprecated. If you meant to do this, you must specify 'dtype=object' when creating the ndarray\n",
            "  return array(a, dtype, copy=False, order=order)\n"
          ]
        },
        {
          "output_type": "display_data",
          "data": {
            "image/png": "[encoded data removed]",
            "text/plain": [
              "<Figure size 432x288 with 1 Axes>"
            ]
          },
          "metadata": {
            "needs_background": "light"
          }
        }
      ]
    },
    {
      "cell_type": "markdown",
      "metadata": {
        "id": "5CBHzGisoCqw"
      },
      "source": [
        "We can see that on our income and purchases that there are outliers, but since they are few and  it is reflective of true data so there's no reason why they should  be dropped"
      ]
    },
    {
      "cell_type": "markdown",
      "metadata": {
        "id": "yXXEkB_itskg"
      },
      "source": [
        "### Completeness "
      ]
    },
    {
      "cell_type": "code",
      "metadata": {
        "colab": {
          "base_uri": "https://localhost:8080/"
        },
        "id": "s-az1UIutxsF",
        "outputId": "1b575007-2268-470b-c4b1-f2b07e8efd58"
      },
      "source": [
        "# Procedure 1:\n",
        "# Data Cleaning Action: Checking the count of null values if there is any\n",
        "# Explanation: This will enables us to figure out if the data is complete thus easing manipulation\n",
        "\n",
        "marketing.isnull().sum()\n"
      ],
      "execution_count": null,
      "outputs": [
        {
          "output_type": "execute_result",
          "data": {
            "text/plain": [
              "Education             0\n",
              "Marital_Status        0\n",
              "Income               24\n",
              "Kidhome               0\n",
              "Teenhome              0\n",
              "Recency               0\n",
              "MntWines              0\n",
              "MntFruits             0\n",
              "MntMeatProducts       0\n",
              "MntFishProducts       0\n",
              "MntSweetProducts      0\n",
              "MntGoldProds          0\n",
              "NumWebVisitsMonth     0\n",
              "AcceptedCmp3          0\n",
              "AcceptedCmp4          0\n",
              "AcceptedCmp5          0\n",
              "AcceptedCmp1          0\n",
              "AcceptedCmp2          0\n",
              "Complain              0\n",
              "Z_CostContact         0\n",
              "Z_Revenue             0\n",
              "Response              0\n",
              "number_purchases      0\n",
              "total_spent           0\n",
              "children              0\n",
              "luxuries              0\n",
              "food                  0\n",
              "dtype: int64"
            ]
          },
          "metadata": {},
          "execution_count": 74
        }
      ]
    },
    {
      "cell_type": "markdown",
      "metadata": {
        "id": "ITeTybxDuPHg"
      },
      "source": [
        "From the data above we can see that we have about 24 null values under the income column."
      ]
    },
    {
      "cell_type": "code",
      "metadata": {
        "colab": {
          "base_uri": "https://localhost:8080/"
        },
        "id": "EGVhZhCqu1ZV",
        "outputId": "b9668b77-4fd2-443d-9f50-c28c408591ae"
      },
      "source": [
        "# Procedure 2\n",
        "# Data Cleaning Action: Filling in the null values\n",
        "# Explanation: Finding the mean of the income colume to help us fill in the null values.\n",
        "#\n",
        "income_mean = marketing['Income'].mean()\n",
        "marketing['Income'].fillna(value=income_mean, inplace=True)\n",
        "\n",
        "# Checking if there are no null values now.\n",
        "marketing.isnull().sum()\n"
      ],
      "execution_count": null,
      "outputs": [
        {
          "output_type": "execute_result",
          "data": {
            "text/plain": [
              "Education            0\n",
              "Marital_Status       0\n",
              "Income               0\n",
              "Kidhome              0\n",
              "Teenhome             0\n",
              "Recency              0\n",
              "MntWines             0\n",
              "MntFruits            0\n",
              "MntMeatProducts      0\n",
              "MntFishProducts      0\n",
              "MntSweetProducts     0\n",
              "MntGoldProds         0\n",
              "NumWebVisitsMonth    0\n",
              "AcceptedCmp3         0\n",
              "AcceptedCmp4         0\n",
              "AcceptedCmp5         0\n",
              "AcceptedCmp1         0\n",
              "AcceptedCmp2         0\n",
              "Complain             0\n",
              "Z_CostContact        0\n",
              "Z_Revenue            0\n",
              "Response             0\n",
              "number_purchases     0\n",
              "total_spent          0\n",
              "children             0\n",
              "luxuries             0\n",
              "food                 0\n",
              "dtype: int64"
            ]
          },
          "metadata": {},
          "execution_count": 75
        }
      ]
    },
    {
      "cell_type": "markdown",
      "metadata": {
        "id": "okLjQ0vRxm6o"
      },
      "source": [
        "We can now see that our dataset is clean of null values."
      ]
    },
    {
      "cell_type": "markdown",
      "metadata": {
        "id": "oF2rw3tYyDbB"
      },
      "source": [
        "### Consistency"
      ]
    },
    {
      "cell_type": "code",
      "metadata": {
        "colab": {
          "base_uri": "https://localhost:8080/"
        },
        "id": "ggVG-MKHygA-",
        "outputId": "01969a8b-c8ef-415b-8e41-19362e1ec4c3"
      },
      "source": [
        "# Procedure 1:\n",
        "# Data Cleaning Action: Check for duplicate values.\n",
        "# Explanation: This is to allow us determine data that is duplicated.\n",
        "#\n",
        "marketing_dup= marketing.duplicated().sum()\n",
        "marketing_dup"
      ],
      "execution_count": null,
      "outputs": [
        {
          "output_type": "execute_result",
          "data": {
            "text/plain": [
              "182"
            ]
          },
          "metadata": {},
          "execution_count": 76
        }
      ]
    },
    {
      "cell_type": "code",
      "metadata": {
        "colab": {
          "base_uri": "https://localhost:8080/",
          "height": 258
        },
        "id": "9YygPjBhyrCv",
        "outputId": "60138185-1e47-46bb-d457-ccd1b8912ec0"
      },
      "source": [
        "# Procedure 2:\n",
        "# Data Cleaning Action: Dropping duplicated values if they exist.\n",
        "# Explanation: This is to allow us determine data that is duplicated.\n",
        "#\n",
        "marketing_new = marketing.drop_duplicates(keep=False,inplace=True)\n",
        "marketing.head(5)"
      ],
      "execution_count": null,
      "outputs": [
        {
          "output_type": "execute_result",
          "data": {
            "text/html": [
              "<div>\n",
              "<style scoped>\n",
              "    .dataframe tbody tr th:only-of-type {\n",
              "        vertical-align: middle;\n",
              "    }\n",
              "\n",
              "    .dataframe tbody tr th {\n",
              "        vertical-align: top;\n",
              "    }\n",
              "\n",
              "    .dataframe thead th {\n",
              "        text-align: right;\n",
              "    }\n",
              "</style>\n",
              "<table border=\"1\" class=\"dataframe\">\n",
              "  <thead>\n",
              "    <tr style=\"text-align: right;\">\n",
              "      <th></th>\n",
              "      <th>Education</th>\n",
              "      <th>Marital_Status</th>\n",
              "      <th>Income</th>\n",
              "      <th>Kidhome</th>\n",
              "      <th>Teenhome</th>\n",
              "      <th>Recency</th>\n",
              "      <th>MntWines</th>\n",
              "      <th>MntFruits</th>\n",
              "      <th>MntMeatProducts</th>\n",
              "      <th>MntFishProducts</th>\n",
              "      <th>MntSweetProducts</th>\n",
              "      <th>MntGoldProds</th>\n",
              "      <th>NumWebVisitsMonth</th>\n",
              "      <th>AcceptedCmp3</th>\n",
              "      <th>AcceptedCmp4</th>\n",
              "      <th>AcceptedCmp5</th>\n",
              "      <th>AcceptedCmp1</th>\n",
              "      <th>AcceptedCmp2</th>\n",
              "      <th>Complain</th>\n",
              "      <th>Z_CostContact</th>\n",
              "      <th>Z_Revenue</th>\n",
              "      <th>Response</th>\n",
              "      <th>number_purchases</th>\n",
              "      <th>total_spent</th>\n",
              "      <th>children</th>\n",
              "      <th>luxuries</th>\n",
              "      <th>food</th>\n",
              "    </tr>\n",
              "    <tr>\n",
              "      <th>ID</th>\n",
              "      <th></th>\n",
              "      <th></th>\n",
              "      <th></th>\n",
              "      <th></th>\n",
              "      <th></th>\n",
              "      <th></th>\n",
              "      <th></th>\n",
              "      <th></th>\n",
              "      <th></th>\n",
              "      <th></th>\n",
              "      <th></th>\n",
              "      <th></th>\n",
              "      <th></th>\n",
              "      <th></th>\n",
              "      <th></th>\n",
              "      <th></th>\n",
              "      <th></th>\n",
              "      <th></th>\n",
              "      <th></th>\n",
              "      <th></th>\n",
              "      <th></th>\n",
              "      <th></th>\n",
              "      <th></th>\n",
              "      <th></th>\n",
              "      <th></th>\n",
              "      <th></th>\n",
              "      <th></th>\n",
              "    </tr>\n",
              "  </thead>\n",
              "  <tbody>\n",
              "    <tr>\n",
              "      <th>5524</th>\n",
              "      <td>Graduation</td>\n",
              "      <td>Single</td>\n",
              "      <td>58138.0</td>\n",
              "      <td>0</td>\n",
              "      <td>0</td>\n",
              "      <td>58</td>\n",
              "      <td>635</td>\n",
              "      <td>88</td>\n",
              "      <td>546</td>\n",
              "      <td>172</td>\n",
              "      <td>88</td>\n",
              "      <td>88</td>\n",
              "      <td>7</td>\n",
              "      <td>0</td>\n",
              "      <td>0</td>\n",
              "      <td>0</td>\n",
              "      <td>0</td>\n",
              "      <td>0</td>\n",
              "      <td>0</td>\n",
              "      <td>3</td>\n",
              "      <td>11</td>\n",
              "      <td>1</td>\n",
              "      <td>25</td>\n",
              "      <td>1617</td>\n",
              "      <td>0</td>\n",
              "      <td>811</td>\n",
              "      <td>806</td>\n",
              "    </tr>\n",
              "    <tr>\n",
              "      <th>2174</th>\n",
              "      <td>Graduation</td>\n",
              "      <td>Single</td>\n",
              "      <td>46344.0</td>\n",
              "      <td>1</td>\n",
              "      <td>1</td>\n",
              "      <td>38</td>\n",
              "      <td>11</td>\n",
              "      <td>1</td>\n",
              "      <td>6</td>\n",
              "      <td>2</td>\n",
              "      <td>1</td>\n",
              "      <td>6</td>\n",
              "      <td>5</td>\n",
              "      <td>0</td>\n",
              "      <td>0</td>\n",
              "      <td>0</td>\n",
              "      <td>0</td>\n",
              "      <td>0</td>\n",
              "      <td>0</td>\n",
              "      <td>3</td>\n",
              "      <td>11</td>\n",
              "      <td>0</td>\n",
              "      <td>6</td>\n",
              "      <td>27</td>\n",
              "      <td>2</td>\n",
              "      <td>18</td>\n",
              "      <td>9</td>\n",
              "    </tr>\n",
              "    <tr>\n",
              "      <th>4141</th>\n",
              "      <td>Graduation</td>\n",
              "      <td>Together</td>\n",
              "      <td>71613.0</td>\n",
              "      <td>0</td>\n",
              "      <td>0</td>\n",
              "      <td>26</td>\n",
              "      <td>426</td>\n",
              "      <td>49</td>\n",
              "      <td>127</td>\n",
              "      <td>111</td>\n",
              "      <td>21</td>\n",
              "      <td>42</td>\n",
              "      <td>4</td>\n",
              "      <td>0</td>\n",
              "      <td>0</td>\n",
              "      <td>0</td>\n",
              "      <td>0</td>\n",
              "      <td>0</td>\n",
              "      <td>0</td>\n",
              "      <td>3</td>\n",
              "      <td>11</td>\n",
              "      <td>0</td>\n",
              "      <td>21</td>\n",
              "      <td>776</td>\n",
              "      <td>0</td>\n",
              "      <td>489</td>\n",
              "      <td>287</td>\n",
              "    </tr>\n",
              "    <tr>\n",
              "      <th>6182</th>\n",
              "      <td>Graduation</td>\n",
              "      <td>Together</td>\n",
              "      <td>26646.0</td>\n",
              "      <td>1</td>\n",
              "      <td>0</td>\n",
              "      <td>26</td>\n",
              "      <td>11</td>\n",
              "      <td>4</td>\n",
              "      <td>20</td>\n",
              "      <td>10</td>\n",
              "      <td>3</td>\n",
              "      <td>5</td>\n",
              "      <td>6</td>\n",
              "      <td>0</td>\n",
              "      <td>0</td>\n",
              "      <td>0</td>\n",
              "      <td>0</td>\n",
              "      <td>0</td>\n",
              "      <td>0</td>\n",
              "      <td>3</td>\n",
              "      <td>11</td>\n",
              "      <td>0</td>\n",
              "      <td>8</td>\n",
              "      <td>53</td>\n",
              "      <td>1</td>\n",
              "      <td>19</td>\n",
              "      <td>34</td>\n",
              "    </tr>\n",
              "    <tr>\n",
              "      <th>5324</th>\n",
              "      <td>PhD</td>\n",
              "      <td>Married</td>\n",
              "      <td>58293.0</td>\n",
              "      <td>1</td>\n",
              "      <td>0</td>\n",
              "      <td>94</td>\n",
              "      <td>173</td>\n",
              "      <td>43</td>\n",
              "      <td>118</td>\n",
              "      <td>46</td>\n",
              "      <td>27</td>\n",
              "      <td>15</td>\n",
              "      <td>5</td>\n",
              "      <td>0</td>\n",
              "      <td>0</td>\n",
              "      <td>0</td>\n",
              "      <td>0</td>\n",
              "      <td>0</td>\n",
              "      <td>0</td>\n",
              "      <td>3</td>\n",
              "      <td>11</td>\n",
              "      <td>0</td>\n",
              "      <td>19</td>\n",
              "      <td>422</td>\n",
              "      <td>1</td>\n",
              "      <td>215</td>\n",
              "      <td>207</td>\n",
              "    </tr>\n",
              "  </tbody>\n",
              "</table>\n",
              "</div>"
            ],
            "text/plain": [
              "       Education Marital_Status   Income  ...  children  luxuries  food\n",
              "ID                                        ...                          \n",
              "5524  Graduation         Single  58138.0  ...         0       811   806\n",
              "2174  Graduation         Single  46344.0  ...         2        18     9\n",
              "4141  Graduation       Together  71613.0  ...         0       489   287\n",
              "6182  Graduation       Together  26646.0  ...         1        19    34\n",
              "5324         PhD        Married  58293.0  ...         1       215   207\n",
              "\n",
              "[5 rows x 27 columns]"
            ]
          },
          "metadata": {},
          "execution_count": 77
        }
      ]
    },
    {
      "cell_type": "code",
      "metadata": {
        "colab": {
          "base_uri": "https://localhost:8080/"
        },
        "id": "vxe46RkozZ7-",
        "outputId": "5c727eeb-f6db-4ade-f4ef-27844d392c98"
      },
      "source": [
        "# Checking if they are still there\n",
        "marketing.duplicated().sum()"
      ],
      "execution_count": null,
      "outputs": [
        {
          "output_type": "execute_result",
          "data": {
            "text/plain": [
              "0"
            ]
          },
          "metadata": {},
          "execution_count": 78
        }
      ]
    },
    {
      "cell_type": "markdown",
      "metadata": {
        "id": "WNjGgz6Q1awH"
      },
      "source": [
        "Our data is now clean of duplicated values"
      ]
    },
    {
      "cell_type": "markdown",
      "metadata": {
        "id": "4KMPw07a1Gl5"
      },
      "source": [
        "### Uniformity"
      ]
    },
    {
      "cell_type": "code",
      "metadata": {
        "colab": {
          "base_uri": "https://localhost:8080/",
          "height": 258
        },
        "id": "xmlIAEcM1Ken",
        "outputId": "c4094f85-ad77-40d3-d986-07654c3bf4cc"
      },
      "source": [
        "# Procedure 1:\n",
        "# Data Cleaning Action: Converting column names to lowercase characters.\n",
        "# Explanation: This is to allow for a uniform columns in the data column names.\n",
        "#\n",
        "marketing.columns = marketing.columns.str.rstrip().str.lower()\n",
        "marketing.head(5)"
      ],
      "execution_count": null,
      "outputs": [
        {
          "output_type": "execute_result",
          "data": {
            "text/html": [
              "<div>\n",
              "<style scoped>\n",
              "    .dataframe tbody tr th:only-of-type {\n",
              "        vertical-align: middle;\n",
              "    }\n",
              "\n",
              "    .dataframe tbody tr th {\n",
              "        vertical-align: top;\n",
              "    }\n",
              "\n",
              "    .dataframe thead th {\n",
              "        text-align: right;\n",
              "    }\n",
              "</style>\n",
              "<table border=\"1\" class=\"dataframe\">\n",
              "  <thead>\n",
              "    <tr style=\"text-align: right;\">\n",
              "      <th></th>\n",
              "      <th>education</th>\n",
              "      <th>marital_status</th>\n",
              "      <th>income</th>\n",
              "      <th>kidhome</th>\n",
              "      <th>teenhome</th>\n",
              "      <th>recency</th>\n",
              "      <th>mntwines</th>\n",
              "      <th>mntfruits</th>\n",
              "      <th>mntmeatproducts</th>\n",
              "      <th>mntfishproducts</th>\n",
              "      <th>mntsweetproducts</th>\n",
              "      <th>mntgoldprods</th>\n",
              "      <th>numwebvisitsmonth</th>\n",
              "      <th>acceptedcmp3</th>\n",
              "      <th>acceptedcmp4</th>\n",
              "      <th>acceptedcmp5</th>\n",
              "      <th>acceptedcmp1</th>\n",
              "      <th>acceptedcmp2</th>\n",
              "      <th>complain</th>\n",
              "      <th>z_costcontact</th>\n",
              "      <th>z_revenue</th>\n",
              "      <th>response</th>\n",
              "      <th>number_purchases</th>\n",
              "      <th>total_spent</th>\n",
              "      <th>children</th>\n",
              "      <th>luxuries</th>\n",
              "      <th>food</th>\n",
              "    </tr>\n",
              "    <tr>\n",
              "      <th>ID</th>\n",
              "      <th></th>\n",
              "      <th></th>\n",
              "      <th></th>\n",
              "      <th></th>\n",
              "      <th></th>\n",
              "      <th></th>\n",
              "      <th></th>\n",
              "      <th></th>\n",
              "      <th></th>\n",
              "      <th></th>\n",
              "      <th></th>\n",
              "      <th></th>\n",
              "      <th></th>\n",
              "      <th></th>\n",
              "      <th></th>\n",
              "      <th></th>\n",
              "      <th></th>\n",
              "      <th></th>\n",
              "      <th></th>\n",
              "      <th></th>\n",
              "      <th></th>\n",
              "      <th></th>\n",
              "      <th></th>\n",
              "      <th></th>\n",
              "      <th></th>\n",
              "      <th></th>\n",
              "      <th></th>\n",
              "    </tr>\n",
              "  </thead>\n",
              "  <tbody>\n",
              "    <tr>\n",
              "      <th>5524</th>\n",
              "      <td>Graduation</td>\n",
              "      <td>Single</td>\n",
              "      <td>58138.0</td>\n",
              "      <td>0</td>\n",
              "      <td>0</td>\n",
              "      <td>58</td>\n",
              "      <td>635</td>\n",
              "      <td>88</td>\n",
              "      <td>546</td>\n",
              "      <td>172</td>\n",
              "      <td>88</td>\n",
              "      <td>88</td>\n",
              "      <td>7</td>\n",
              "      <td>0</td>\n",
              "      <td>0</td>\n",
              "      <td>0</td>\n",
              "      <td>0</td>\n",
              "      <td>0</td>\n",
              "      <td>0</td>\n",
              "      <td>3</td>\n",
              "      <td>11</td>\n",
              "      <td>1</td>\n",
              "      <td>25</td>\n",
              "      <td>1617</td>\n",
              "      <td>0</td>\n",
              "      <td>811</td>\n",
              "      <td>806</td>\n",
              "    </tr>\n",
              "    <tr>\n",
              "      <th>2174</th>\n",
              "      <td>Graduation</td>\n",
              "      <td>Single</td>\n",
              "      <td>46344.0</td>\n",
              "      <td>1</td>\n",
              "      <td>1</td>\n",
              "      <td>38</td>\n",
              "      <td>11</td>\n",
              "      <td>1</td>\n",
              "      <td>6</td>\n",
              "      <td>2</td>\n",
              "      <td>1</td>\n",
              "      <td>6</td>\n",
              "      <td>5</td>\n",
              "      <td>0</td>\n",
              "      <td>0</td>\n",
              "      <td>0</td>\n",
              "      <td>0</td>\n",
              "      <td>0</td>\n",
              "      <td>0</td>\n",
              "      <td>3</td>\n",
              "      <td>11</td>\n",
              "      <td>0</td>\n",
              "      <td>6</td>\n",
              "      <td>27</td>\n",
              "      <td>2</td>\n",
              "      <td>18</td>\n",
              "      <td>9</td>\n",
              "    </tr>\n",
              "    <tr>\n",
              "      <th>4141</th>\n",
              "      <td>Graduation</td>\n",
              "      <td>Together</td>\n",
              "      <td>71613.0</td>\n",
              "      <td>0</td>\n",
              "      <td>0</td>\n",
              "      <td>26</td>\n",
              "      <td>426</td>\n",
              "      <td>49</td>\n",
              "      <td>127</td>\n",
              "      <td>111</td>\n",
              "      <td>21</td>\n",
              "      <td>42</td>\n",
              "      <td>4</td>\n",
              "      <td>0</td>\n",
              "      <td>0</td>\n",
              "      <td>0</td>\n",
              "      <td>0</td>\n",
              "      <td>0</td>\n",
              "      <td>0</td>\n",
              "      <td>3</td>\n",
              "      <td>11</td>\n",
              "      <td>0</td>\n",
              "      <td>21</td>\n",
              "      <td>776</td>\n",
              "      <td>0</td>\n",
              "      <td>489</td>\n",
              "      <td>287</td>\n",
              "    </tr>\n",
              "    <tr>\n",
              "      <th>6182</th>\n",
              "      <td>Graduation</td>\n",
              "      <td>Together</td>\n",
              "      <td>26646.0</td>\n",
              "      <td>1</td>\n",
              "      <td>0</td>\n",
              "      <td>26</td>\n",
              "      <td>11</td>\n",
              "      <td>4</td>\n",
              "      <td>20</td>\n",
              "      <td>10</td>\n",
              "      <td>3</td>\n",
              "      <td>5</td>\n",
              "      <td>6</td>\n",
              "      <td>0</td>\n",
              "      <td>0</td>\n",
              "      <td>0</td>\n",
              "      <td>0</td>\n",
              "      <td>0</td>\n",
              "      <td>0</td>\n",
              "      <td>3</td>\n",
              "      <td>11</td>\n",
              "      <td>0</td>\n",
              "      <td>8</td>\n",
              "      <td>53</td>\n",
              "      <td>1</td>\n",
              "      <td>19</td>\n",
              "      <td>34</td>\n",
              "    </tr>\n",
              "    <tr>\n",
              "      <th>5324</th>\n",
              "      <td>PhD</td>\n",
              "      <td>Married</td>\n",
              "      <td>58293.0</td>\n",
              "      <td>1</td>\n",
              "      <td>0</td>\n",
              "      <td>94</td>\n",
              "      <td>173</td>\n",
              "      <td>43</td>\n",
              "      <td>118</td>\n",
              "      <td>46</td>\n",
              "      <td>27</td>\n",
              "      <td>15</td>\n",
              "      <td>5</td>\n",
              "      <td>0</td>\n",
              "      <td>0</td>\n",
              "      <td>0</td>\n",
              "      <td>0</td>\n",
              "      <td>0</td>\n",
              "      <td>0</td>\n",
              "      <td>3</td>\n",
              "      <td>11</td>\n",
              "      <td>0</td>\n",
              "      <td>19</td>\n",
              "      <td>422</td>\n",
              "      <td>1</td>\n",
              "      <td>215</td>\n",
              "      <td>207</td>\n",
              "    </tr>\n",
              "  </tbody>\n",
              "</table>\n",
              "</div>"
            ],
            "text/plain": [
              "       education marital_status   income  ...  children  luxuries  food\n",
              "ID                                        ...                          \n",
              "5524  Graduation         Single  58138.0  ...         0       811   806\n",
              "2174  Graduation         Single  46344.0  ...         2        18     9\n",
              "4141  Graduation       Together  71613.0  ...         0       489   287\n",
              "6182  Graduation       Together  26646.0  ...         1        19    34\n",
              "5324         PhD        Married  58293.0  ...         1       215   207\n",
              "\n",
              "[5 rows x 27 columns]"
            ]
          },
          "metadata": {},
          "execution_count": 79
        }
      ]
    },
    {
      "cell_type": "markdown",
      "metadata": {
        "id": "V5lPk0jC1u4R"
      },
      "source": [
        "## 1.3 Data Analysis"
      ]
    },
    {
      "cell_type": "markdown",
      "metadata": {
        "id": "H0ciwoJepvLy"
      },
      "source": [
        "### Comparing the different education levels and buying behaviours"
      ]
    },
    {
      "cell_type": "markdown",
      "metadata": {
        "id": "B-GEC-y1oSVL"
      },
      "source": [
        "We will look at how the campaigns and purchases of different products were afffected by the various levels of education"
      ]
    },
    {
      "cell_type": "code",
      "metadata": {
        "colab": {
          "base_uri": "https://localhost:8080/"
        },
        "id": "cMuIOq0fH6nj",
        "outputId": "a5bcdf6f-318b-4f9e-fde6-015766677635"
      },
      "source": [
        "# How many customers responded positively to the campaigns according to their education levels\n",
        "# this is the first campaign\n",
        "education = marketing.groupby(['education'])['acceptedcmp1'].sum().sort_values(ascending=False)\n",
        "education.head()"
      ],
      "execution_count": null,
      "outputs": [
        {
          "output_type": "execute_result",
          "data": {
            "text/plain": [
              "education\n",
              "Graduation    72\n",
              "PhD           26\n",
              "Master        18\n",
              "2n Cycle      10\n",
              "Basic          0\n",
              "Name: acceptedcmp1, dtype: int64"
            ]
          },
          "metadata": {},
          "execution_count": 80
        }
      ]
    },
    {
      "cell_type": "code",
      "metadata": {
        "colab": {
          "base_uri": "https://localhost:8080/",
          "height": 325
        },
        "id": "A4UkUY6nIFc2",
        "outputId": "a54f8957-a35d-4b48-bc90-7fc081ac3545"
      },
      "source": [
        "# plotting a bar graph\n",
        "education.plot(x = 'education' , y = 'acceptedcmp1' , kind = 'bar');"
      ],
      "execution_count": null,
      "outputs": [
        {
          "output_type": "display_data",
          "data": {
            "image/png": "[encoded data removed]",
            "text/plain": [
              "<Figure size 432x288 with 1 Axes>"
            ]
          },
          "metadata": {
            "needs_background": "light"
          }
        }
      ]
    },
    {
      "cell_type": "markdown",
      "metadata": {
        "id": "WcazB66QiFRG"
      },
      "source": [
        "From the data above, the 1st campaign was well recieved by the graduation educational level"
      ]
    },
    {
      "cell_type": "code",
      "metadata": {
        "colab": {
          "base_uri": "https://localhost:8080/"
        },
        "id": "roeLwbnfIZ0o",
        "outputId": "2aee2427-8f6b-4cd4-9906-a08ec256886e"
      },
      "source": [
        "# this is the fifth campaign\n",
        "education5= marketing.groupby(['education'])['acceptedcmp5'].sum().sort_values(ascending=False)\n",
        "education5.head()"
      ],
      "execution_count": null,
      "outputs": [
        {
          "output_type": "execute_result",
          "data": {
            "text/plain": [
              "education\n",
              "Graduation    67\n",
              "PhD           33\n",
              "Master        26\n",
              "2n Cycle       8\n",
              "Basic          0\n",
              "Name: acceptedcmp5, dtype: int64"
            ]
          },
          "metadata": {},
          "execution_count": 82
        }
      ]
    },
    {
      "cell_type": "markdown",
      "metadata": {
        "id": "iUodlmVpijkF"
      },
      "source": [
        "The fifth and last campaign too was popular with the people that had just graduated, let's keep that in mind and see if the marketing campaigns had any effect on how the customers shop."
      ]
    },
    {
      "cell_type": "code",
      "metadata": {
        "colab": {
          "base_uri": "https://localhost:8080/"
        },
        "id": "Ax4pRM8RImPt",
        "outputId": "ada7d646-9a13-4a18-8e8c-6c056817917e"
      },
      "source": [
        "# How much money was spent on food stuffs by the various levels of education\n",
        "educationf= marketing.groupby(['education'])['food'].sum().sort_values(ascending=False)\n",
        "educationf.head()"
      ],
      "execution_count": null,
      "outputs": [
        {
          "output_type": "execute_result",
          "data": {
            "text/plain": [
              "education\n",
              "Graduation    242744\n",
              "PhD            84461\n",
              "Master         70098\n",
              "2n Cycle       36866\n",
              "Basic           1855\n",
              "Name: food, dtype: int64"
            ]
          },
          "metadata": {},
          "execution_count": 83
        }
      ]
    },
    {
      "cell_type": "code",
      "metadata": {
        "colab": {
          "base_uri": "https://localhost:8080/",
          "height": 325
        },
        "id": "irKmGsQNJIHW",
        "outputId": "bcf11fc8-76d2-4519-9307-725c0d4907ff"
      },
      "source": [
        "# plotting a bar graph\n",
        "educationf.plot(x = 'education' , y = 'food' , kind = 'bar');"
      ],
      "execution_count": null,
      "outputs": [
        {
          "output_type": "display_data",
          "data": {
            "image/png": "[encoded data removed]",
            "text/plain": [
              "<Figure size 432x288 with 1 Axes>"
            ]
          },
          "metadata": {
            "needs_background": "light"
          }
        }
      ]
    },
    {
      "cell_type": "markdown",
      "metadata": {
        "id": "TcqTbVUCiyOE"
      },
      "source": [
        "The graduated people were the more frequent buyers of foodstuff as compared to the others, with the PhD people following on second."
      ]
    },
    {
      "cell_type": "code",
      "metadata": {
        "colab": {
          "base_uri": "https://localhost:8080/"
        },
        "id": "VBQk3tknIq__",
        "outputId": "9c6519ce-fe27-40e5-9dc7-b17d6564a702"
      },
      "source": [
        "# How much money was spent on luxuries by the various levels of education\n",
        "educationg= marketing.groupby(['education'])['luxuries'].sum().sort_values(ascending=False)\n",
        "educationg.head()"
      ],
      "execution_count": null,
      "outputs": [
        {
          "output_type": "execute_result",
          "data": {
            "text/plain": [
              "education\n",
              "Graduation    341817\n",
              "PhD           185658\n",
              "Master        127487\n",
              "2n Cycle       49317\n",
              "Basic           1952\n",
              "Name: luxuries, dtype: int64"
            ]
          },
          "metadata": {},
          "execution_count": 85
        }
      ]
    },
    {
      "cell_type": "code",
      "metadata": {
        "colab": {
          "base_uri": "https://localhost:8080/",
          "height": 325
        },
        "id": "Y_KelCyd4x17",
        "outputId": "482740fd-fd1f-4c69-9aea-9d481a7d6939"
      },
      "source": [
        "# plotting a bar graph\n",
        "educationg.plot(x = 'education' , y = 'luxuries' , kind = 'bar');"
      ],
      "execution_count": null,
      "outputs": [
        {
          "output_type": "display_data",
          "data": {
            "image/png": "[encoded data removed]",
            "text/plain": [
              "<Figure size 432x288 with 1 Axes>"
            ]
          },
          "metadata": {
            "needs_background": "light"
          }
        }
      ]
    },
    {
      "cell_type": "markdown",
      "metadata": {
        "id": "OpPmWDINpKrT"
      },
      "source": [
        "It seems that due to the popularity of the campaigns among the graduated people, they spent more on the products from the shop as compared to the othe education levels."
      ]
    },
    {
      "cell_type": "markdown",
      "metadata": {
        "id": "QTWoJOBfcFPu"
      },
      "source": [
        "### Comparing the different marital status and buying behaviours"
      ]
    },
    {
      "cell_type": "code",
      "metadata": {
        "colab": {
          "base_uri": "https://localhost:8080/"
        },
        "id": "CQSaT_ExJ_uw",
        "outputId": "dc6a598b-53cb-452f-b7c9-81e721667604"
      },
      "source": [
        "# How many customers responded positively to the campaigns according to their marital status\n",
        "# this is the first campaign\n",
        "marital = marketing.groupby(['marital_status'])['acceptedcmp1'].sum().sort_values(ascending=False)\n",
        "marital.head()"
      ],
      "execution_count": null,
      "outputs": [
        {
          "output_type": "execute_result",
          "data": {
            "text/plain": [
              "marital_status\n",
              "Married     57\n",
              "Single      29\n",
              "Together    24\n",
              "Divorced    10\n",
              "Widow        5\n",
              "Name: acceptedcmp1, dtype: int64"
            ]
          },
          "metadata": {},
          "execution_count": 86
        }
      ]
    },
    {
      "cell_type": "code",
      "metadata": {
        "colab": {
          "base_uri": "https://localhost:8080/",
          "height": 315
        },
        "id": "gf7PUwiVJQPR",
        "outputId": "8bfb22d3-ffd2-4209-da7c-2293e6fa172c"
      },
      "source": [
        "# plotting a bar graph\n",
        "marital.plot(x = 'marital_status' , y = 'acceptedcmp1' , kind = 'bar');"
      ],
      "execution_count": null,
      "outputs": [
        {
          "output_type": "display_data",
          "data": {
            "image/png": "[encoded data removed]",
            "text/plain": [
              "<Figure size 432x288 with 1 Axes>"
            ]
          },
          "metadata": {
            "needs_background": "light"
          }
        }
      ]
    },
    {
      "cell_type": "markdown",
      "metadata": {
        "id": "6xEa8H_gmSjK"
      },
      "source": [
        "The first campaign was popular among the couples as compared to single people"
      ]
    },
    {
      "cell_type": "code",
      "metadata": {
        "colab": {
          "base_uri": "https://localhost:8080/"
        },
        "id": "MWHJ03zFKSNh",
        "outputId": "8255a4c0-0a3c-4902-efc1-8d0c8e8396fa"
      },
      "source": [
        "# this is the fifth campaign\n",
        "marital5 = marketing.groupby(['marital_status'])['acceptedcmp5'].sum().sort_values(ascending=False)\n",
        "marital5.head()"
      ],
      "execution_count": null,
      "outputs": [
        {
          "output_type": "execute_result",
          "data": {
            "text/plain": [
              "marital_status\n",
              "Married     52\n",
              "Together    35\n",
              "Single      27\n",
              "Divorced    11\n",
              "Widow        8\n",
              "Name: acceptedcmp5, dtype: int64"
            ]
          },
          "metadata": {},
          "execution_count": 88
        }
      ]
    },
    {
      "cell_type": "markdown",
      "metadata": {
        "id": "3pEQTDsLmdlJ"
      },
      "source": [
        "The fifth campaign too, was popular among couples as compared to the single people, there's an interesting trend here, let us see how it will affect the buying nature of the various people based on their marital status."
      ]
    },
    {
      "cell_type": "code",
      "metadata": {
        "colab": {
          "base_uri": "https://localhost:8080/"
        },
        "id": "PewTTFJ1KdxF",
        "outputId": "461074b4-2a71-45ba-a407-04d4b5a56ace"
      },
      "source": [
        "# How much money was spent on food by people of different marital status\n",
        "maritalf = marketing.groupby(['marital_status'])['food'].sum().sort_values(ascending=False)\n",
        "maritalf.head()"
      ],
      "execution_count": null,
      "outputs": [
        {
          "output_type": "execute_result",
          "data": {
            "text/plain": [
              "marital_status\n",
              "Married     165145\n",
              "Together    108709\n",
              "Single       99865\n",
              "Divorced     42244\n",
              "Widow        18628\n",
              "Name: food, dtype: int64"
            ]
          },
          "metadata": {},
          "execution_count": 89
        }
      ]
    },
    {
      "cell_type": "code",
      "metadata": {
        "colab": {
          "base_uri": "https://localhost:8080/",
          "height": 315
        },
        "id": "jDu4OUBrJafb",
        "outputId": "c49dd8c4-0950-4e38-c059-1e9d940cc4e3"
      },
      "source": [
        "# plotting a bar graph\n",
        "maritalf.plot(x = 'marital_status' , y = 'food' , kind = 'bar');"
      ],
      "execution_count": null,
      "outputs": [
        {
          "output_type": "display_data",
          "data": {
            "image/png": "[encoded data removed]",
            "text/plain": [
              "<Figure size 432x288 with 1 Axes>"
            ]
          },
          "metadata": {
            "needs_background": "light"
          }
        }
      ]
    },
    {
      "cell_type": "markdown",
      "metadata": {
        "id": "lLJd18npmCx7"
      },
      "source": [
        "The people that were coupled (i.e Married & Together) spent more on wines as compared to the single,divorced and widowed people"
      ]
    },
    {
      "cell_type": "code",
      "metadata": {
        "colab": {
          "base_uri": "https://localhost:8080/"
        },
        "id": "tgdYU41dKl3F",
        "outputId": "9918c162-700f-42ff-ae75-25ba1eb228d1"
      },
      "source": [
        "# How much money was spent on luxuries by people of different marital status\n",
        "maritalw = marketing.groupby(['marital_status'])['luxuries'].sum().sort_values(ascending=False)\n",
        "maritalw.head()"
      ],
      "execution_count": null,
      "outputs": [
        {
          "output_type": "execute_result",
          "data": {
            "text/plain": [
              "marital_status\n",
              "Married     270123\n",
              "Together    172588\n",
              "Single      149613\n",
              "Divorced     78686\n",
              "Widow        32651\n",
              "Name: luxuries, dtype: int64"
            ]
          },
          "metadata": {},
          "execution_count": 99
        }
      ]
    },
    {
      "cell_type": "code",
      "metadata": {
        "colab": {
          "base_uri": "https://localhost:8080/",
          "height": 315
        },
        "id": "Qd8K7gAB44uF",
        "outputId": "7699e243-8069-4868-d201-d0f4870f13db"
      },
      "source": [
        "# plotting a bar graph\n",
        "maritalw.plot(x = 'marital_status' , y = 'luxuries' , kind = 'bar');"
      ],
      "execution_count": null,
      "outputs": [
        {
          "output_type": "display_data",
          "data": {
            "image/png": "[encoded data removed]",
            "text/plain": [
              "<Figure size 432x288 with 1 Axes>"
            ]
          },
          "metadata": {
            "needs_background": "light"
          }
        }
      ]
    },
    {
      "cell_type": "markdown",
      "metadata": {
        "id": "TyDLvGYPlovC"
      },
      "source": [
        "The people that were coupled are still the ones that spent more on wines as compared to the single,divorced and widowed people"
      ]
    },
    {
      "cell_type": "markdown",
      "metadata": {
        "id": "RpBMvpALnfTK"
      },
      "source": [
        "An interesting insight to note here is that, the campaigns done seem to be very popular among the coupled people as compared to the single,divorced and widowed, making the couples buy the different products more than the other do."
      ]
    },
    {
      "cell_type": "markdown",
      "metadata": {
        "id": "GAcDNlEDWBmb"
      },
      "source": [
        "### How the number of kids affected the purchasing behaviour of customers"
      ]
    },
    {
      "cell_type": "code",
      "metadata": {
        "colab": {
          "base_uri": "https://localhost:8080/"
        },
        "id": "7SU5C__TVjx6",
        "outputId": "e9887bc9-8c7c-46e6-80c8-a41ab35f6be2"
      },
      "source": [
        "# How did the number of children at home affect the total spent\n",
        "kids= marketing.groupby(['children'])['total_spent'].sum().sort_values(ascending=False)\n",
        "kids.head(10)"
      ],
      "execution_count": null,
      "outputs": [
        {
          "output_type": "execute_result",
          "data": {
            "text/plain": [
              "children\n",
              "0    589422\n",
              "1    451769\n",
              "2     88786\n",
              "3     12278\n",
              "Name: total_spent, dtype: int64"
            ]
          },
          "metadata": {},
          "execution_count": 92
        }
      ]
    },
    {
      "cell_type": "code",
      "metadata": {
        "colab": {
          "base_uri": "https://localhost:8080/",
          "height": 276
        },
        "id": "ptCHoOscJofI",
        "outputId": "82525b3d-4d30-43be-a200-c01310bb6dd6"
      },
      "source": [
        "# plotting a bar graph\n",
        "kids.plot(x = 'children' , y = 'total_spent' , kind = 'bar');"
      ],
      "execution_count": null,
      "outputs": [
        {
          "output_type": "display_data",
          "data": {
            "image/png": "[encoded data removed]",
            "text/plain": [
              "<Figure size 432x288 with 1 Axes>"
            ]
          },
          "metadata": {
            "needs_background": "light"
          }
        }
      ]
    },
    {
      "cell_type": "markdown",
      "metadata": {
        "id": "tqsbclJ_Y_R5"
      },
      "source": [
        "Customers with no children had the highest spending and the amount decreased with increase in the number of children"
      ]
    },
    {
      "cell_type": "code",
      "metadata": {
        "colab": {
          "base_uri": "https://localhost:8080/"
        },
        "id": "zIqUh1W7WSlT",
        "outputId": "9b434647-f115-4672-f0d5-7e32b350b353"
      },
      "source": [
        "# How did number of children at home affect the amount spent on food\n",
        "kids= marketing.groupby(['children'])['food'].sum().sort_values(ascending=False)\n",
        "kids.head(10)"
      ],
      "execution_count": null,
      "outputs": [
        {
          "output_type": "execute_result",
          "data": {
            "text/plain": [
              "children\n",
              "0    268217\n",
              "1    138605\n",
              "2     25548\n",
              "3      3654\n",
              "Name: food, dtype: int64"
            ]
          },
          "metadata": {},
          "execution_count": 94
        }
      ]
    },
    {
      "cell_type": "markdown",
      "metadata": {
        "id": "kdgt2Fh1ZPLp"
      },
      "source": [
        "The amount spent on foodstuffs decreased with an increase in the number of children."
      ]
    },
    {
      "cell_type": "code",
      "metadata": {
        "colab": {
          "base_uri": "https://localhost:8080/"
        },
        "id": "_x6Kg6GvWe52",
        "outputId": "ef6cb4d4-da87-488c-ea60-a7d26678cbaf"
      },
      "source": [
        "# How did children at home affect the amount spent on luxuries\n",
        "kids= marketing.groupby(['children'])['luxuries'].sum().sort_values(ascending=False)\n",
        "kids.head(10)"
      ],
      "execution_count": null,
      "outputs": [
        {
          "output_type": "execute_result",
          "data": {
            "text/plain": [
              "children\n",
              "0    321205\n",
              "1    313164\n",
              "2     63238\n",
              "3      8624\n",
              "Name: luxuries, dtype: int64"
            ]
          },
          "metadata": {},
          "execution_count": 95
        }
      ]
    },
    {
      "cell_type": "markdown",
      "metadata": {
        "id": "hypNi91BZqrC"
      },
      "source": [
        "The amount spent on luxuries decreased with an increase in the number of children"
      ]
    },
    {
      "cell_type": "markdown",
      "metadata": {
        "id": "I9HplBaAkcyi"
      },
      "source": [
        "### Comparing the married people to the single people."
      ]
    },
    {
      "cell_type": "markdown",
      "metadata": {
        "id": "7EMIqTftlOwB"
      },
      "source": [
        "We are going to do this by comparing the number of purchases that each make."
      ]
    },
    {
      "cell_type": "code",
      "metadata": {
        "colab": {
          "base_uri": "https://localhost:8080/"
        },
        "id": "xak8Me7IQ_xX",
        "outputId": "60ce8517-b501-4e44-d5f3-49ca88154911"
      },
      "source": [
        "# let's compare the number of purchases in our store by married people to single people.\n",
        "# this works out the number of purchases by married people\n",
        "maritalm = marketing[(marketing['marital_status']=='Married')]\n",
        "maritalm.groupby(['marital_status'])['total_spent'].sum().sort_values(ascending=False).head()\n"
      ],
      "execution_count": null,
      "outputs": [
        {
          "output_type": "execute_result",
          "data": {
            "text/plain": [
              "marital_status\n",
              "Married    435268\n",
              "Name: total_spent, dtype: int64"
            ]
          },
          "metadata": {},
          "execution_count": 96
        }
      ]
    },
    {
      "cell_type": "code",
      "metadata": {
        "colab": {
          "base_uri": "https://localhost:8080/"
        },
        "id": "amTyuTf5TFvz",
        "outputId": "39b58f52-9e08-46c2-8612-650c47fb22d9"
      },
      "source": [
        "# this works out the number of purchases by single people\n",
        "single = marketing[(marketing['marital_status']=='Single')]\n",
        "single.groupby(['marital_status'])['total_spent'].sum().sort_values(ascending=False).head()"
      ],
      "execution_count": null,
      "outputs": [
        {
          "output_type": "execute_result",
          "data": {
            "text/plain": [
              "marital_status\n",
              "Single    249478\n",
              "Name: total_spent, dtype: int64"
            ]
          },
          "metadata": {},
          "execution_count": 97
        }
      ]
    },
    {
      "cell_type": "markdown",
      "metadata": {
        "id": "V52CxriNhMYX"
      },
      "source": [
        "Married people purchased nearly twice as much as single people.\n"
      ]
    },
    {
      "cell_type": "markdown",
      "metadata": {
        "id": "v-l4Qv2aWx2-"
      },
      "source": [
        "### Finding out which group customers spent the highest amount given all their atributes."
      ]
    },
    {
      "cell_type": "code",
      "metadata": {
        "colab": {
          "base_uri": "https://localhost:8080/"
        },
        "id": "QAEX55O_XVCK",
        "outputId": "0b0b3513-d2b2-4eb9-cb7c-8a552429a20a"
      },
      "source": [
        "# Finding out which group customers spent the highest amount given all their atributes.\n",
        "marketing.groupby(['education' , 'marital_status', 'income' , 'children'], as_index=False)['total_spent'].sum().max()"
      ],
      "execution_count": null,
      "outputs": [
        {
          "output_type": "execute_result",
          "data": {
            "text/plain": [
              "education            PhD\n",
              "marital_status      YOLO\n",
              "income            666666\n",
              "children               3\n",
              "total_spent         5050\n",
              "dtype: object"
            ]
          },
          "metadata": {},
          "execution_count": 98
        }
      ]
    },
    {
      "cell_type": "markdown",
      "metadata": {
        "id": "3CTUv91QYZdT"
      },
      "source": [
        "Customers who had a PhD, with an income of 666666, with 3 children and who described their status as YOLO had the highest combined spending."
      ]
    },
    {
      "cell_type": "markdown",
      "metadata": {
        "id": "3WHoXI1pp85J"
      },
      "source": [
        "## Recommendation"
      ]
    },
    {
      "cell_type": "markdown",
      "metadata": {
        "id": "F-sPUsZnqF3a"
      },
      "source": [
        "1. The marital status of interest seems to be the coupled ones, so we must focus on selling products fitting them.\n",
        "\n",
        "2. People that have graduated buy from the shop frequently and products that enjoy should be focused on.\n",
        "\n",
        "3. Food is a very popular commodity from our shop, whether considering education level or marital status and as such supply should be increased.\n",
        "\n",
        "4. The next marketing campaign should focus on customers with one to three children so as to increase their spendings on foodstuffs and luxuries.\n",
        "\n",
        "5. Work needs to be done to make the shop and its campaigns more appealing to the people with basic and 2nd cycle education level, probably do more campaigns that relate to them as this will increase how they interacte with the shop and also get in more revenue.\n",
        "\n",
        "\n",
        "\n"
      ]
    }
  ]
}
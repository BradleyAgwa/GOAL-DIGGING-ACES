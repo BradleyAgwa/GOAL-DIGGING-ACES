{
  "nbformat": 4,
  "nbformat_minor": 0,
  "metadata": {
    "colab": {
      "name": "Copy of Marketing.ipynb",
      "provenance": [],
      "collapsed_sections": [],
      "include_colab_link": true
    },
    "kernelspec": {
      "name": "python3",
      "display_name": "Python 3"
    },
    "language_info": {
      "name": "python"
    }
  },
  "cells": [
    {
      "cell_type": "markdown",
      "metadata": {
        "id": "view-in-github",
        "colab_type": "text"
      },
      "source": [
        "<a href=\"https://colab.research.google.com/github/BradleyAgwa/GOAL-DIGGING-ACES/blob/main/Copy_of_Marketing.ipynb\" target=\"_parent\"><img src=\"https://colab.research.google.com/assets/colab-badge.svg\" alt=\"Open In Colab\"/></a>"
      ]
    },
    {
      "cell_type": "markdown",
      "metadata": {
        "id": "ucqB17cjcezG"
      },
      "source": [
        "# CUSTOMER PERSONALITY ANALYSIS"
      ]
    },
    {
      "cell_type": "markdown",
      "metadata": {
        "id": "zA-kMtrqwLTT"
      },
      "source": [
        "## 1.1 Introduction\n",
        "In this era of globalization, the competition among firms producing the same goods and services has intensified and the consumer, who is considered the principal focal point in modern business approach, becomes more and more important. On The Go, an online shopping company, wants a detailed analysis of their company’s past customers. They believe customer profile analysis will help inform the business on how to modify its marketing campaigns.\n",
        "## Problem Statement \n",
        "Past marketing campaigns have not brought in as many customers as expected. In addition, the customers that have responded to  the campaigns have not bought as many products as expected.\n"
      ]
    },
    {
      "cell_type": "markdown",
      "metadata": {
        "id": "an0pzEzfwW_C"
      },
      "source": [
        "## 1.2Importing Our Libraries"
      ]
    },
    {
      "cell_type": "code",
      "metadata": {
        "id": "ZCqX0uQUrRyi"
      },
      "source": [
        "# Loading our libraries i.e pandas and numpy libraries\n",
        "import pandas as pd\n",
        "import numpy as np"
      ],
      "execution_count": null,
      "outputs": []
    },
    {
      "cell_type": "markdown",
      "metadata": {
        "id": "mC59JiRXwdHr"
      },
      "source": [
        "## 1.3 Loading Our Dataset"
      ]
    },
    {
      "cell_type": "code",
      "metadata": {
        "colab": {
          "base_uri": "https://localhost:8080/",
          "height": 414
        },
        "id": "1BzZZQa9rdSt",
        "outputId": "d8182929-bc53-4b83-96bb-abb18818afae"
      },
      "source": [
        "# Loading the dataset we are going to work on.\n",
        "marketing = pd.read_csv('/content/marketing_campaign.csv',delimiter='\\t', index_col=['ID'])\n",
        "marketing.head(10)"
      ],
      "execution_count": null,
      "outputs": [
        {
          "output_type": "execute_result",
          "data": {
            "text/html": [
              "<div>\n",
              "<style scoped>\n",
              "    .dataframe tbody tr th:only-of-type {\n",
              "        vertical-align: middle;\n",
              "    }\n",
              "\n",
              "    .dataframe tbody tr th {\n",
              "        vertical-align: top;\n",
              "    }\n",
              "\n",
              "    .dataframe thead th {\n",
              "        text-align: right;\n",
              "    }\n",
              "</style>\n",
              "<table border=\"1\" class=\"dataframe\">\n",
              "  <thead>\n",
              "    <tr style=\"text-align: right;\">\n",
              "      <th></th>\n",
              "      <th>Year_Birth</th>\n",
              "      <th>Education</th>\n",
              "      <th>Marital_Status</th>\n",
              "      <th>Income</th>\n",
              "      <th>Kidhome</th>\n",
              "      <th>Teenhome</th>\n",
              "      <th>Dt_Customer</th>\n",
              "      <th>Recency</th>\n",
              "      <th>MntWines</th>\n",
              "      <th>MntFruits</th>\n",
              "      <th>MntMeatProducts</th>\n",
              "      <th>MntFishProducts</th>\n",
              "      <th>MntSweetProducts</th>\n",
              "      <th>MntGoldProds</th>\n",
              "      <th>NumDealsPurchases</th>\n",
              "      <th>NumWebPurchases</th>\n",
              "      <th>NumCatalogPurchases</th>\n",
              "      <th>NumStorePurchases</th>\n",
              "      <th>NumWebVisitsMonth</th>\n",
              "      <th>AcceptedCmp3</th>\n",
              "      <th>AcceptedCmp4</th>\n",
              "      <th>AcceptedCmp5</th>\n",
              "      <th>AcceptedCmp1</th>\n",
              "      <th>AcceptedCmp2</th>\n",
              "      <th>Complain</th>\n",
              "      <th>Z_CostContact</th>\n",
              "      <th>Z_Revenue</th>\n",
              "      <th>Response</th>\n",
              "    </tr>\n",
              "    <tr>\n",
              "      <th>ID</th>\n",
              "      <th></th>\n",
              "      <th></th>\n",
              "      <th></th>\n",
              "      <th></th>\n",
              "      <th></th>\n",
              "      <th></th>\n",
              "      <th></th>\n",
              "      <th></th>\n",
              "      <th></th>\n",
              "      <th></th>\n",
              "      <th></th>\n",
              "      <th></th>\n",
              "      <th></th>\n",
              "      <th></th>\n",
              "      <th></th>\n",
              "      <th></th>\n",
              "      <th></th>\n",
              "      <th></th>\n",
              "      <th></th>\n",
              "      <th></th>\n",
              "      <th></th>\n",
              "      <th></th>\n",
              "      <th></th>\n",
              "      <th></th>\n",
              "      <th></th>\n",
              "      <th></th>\n",
              "      <th></th>\n",
              "      <th></th>\n",
              "    </tr>\n",
              "  </thead>\n",
              "  <tbody>\n",
              "    <tr>\n",
              "      <th>5524</th>\n",
              "      <td>1957</td>\n",
              "      <td>Graduation</td>\n",
              "      <td>Single</td>\n",
              "      <td>58138.0</td>\n",
              "      <td>0</td>\n",
              "      <td>0</td>\n",
              "      <td>04-09-2012</td>\n",
              "      <td>58</td>\n",
              "      <td>635</td>\n",
              "      <td>88</td>\n",
              "      <td>546</td>\n",
              "      <td>172</td>\n",
              "      <td>88</td>\n",
              "      <td>88</td>\n",
              "      <td>3</td>\n",
              "      <td>8</td>\n",
              "      <td>10</td>\n",
              "      <td>4</td>\n",
              "      <td>7</td>\n",
              "      <td>0</td>\n",
              "      <td>0</td>\n",
              "      <td>0</td>\n",
              "      <td>0</td>\n",
              "      <td>0</td>\n",
              "      <td>0</td>\n",
              "      <td>3</td>\n",
              "      <td>11</td>\n",
              "      <td>1</td>\n",
              "    </tr>\n",
              "    <tr>\n",
              "      <th>2174</th>\n",
              "      <td>1954</td>\n",
              "      <td>Graduation</td>\n",
              "      <td>Single</td>\n",
              "      <td>46344.0</td>\n",
              "      <td>1</td>\n",
              "      <td>1</td>\n",
              "      <td>08-03-2014</td>\n",
              "      <td>38</td>\n",
              "      <td>11</td>\n",
              "      <td>1</td>\n",
              "      <td>6</td>\n",
              "      <td>2</td>\n",
              "      <td>1</td>\n",
              "      <td>6</td>\n",
              "      <td>2</td>\n",
              "      <td>1</td>\n",
              "      <td>1</td>\n",
              "      <td>2</td>\n",
              "      <td>5</td>\n",
              "      <td>0</td>\n",
              "      <td>0</td>\n",
              "      <td>0</td>\n",
              "      <td>0</td>\n",
              "      <td>0</td>\n",
              "      <td>0</td>\n",
              "      <td>3</td>\n",
              "      <td>11</td>\n",
              "      <td>0</td>\n",
              "    </tr>\n",
              "    <tr>\n",
              "      <th>4141</th>\n",
              "      <td>1965</td>\n",
              "      <td>Graduation</td>\n",
              "      <td>Together</td>\n",
              "      <td>71613.0</td>\n",
              "      <td>0</td>\n",
              "      <td>0</td>\n",
              "      <td>21-08-2013</td>\n",
              "      <td>26</td>\n",
              "      <td>426</td>\n",
              "      <td>49</td>\n",
              "      <td>127</td>\n",
              "      <td>111</td>\n",
              "      <td>21</td>\n",
              "      <td>42</td>\n",
              "      <td>1</td>\n",
              "      <td>8</td>\n",
              "      <td>2</td>\n",
              "      <td>10</td>\n",
              "      <td>4</td>\n",
              "      <td>0</td>\n",
              "      <td>0</td>\n",
              "      <td>0</td>\n",
              "      <td>0</td>\n",
              "      <td>0</td>\n",
              "      <td>0</td>\n",
              "      <td>3</td>\n",
              "      <td>11</td>\n",
              "      <td>0</td>\n",
              "    </tr>\n",
              "    <tr>\n",
              "      <th>6182</th>\n",
              "      <td>1984</td>\n",
              "      <td>Graduation</td>\n",
              "      <td>Together</td>\n",
              "      <td>26646.0</td>\n",
              "      <td>1</td>\n",
              "      <td>0</td>\n",
              "      <td>10-02-2014</td>\n",
              "      <td>26</td>\n",
              "      <td>11</td>\n",
              "      <td>4</td>\n",
              "      <td>20</td>\n",
              "      <td>10</td>\n",
              "      <td>3</td>\n",
              "      <td>5</td>\n",
              "      <td>2</td>\n",
              "      <td>2</td>\n",
              "      <td>0</td>\n",
              "      <td>4</td>\n",
              "      <td>6</td>\n",
              "      <td>0</td>\n",
              "      <td>0</td>\n",
              "      <td>0</td>\n",
              "      <td>0</td>\n",
              "      <td>0</td>\n",
              "      <td>0</td>\n",
              "      <td>3</td>\n",
              "      <td>11</td>\n",
              "      <td>0</td>\n",
              "    </tr>\n",
              "    <tr>\n",
              "      <th>5324</th>\n",
              "      <td>1981</td>\n",
              "      <td>PhD</td>\n",
              "      <td>Married</td>\n",
              "      <td>58293.0</td>\n",
              "      <td>1</td>\n",
              "      <td>0</td>\n",
              "      <td>19-01-2014</td>\n",
              "      <td>94</td>\n",
              "      <td>173</td>\n",
              "      <td>43</td>\n",
              "      <td>118</td>\n",
              "      <td>46</td>\n",
              "      <td>27</td>\n",
              "      <td>15</td>\n",
              "      <td>5</td>\n",
              "      <td>5</td>\n",
              "      <td>3</td>\n",
              "      <td>6</td>\n",
              "      <td>5</td>\n",
              "      <td>0</td>\n",
              "      <td>0</td>\n",
              "      <td>0</td>\n",
              "      <td>0</td>\n",
              "      <td>0</td>\n",
              "      <td>0</td>\n",
              "      <td>3</td>\n",
              "      <td>11</td>\n",
              "      <td>0</td>\n",
              "    </tr>\n",
              "    <tr>\n",
              "      <th>7446</th>\n",
              "      <td>1967</td>\n",
              "      <td>Master</td>\n",
              "      <td>Together</td>\n",
              "      <td>62513.0</td>\n",
              "      <td>0</td>\n",
              "      <td>1</td>\n",
              "      <td>09-09-2013</td>\n",
              "      <td>16</td>\n",
              "      <td>520</td>\n",
              "      <td>42</td>\n",
              "      <td>98</td>\n",
              "      <td>0</td>\n",
              "      <td>42</td>\n",
              "      <td>14</td>\n",
              "      <td>2</td>\n",
              "      <td>6</td>\n",
              "      <td>4</td>\n",
              "      <td>10</td>\n",
              "      <td>6</td>\n",
              "      <td>0</td>\n",
              "      <td>0</td>\n",
              "      <td>0</td>\n",
              "      <td>0</td>\n",
              "      <td>0</td>\n",
              "      <td>0</td>\n",
              "      <td>3</td>\n",
              "      <td>11</td>\n",
              "      <td>0</td>\n",
              "    </tr>\n",
              "    <tr>\n",
              "      <th>965</th>\n",
              "      <td>1971</td>\n",
              "      <td>Graduation</td>\n",
              "      <td>Divorced</td>\n",
              "      <td>55635.0</td>\n",
              "      <td>0</td>\n",
              "      <td>1</td>\n",
              "      <td>13-11-2012</td>\n",
              "      <td>34</td>\n",
              "      <td>235</td>\n",
              "      <td>65</td>\n",
              "      <td>164</td>\n",
              "      <td>50</td>\n",
              "      <td>49</td>\n",
              "      <td>27</td>\n",
              "      <td>4</td>\n",
              "      <td>7</td>\n",
              "      <td>3</td>\n",
              "      <td>7</td>\n",
              "      <td>6</td>\n",
              "      <td>0</td>\n",
              "      <td>0</td>\n",
              "      <td>0</td>\n",
              "      <td>0</td>\n",
              "      <td>0</td>\n",
              "      <td>0</td>\n",
              "      <td>3</td>\n",
              "      <td>11</td>\n",
              "      <td>0</td>\n",
              "    </tr>\n",
              "    <tr>\n",
              "      <th>6177</th>\n",
              "      <td>1985</td>\n",
              "      <td>PhD</td>\n",
              "      <td>Married</td>\n",
              "      <td>33454.0</td>\n",
              "      <td>1</td>\n",
              "      <td>0</td>\n",
              "      <td>08-05-2013</td>\n",
              "      <td>32</td>\n",
              "      <td>76</td>\n",
              "      <td>10</td>\n",
              "      <td>56</td>\n",
              "      <td>3</td>\n",
              "      <td>1</td>\n",
              "      <td>23</td>\n",
              "      <td>2</td>\n",
              "      <td>4</td>\n",
              "      <td>0</td>\n",
              "      <td>4</td>\n",
              "      <td>8</td>\n",
              "      <td>0</td>\n",
              "      <td>0</td>\n",
              "      <td>0</td>\n",
              "      <td>0</td>\n",
              "      <td>0</td>\n",
              "      <td>0</td>\n",
              "      <td>3</td>\n",
              "      <td>11</td>\n",
              "      <td>0</td>\n",
              "    </tr>\n",
              "    <tr>\n",
              "      <th>4855</th>\n",
              "      <td>1974</td>\n",
              "      <td>PhD</td>\n",
              "      <td>Together</td>\n",
              "      <td>30351.0</td>\n",
              "      <td>1</td>\n",
              "      <td>0</td>\n",
              "      <td>06-06-2013</td>\n",
              "      <td>19</td>\n",
              "      <td>14</td>\n",
              "      <td>0</td>\n",
              "      <td>24</td>\n",
              "      <td>3</td>\n",
              "      <td>3</td>\n",
              "      <td>2</td>\n",
              "      <td>1</td>\n",
              "      <td>3</td>\n",
              "      <td>0</td>\n",
              "      <td>2</td>\n",
              "      <td>9</td>\n",
              "      <td>0</td>\n",
              "      <td>0</td>\n",
              "      <td>0</td>\n",
              "      <td>0</td>\n",
              "      <td>0</td>\n",
              "      <td>0</td>\n",
              "      <td>3</td>\n",
              "      <td>11</td>\n",
              "      <td>1</td>\n",
              "    </tr>\n",
              "    <tr>\n",
              "      <th>5899</th>\n",
              "      <td>1950</td>\n",
              "      <td>PhD</td>\n",
              "      <td>Together</td>\n",
              "      <td>5648.0</td>\n",
              "      <td>1</td>\n",
              "      <td>1</td>\n",
              "      <td>13-03-2014</td>\n",
              "      <td>68</td>\n",
              "      <td>28</td>\n",
              "      <td>0</td>\n",
              "      <td>6</td>\n",
              "      <td>1</td>\n",
              "      <td>1</td>\n",
              "      <td>13</td>\n",
              "      <td>1</td>\n",
              "      <td>1</td>\n",
              "      <td>0</td>\n",
              "      <td>0</td>\n",
              "      <td>20</td>\n",
              "      <td>1</td>\n",
              "      <td>0</td>\n",
              "      <td>0</td>\n",
              "      <td>0</td>\n",
              "      <td>0</td>\n",
              "      <td>0</td>\n",
              "      <td>3</td>\n",
              "      <td>11</td>\n",
              "      <td>0</td>\n",
              "    </tr>\n",
              "  </tbody>\n",
              "</table>\n",
              "</div>"
            ],
            "text/plain": [
              "      Year_Birth   Education Marital_Status  ...  Z_CostContact  Z_Revenue  Response\n",
              "ID                                           ...                                    \n",
              "5524        1957  Graduation         Single  ...              3         11         1\n",
              "2174        1954  Graduation         Single  ...              3         11         0\n",
              "4141        1965  Graduation       Together  ...              3         11         0\n",
              "6182        1984  Graduation       Together  ...              3         11         0\n",
              "5324        1981         PhD        Married  ...              3         11         0\n",
              "7446        1967      Master       Together  ...              3         11         0\n",
              "965         1971  Graduation       Divorced  ...              3         11         0\n",
              "6177        1985         PhD        Married  ...              3         11         0\n",
              "4855        1974         PhD       Together  ...              3         11         1\n",
              "5899        1950         PhD       Together  ...              3         11         0\n",
              "\n",
              "[10 rows x 28 columns]"
            ]
          },
          "metadata": {},
          "execution_count": 2
        }
      ]
    },
    {
      "cell_type": "markdown",
      "metadata": {
        "id": "yc1z_BIWx1AO"
      },
      "source": [
        "Here we can see a preview of our columns and the first 10 entries in our dataset."
      ]
    },
    {
      "cell_type": "code",
      "metadata": {
        "colab": {
          "base_uri": "https://localhost:8080/"
        },
        "id": "EmKwwyVwcm9T",
        "outputId": "c40333cc-59fc-423d-e29d-c3dc32113042"
      },
      "source": [
        "marketing.info()"
      ],
      "execution_count": null,
      "outputs": [
        {
          "output_type": "stream",
          "name": "stdout",
          "text": [
            "<class 'pandas.core.frame.DataFrame'>\n",
            "Int64Index: 2240 entries, 5524 to 9405\n",
            "Data columns (total 28 columns):\n",
            " #   Column               Non-Null Count  Dtype  \n",
            "---  ------               --------------  -----  \n",
            " 0   Year_Birth           2240 non-null   int64  \n",
            " 1   Education            2240 non-null   object \n",
            " 2   Marital_Status       2240 non-null   object \n",
            " 3   Income               2216 non-null   float64\n",
            " 4   Kidhome              2240 non-null   int64  \n",
            " 5   Teenhome             2240 non-null   int64  \n",
            " 6   Dt_Customer          2240 non-null   object \n",
            " 7   Recency              2240 non-null   int64  \n",
            " 8   MntWines             2240 non-null   int64  \n",
            " 9   MntFruits            2240 non-null   int64  \n",
            " 10  MntMeatProducts      2240 non-null   int64  \n",
            " 11  MntFishProducts      2240 non-null   int64  \n",
            " 12  MntSweetProducts     2240 non-null   int64  \n",
            " 13  MntGoldProds         2240 non-null   int64  \n",
            " 14  NumDealsPurchases    2240 non-null   int64  \n",
            " 15  NumWebPurchases      2240 non-null   int64  \n",
            " 16  NumCatalogPurchases  2240 non-null   int64  \n",
            " 17  NumStorePurchases    2240 non-null   int64  \n",
            " 18  NumWebVisitsMonth    2240 non-null   int64  \n",
            " 19  AcceptedCmp3         2240 non-null   int64  \n",
            " 20  AcceptedCmp4         2240 non-null   int64  \n",
            " 21  AcceptedCmp5         2240 non-null   int64  \n",
            " 22  AcceptedCmp1         2240 non-null   int64  \n",
            " 23  AcceptedCmp2         2240 non-null   int64  \n",
            " 24  Complain             2240 non-null   int64  \n",
            " 25  Z_CostContact        2240 non-null   int64  \n",
            " 26  Z_Revenue            2240 non-null   int64  \n",
            " 27  Response             2240 non-null   int64  \n",
            "dtypes: float64(1), int64(24), object(3)\n",
            "memory usage: 507.5+ KB\n"
          ]
        }
      ]
    },
    {
      "cell_type": "markdown",
      "metadata": {
        "id": "KsGlbj6NygDa"
      },
      "source": [
        "Above is the overall information of dataset, stating the columns(28), with 2240 entries, and also we can see the data types."
      ]
    },
    {
      "cell_type": "code",
      "metadata": {
        "colab": {
          "base_uri": "https://localhost:8080/",
          "height": 320
        },
        "id": "WF4d9pEoc0Yb",
        "outputId": "beaf5344-ac8e-47d4-a97b-150c9f7b58bc"
      },
      "source": [
        "marketing.describe()"
      ],
      "execution_count": null,
      "outputs": [
        {
          "output_type": "execute_result",
          "data": {
            "text/html": [
              "<div>\n",
              "<style scoped>\n",
              "    .dataframe tbody tr th:only-of-type {\n",
              "        vertical-align: middle;\n",
              "    }\n",
              "\n",
              "    .dataframe tbody tr th {\n",
              "        vertical-align: top;\n",
              "    }\n",
              "\n",
              "    .dataframe thead th {\n",
              "        text-align: right;\n",
              "    }\n",
              "</style>\n",
              "<table border=\"1\" class=\"dataframe\">\n",
              "  <thead>\n",
              "    <tr style=\"text-align: right;\">\n",
              "      <th></th>\n",
              "      <th>Year_Birth</th>\n",
              "      <th>Income</th>\n",
              "      <th>Kidhome</th>\n",
              "      <th>Teenhome</th>\n",
              "      <th>Recency</th>\n",
              "      <th>MntWines</th>\n",
              "      <th>MntFruits</th>\n",
              "      <th>MntMeatProducts</th>\n",
              "      <th>MntFishProducts</th>\n",
              "      <th>MntSweetProducts</th>\n",
              "      <th>MntGoldProds</th>\n",
              "      <th>NumDealsPurchases</th>\n",
              "      <th>NumWebPurchases</th>\n",
              "      <th>NumCatalogPurchases</th>\n",
              "      <th>NumStorePurchases</th>\n",
              "      <th>NumWebVisitsMonth</th>\n",
              "      <th>AcceptedCmp3</th>\n",
              "      <th>AcceptedCmp4</th>\n",
              "      <th>AcceptedCmp5</th>\n",
              "      <th>AcceptedCmp1</th>\n",
              "      <th>AcceptedCmp2</th>\n",
              "      <th>Complain</th>\n",
              "      <th>Z_CostContact</th>\n",
              "      <th>Z_Revenue</th>\n",
              "      <th>Response</th>\n",
              "    </tr>\n",
              "  </thead>\n",
              "  <tbody>\n",
              "    <tr>\n",
              "      <th>count</th>\n",
              "      <td>2240.000000</td>\n",
              "      <td>2216.000000</td>\n",
              "      <td>2240.000000</td>\n",
              "      <td>2240.000000</td>\n",
              "      <td>2240.000000</td>\n",
              "      <td>2240.000000</td>\n",
              "      <td>2240.000000</td>\n",
              "      <td>2240.000000</td>\n",
              "      <td>2240.000000</td>\n",
              "      <td>2240.000000</td>\n",
              "      <td>2240.000000</td>\n",
              "      <td>2240.000000</td>\n",
              "      <td>2240.000000</td>\n",
              "      <td>2240.000000</td>\n",
              "      <td>2240.000000</td>\n",
              "      <td>2240.000000</td>\n",
              "      <td>2240.000000</td>\n",
              "      <td>2240.000000</td>\n",
              "      <td>2240.000000</td>\n",
              "      <td>2240.000000</td>\n",
              "      <td>2240.000000</td>\n",
              "      <td>2240.000000</td>\n",
              "      <td>2240.0</td>\n",
              "      <td>2240.0</td>\n",
              "      <td>2240.000000</td>\n",
              "    </tr>\n",
              "    <tr>\n",
              "      <th>mean</th>\n",
              "      <td>1968.805804</td>\n",
              "      <td>52247.251354</td>\n",
              "      <td>0.444196</td>\n",
              "      <td>0.506250</td>\n",
              "      <td>49.109375</td>\n",
              "      <td>303.935714</td>\n",
              "      <td>26.302232</td>\n",
              "      <td>166.950000</td>\n",
              "      <td>37.525446</td>\n",
              "      <td>27.062946</td>\n",
              "      <td>44.021875</td>\n",
              "      <td>2.325000</td>\n",
              "      <td>4.084821</td>\n",
              "      <td>2.662054</td>\n",
              "      <td>5.790179</td>\n",
              "      <td>5.316518</td>\n",
              "      <td>0.072768</td>\n",
              "      <td>0.074554</td>\n",
              "      <td>0.072768</td>\n",
              "      <td>0.064286</td>\n",
              "      <td>0.013393</td>\n",
              "      <td>0.009375</td>\n",
              "      <td>3.0</td>\n",
              "      <td>11.0</td>\n",
              "      <td>0.149107</td>\n",
              "    </tr>\n",
              "    <tr>\n",
              "      <th>std</th>\n",
              "      <td>11.984069</td>\n",
              "      <td>25173.076661</td>\n",
              "      <td>0.538398</td>\n",
              "      <td>0.544538</td>\n",
              "      <td>28.962453</td>\n",
              "      <td>336.597393</td>\n",
              "      <td>39.773434</td>\n",
              "      <td>225.715373</td>\n",
              "      <td>54.628979</td>\n",
              "      <td>41.280498</td>\n",
              "      <td>52.167439</td>\n",
              "      <td>1.932238</td>\n",
              "      <td>2.778714</td>\n",
              "      <td>2.923101</td>\n",
              "      <td>3.250958</td>\n",
              "      <td>2.426645</td>\n",
              "      <td>0.259813</td>\n",
              "      <td>0.262728</td>\n",
              "      <td>0.259813</td>\n",
              "      <td>0.245316</td>\n",
              "      <td>0.114976</td>\n",
              "      <td>0.096391</td>\n",
              "      <td>0.0</td>\n",
              "      <td>0.0</td>\n",
              "      <td>0.356274</td>\n",
              "    </tr>\n",
              "    <tr>\n",
              "      <th>min</th>\n",
              "      <td>1893.000000</td>\n",
              "      <td>1730.000000</td>\n",
              "      <td>0.000000</td>\n",
              "      <td>0.000000</td>\n",
              "      <td>0.000000</td>\n",
              "      <td>0.000000</td>\n",
              "      <td>0.000000</td>\n",
              "      <td>0.000000</td>\n",
              "      <td>0.000000</td>\n",
              "      <td>0.000000</td>\n",
              "      <td>0.000000</td>\n",
              "      <td>0.000000</td>\n",
              "      <td>0.000000</td>\n",
              "      <td>0.000000</td>\n",
              "      <td>0.000000</td>\n",
              "      <td>0.000000</td>\n",
              "      <td>0.000000</td>\n",
              "      <td>0.000000</td>\n",
              "      <td>0.000000</td>\n",
              "      <td>0.000000</td>\n",
              "      <td>0.000000</td>\n",
              "      <td>0.000000</td>\n",
              "      <td>3.0</td>\n",
              "      <td>11.0</td>\n",
              "      <td>0.000000</td>\n",
              "    </tr>\n",
              "    <tr>\n",
              "      <th>25%</th>\n",
              "      <td>1959.000000</td>\n",
              "      <td>35303.000000</td>\n",
              "      <td>0.000000</td>\n",
              "      <td>0.000000</td>\n",
              "      <td>24.000000</td>\n",
              "      <td>23.750000</td>\n",
              "      <td>1.000000</td>\n",
              "      <td>16.000000</td>\n",
              "      <td>3.000000</td>\n",
              "      <td>1.000000</td>\n",
              "      <td>9.000000</td>\n",
              "      <td>1.000000</td>\n",
              "      <td>2.000000</td>\n",
              "      <td>0.000000</td>\n",
              "      <td>3.000000</td>\n",
              "      <td>3.000000</td>\n",
              "      <td>0.000000</td>\n",
              "      <td>0.000000</td>\n",
              "      <td>0.000000</td>\n",
              "      <td>0.000000</td>\n",
              "      <td>0.000000</td>\n",
              "      <td>0.000000</td>\n",
              "      <td>3.0</td>\n",
              "      <td>11.0</td>\n",
              "      <td>0.000000</td>\n",
              "    </tr>\n",
              "    <tr>\n",
              "      <th>50%</th>\n",
              "      <td>1970.000000</td>\n",
              "      <td>51381.500000</td>\n",
              "      <td>0.000000</td>\n",
              "      <td>0.000000</td>\n",
              "      <td>49.000000</td>\n",
              "      <td>173.500000</td>\n",
              "      <td>8.000000</td>\n",
              "      <td>67.000000</td>\n",
              "      <td>12.000000</td>\n",
              "      <td>8.000000</td>\n",
              "      <td>24.000000</td>\n",
              "      <td>2.000000</td>\n",
              "      <td>4.000000</td>\n",
              "      <td>2.000000</td>\n",
              "      <td>5.000000</td>\n",
              "      <td>6.000000</td>\n",
              "      <td>0.000000</td>\n",
              "      <td>0.000000</td>\n",
              "      <td>0.000000</td>\n",
              "      <td>0.000000</td>\n",
              "      <td>0.000000</td>\n",
              "      <td>0.000000</td>\n",
              "      <td>3.0</td>\n",
              "      <td>11.0</td>\n",
              "      <td>0.000000</td>\n",
              "    </tr>\n",
              "    <tr>\n",
              "      <th>75%</th>\n",
              "      <td>1977.000000</td>\n",
              "      <td>68522.000000</td>\n",
              "      <td>1.000000</td>\n",
              "      <td>1.000000</td>\n",
              "      <td>74.000000</td>\n",
              "      <td>504.250000</td>\n",
              "      <td>33.000000</td>\n",
              "      <td>232.000000</td>\n",
              "      <td>50.000000</td>\n",
              "      <td>33.000000</td>\n",
              "      <td>56.000000</td>\n",
              "      <td>3.000000</td>\n",
              "      <td>6.000000</td>\n",
              "      <td>4.000000</td>\n",
              "      <td>8.000000</td>\n",
              "      <td>7.000000</td>\n",
              "      <td>0.000000</td>\n",
              "      <td>0.000000</td>\n",
              "      <td>0.000000</td>\n",
              "      <td>0.000000</td>\n",
              "      <td>0.000000</td>\n",
              "      <td>0.000000</td>\n",
              "      <td>3.0</td>\n",
              "      <td>11.0</td>\n",
              "      <td>0.000000</td>\n",
              "    </tr>\n",
              "    <tr>\n",
              "      <th>max</th>\n",
              "      <td>1996.000000</td>\n",
              "      <td>666666.000000</td>\n",
              "      <td>2.000000</td>\n",
              "      <td>2.000000</td>\n",
              "      <td>99.000000</td>\n",
              "      <td>1493.000000</td>\n",
              "      <td>199.000000</td>\n",
              "      <td>1725.000000</td>\n",
              "      <td>259.000000</td>\n",
              "      <td>263.000000</td>\n",
              "      <td>362.000000</td>\n",
              "      <td>15.000000</td>\n",
              "      <td>27.000000</td>\n",
              "      <td>28.000000</td>\n",
              "      <td>13.000000</td>\n",
              "      <td>20.000000</td>\n",
              "      <td>1.000000</td>\n",
              "      <td>1.000000</td>\n",
              "      <td>1.000000</td>\n",
              "      <td>1.000000</td>\n",
              "      <td>1.000000</td>\n",
              "      <td>1.000000</td>\n",
              "      <td>3.0</td>\n",
              "      <td>11.0</td>\n",
              "      <td>1.000000</td>\n",
              "    </tr>\n",
              "  </tbody>\n",
              "</table>\n",
              "</div>"
            ],
            "text/plain": [
              "        Year_Birth         Income  ...  Z_Revenue     Response\n",
              "count  2240.000000    2216.000000  ...     2240.0  2240.000000\n",
              "mean   1968.805804   52247.251354  ...       11.0     0.149107\n",
              "std      11.984069   25173.076661  ...        0.0     0.356274\n",
              "min    1893.000000    1730.000000  ...       11.0     0.000000\n",
              "25%    1959.000000   35303.000000  ...       11.0     0.000000\n",
              "50%    1970.000000   51381.500000  ...       11.0     0.000000\n",
              "75%    1977.000000   68522.000000  ...       11.0     0.000000\n",
              "max    1996.000000  666666.000000  ...       11.0     1.000000\n",
              "\n",
              "[8 rows x 25 columns]"
            ]
          },
          "metadata": {},
          "execution_count": 4
        }
      ]
    },
    {
      "cell_type": "markdown",
      "metadata": {
        "id": "HBGbxOFa0Jh1"
      },
      "source": [
        "A described view of our table"
      ]
    },
    {
      "cell_type": "code",
      "metadata": {
        "colab": {
          "base_uri": "https://localhost:8080/"
        },
        "id": "dOFHHm_zc5LS",
        "outputId": "e212f691-e7a1-40f2-ed0e-23561e02d5b6"
      },
      "source": [
        "marketing.size"
      ],
      "execution_count": null,
      "outputs": [
        {
          "output_type": "execute_result",
          "data": {
            "text/plain": [
              "62720"
            ]
          },
          "metadata": {},
          "execution_count": 5
        }
      ]
    },
    {
      "cell_type": "markdown",
      "metadata": {
        "id": "uFaM7DwP0QQ1"
      },
      "source": [
        "A check on the size of our table"
      ]
    },
    {
      "cell_type": "code",
      "metadata": {
        "colab": {
          "base_uri": "https://localhost:8080/"
        },
        "id": "q2weGh7fc8WR",
        "outputId": "9b895979-1ae2-492e-eab6-580dec761595"
      },
      "source": [
        "marketing.shape"
      ],
      "execution_count": null,
      "outputs": [
        {
          "output_type": "execute_result",
          "data": {
            "text/plain": [
              "(2240, 28)"
            ]
          },
          "metadata": {},
          "execution_count": 6
        }
      ]
    },
    {
      "cell_type": "markdown",
      "metadata": {
        "id": "JRSOQx2F0VSE"
      },
      "source": [
        "A check on the shape of our table"
      ]
    },
    {
      "cell_type": "code",
      "metadata": {
        "colab": {
          "base_uri": "https://localhost:8080/"
        },
        "id": "YNm-ss66svjA",
        "outputId": "a6a5c873-cd70-432d-b78a-ed0e14920c8a"
      },
      "source": [
        "marketing.isnull().sum()"
      ],
      "execution_count": null,
      "outputs": [
        {
          "output_type": "execute_result",
          "data": {
            "text/plain": [
              "Year_Birth              0\n",
              "Education               0\n",
              "Marital_Status          0\n",
              "Income                 24\n",
              "Kidhome                 0\n",
              "Teenhome                0\n",
              "Dt_Customer             0\n",
              "Recency                 0\n",
              "MntWines                0\n",
              "MntFruits               0\n",
              "MntMeatProducts         0\n",
              "MntFishProducts         0\n",
              "MntSweetProducts        0\n",
              "MntGoldProds            0\n",
              "NumDealsPurchases       0\n",
              "NumWebPurchases         0\n",
              "NumCatalogPurchases     0\n",
              "NumStorePurchases       0\n",
              "NumWebVisitsMonth       0\n",
              "AcceptedCmp3            0\n",
              "AcceptedCmp4            0\n",
              "AcceptedCmp5            0\n",
              "AcceptedCmp1            0\n",
              "AcceptedCmp2            0\n",
              "Complain                0\n",
              "Z_CostContact           0\n",
              "Z_Revenue               0\n",
              "Response                0\n",
              "dtype: int64"
            ]
          },
          "metadata": {},
          "execution_count": 7
        }
      ]
    },
    {
      "cell_type": "markdown",
      "metadata": {
        "id": "3kfzTBqw0ZGu"
      },
      "source": [
        "From the check done above we can see we have 24 null values"
      ]
    },
    {
      "cell_type": "code",
      "metadata": {
        "colab": {
          "base_uri": "https://localhost:8080/"
        },
        "id": "KNkJBQEVs3GW",
        "outputId": "056a85d2-98eb-4943-d24e-2436e17ac5dc"
      },
      "source": [
        "marketing.duplicated().sum()"
      ],
      "execution_count": null,
      "outputs": [
        {
          "output_type": "execute_result",
          "data": {
            "text/plain": [
              "182"
            ]
          },
          "metadata": {},
          "execution_count": 8
        }
      ]
    },
    {
      "cell_type": "markdown",
      "metadata": {
        "id": "ejYNMlve0j6y"
      },
      "source": [
        "Our dataset has 182 duplicated values"
      ]
    },
    {
      "cell_type": "markdown",
      "metadata": {
        "id": "mEQpEJGG0_qk"
      },
      "source": [
        "## 1.4  Data Cleaning"
      ]
    },
    {
      "cell_type": "markdown",
      "metadata": {
        "id": "BJzjcKVH1cR8"
      },
      "source": [
        "### Validity"
      ]
    },
    {
      "cell_type": "code",
      "metadata": {
        "id": "s9V-kBEM1gTW"
      },
      "source": [
        "# Procedure 1\n",
        "# Data Cleaning Action: Dropping the \"Year_Birth\" column\n",
        "# Explanation: It is irrelevant to our analysis.\n",
        "\n",
        "marketing_new = marketing.drop(['Year_Birth'], axis=1, inplace=True)\n",
        "marketing_new"
      ],
      "execution_count": null,
      "outputs": []
    },
    {
      "cell_type": "code",
      "metadata": {
        "id": "wVwEVQCMOKJF"
      },
      "source": [
        "# Procedure 2\n",
        "# Data Cleaning Action: Dropping the \"Dt_customer\" column\n",
        "# Explanation: It is irrelevant to our analysis.\n",
        "\n",
        "marketing_new = marketing.drop(['Dt_Customer'], axis=1, inplace=True)\n",
        "marketing_new"
      ],
      "execution_count": null,
      "outputs": []
    },
    {
      "cell_type": "code",
      "metadata": {
        "id": "_D-EBBm4PHgV"
      },
      "source": [
        "# Procedure 3\n",
        "# Data Cleaning Action: Joining all the purchases columns\n",
        "# Explanation: This is to help us easily manipulate all the purchases under one general column called purchases\n",
        "\n",
        "purchases1 = marketing['NumDealsPurchases'] + marketing['NumWebPurchases'] + marketing['NumCatalogPurchases'] + marketing['NumStorePurchases']\n",
        "marketing['number_purchases'] = purchases1"
      ],
      "execution_count": null,
      "outputs": []
    },
    {
      "cell_type": "code",
      "metadata": {
        "id": "-Ww8Qqa8T5Dn"
      },
      "source": [
        "# Procedure 4\n",
        "# Data Cleaning Action: Joining all the products columns\n",
        "# Explanation: This is to help us easily manipulate all the products under one general column called total_spent\n",
        "\n",
        "total_spent1 = marketing['MntWines'] + marketing['MntFruits'] + marketing['MntMeatProducts'] + marketing['MntFishProducts'] + marketing['MntSweetProducts'] + marketing['MntGoldProds']\n",
        "marketing['total_spent'] = total_spent1"
      ],
      "execution_count": null,
      "outputs": []
    },
    {
      "cell_type": "code",
      "metadata": {
        "id": "SiW0iGtET_Pn"
      },
      "source": [
        "# Procedure 5\n",
        "# Data Cleaning Action: Joining all the purchases columns\n",
        "# Explanation: This is to help us easily manipulate all the children under one general column called children\n",
        "children1 = marketing['Kidhome'] + marketing['Teenhome'] \n",
        "marketing['children'] = children1"
      ],
      "execution_count": null,
      "outputs": []
    },
    {
      "cell_type": "code",
      "metadata": {
        "id": "rNkoi4YkUFXx"
      },
      "source": [
        "# Procedure 6\n",
        "# Data Cleaning Action: Joining all the purchases columns\n",
        "# Explanation: This is to help us easily manipulate all the luxuries under one general column called luxuries.\n",
        "luxuries1 = marketing['MntWines'] + marketing['MntSweetProducts'] + marketing['MntGoldProds'] \n",
        "marketing['luxuries'] = luxuries1"
      ],
      "execution_count": null,
      "outputs": []
    },
    {
      "cell_type": "markdown",
      "metadata": {
        "id": "mC0BnlC8FJep"
      },
      "source": [
        "Since we have combined our four Purchases columns we proceeded to drop them because now they are under one purchase column."
      ]
    },
    {
      "cell_type": "code",
      "metadata": {
        "id": "OzkILtPUToF1"
      },
      "source": [
        "# Procedure 7\n",
        "# Data Cleaning Action: Dropping the \"NumDealsPurchases\" column\n",
        "# Explanation: It's an unneccessary column as its count is already catered for in the purchases column\n",
        "\n",
        "marketing_new = marketing.drop(['NumDealsPurchases'], axis=1, inplace=True)\n",
        "marketing_new"
      ],
      "execution_count": null,
      "outputs": []
    },
    {
      "cell_type": "code",
      "metadata": {
        "id": "2ZpqGS3sTqvd"
      },
      "source": [
        "# Procedure 8\n",
        "# Data Cleaning Action: Dropping the \"NumWebPurchases\" column\n",
        "# Explanation: It's an unneccessary column as its count is already catered for in the purchases column\n",
        "\n",
        "marketing_new = marketing.drop(['NumWebPurchases'], axis=1, inplace=True)\n",
        "marketing_new"
      ],
      "execution_count": null,
      "outputs": []
    },
    {
      "cell_type": "code",
      "metadata": {
        "id": "lDZoEhuJTuLX"
      },
      "source": [
        "# Procedure 9\n",
        "# Data Cleaning Action: Dropping the \"NumCatalogPurchases\" column\n",
        "# Explanation: It's an unneccessary column as its count is already catered for in the purchases column\n",
        "\n",
        "\n",
        "marketing_new = marketing.drop(['NumCatalogPurchases'], axis=1, inplace=True)\n",
        "marketing_new"
      ],
      "execution_count": null,
      "outputs": []
    },
    {
      "cell_type": "code",
      "metadata": {
        "id": "1wBLuhliTjvE"
      },
      "source": [
        "# Procedure 10\n",
        "# Data Cleaning Action: Dropping the \"NumStorePurchases\" column\n",
        "# Explanation: It's an unneccessary column as its count is already catered for in the purchases column\n",
        "\n",
        "\n",
        "marketing_new = marketing.drop(['NumStorePurchases'], axis=1, inplace=True)\n",
        "marketing_new"
      ],
      "execution_count": null,
      "outputs": []
    },
    {
      "cell_type": "code",
      "metadata": {
        "id": "Xs8mpYh8URug"
      },
      "source": [
        "# Procedure 11\n",
        "# Data Cleaning Action: Joining the MntFruits, MntMeatProducts, MntFishProducts columns\n",
        "# Explanation: This is to help us easily work with all the food products under one column called \"food\"\n",
        "\n",
        "food1 = marketing['MntFruits'] + marketing['MntMeatProducts'] + marketing['MntFishProducts']\n",
        "marketing['food'] = food1"
      ],
      "execution_count": null,
      "outputs": []
    },
    {
      "cell_type": "code",
      "metadata": {
        "colab": {
          "base_uri": "https://localhost:8080/",
          "height": 258
        },
        "id": "yW2OQalQOzqF",
        "outputId": "a541a110-38e6-4589-b4fa-7a018ef265c4"
      },
      "source": [
        "# Previewing our table\n",
        "marketing.head(5)"
      ],
      "execution_count": null,
      "outputs": [
        {
          "output_type": "execute_result",
          "data": {
            "text/html": [
              "<div>\n",
              "<style scoped>\n",
              "    .dataframe tbody tr th:only-of-type {\n",
              "        vertical-align: middle;\n",
              "    }\n",
              "\n",
              "    .dataframe tbody tr th {\n",
              "        vertical-align: top;\n",
              "    }\n",
              "\n",
              "    .dataframe thead th {\n",
              "        text-align: right;\n",
              "    }\n",
              "</style>\n",
              "<table border=\"1\" class=\"dataframe\">\n",
              "  <thead>\n",
              "    <tr style=\"text-align: right;\">\n",
              "      <th></th>\n",
              "      <th>Education</th>\n",
              "      <th>Marital_Status</th>\n",
              "      <th>Income</th>\n",
              "      <th>Kidhome</th>\n",
              "      <th>Teenhome</th>\n",
              "      <th>Recency</th>\n",
              "      <th>MntWines</th>\n",
              "      <th>MntFruits</th>\n",
              "      <th>MntMeatProducts</th>\n",
              "      <th>MntFishProducts</th>\n",
              "      <th>MntSweetProducts</th>\n",
              "      <th>MntGoldProds</th>\n",
              "      <th>NumWebVisitsMonth</th>\n",
              "      <th>AcceptedCmp3</th>\n",
              "      <th>AcceptedCmp4</th>\n",
              "      <th>AcceptedCmp5</th>\n",
              "      <th>AcceptedCmp1</th>\n",
              "      <th>AcceptedCmp2</th>\n",
              "      <th>Complain</th>\n",
              "      <th>Z_CostContact</th>\n",
              "      <th>Z_Revenue</th>\n",
              "      <th>Response</th>\n",
              "      <th>number_purchases</th>\n",
              "      <th>total_spent</th>\n",
              "      <th>children</th>\n",
              "      <th>luxuries</th>\n",
              "      <th>food</th>\n",
              "    </tr>\n",
              "    <tr>\n",
              "      <th>ID</th>\n",
              "      <th></th>\n",
              "      <th></th>\n",
              "      <th></th>\n",
              "      <th></th>\n",
              "      <th></th>\n",
              "      <th></th>\n",
              "      <th></th>\n",
              "      <th></th>\n",
              "      <th></th>\n",
              "      <th></th>\n",
              "      <th></th>\n",
              "      <th></th>\n",
              "      <th></th>\n",
              "      <th></th>\n",
              "      <th></th>\n",
              "      <th></th>\n",
              "      <th></th>\n",
              "      <th></th>\n",
              "      <th></th>\n",
              "      <th></th>\n",
              "      <th></th>\n",
              "      <th></th>\n",
              "      <th></th>\n",
              "      <th></th>\n",
              "      <th></th>\n",
              "      <th></th>\n",
              "      <th></th>\n",
              "    </tr>\n",
              "  </thead>\n",
              "  <tbody>\n",
              "    <tr>\n",
              "      <th>5524</th>\n",
              "      <td>Graduation</td>\n",
              "      <td>Single</td>\n",
              "      <td>58138.0</td>\n",
              "      <td>0</td>\n",
              "      <td>0</td>\n",
              "      <td>58</td>\n",
              "      <td>635</td>\n",
              "      <td>88</td>\n",
              "      <td>546</td>\n",
              "      <td>172</td>\n",
              "      <td>88</td>\n",
              "      <td>88</td>\n",
              "      <td>7</td>\n",
              "      <td>0</td>\n",
              "      <td>0</td>\n",
              "      <td>0</td>\n",
              "      <td>0</td>\n",
              "      <td>0</td>\n",
              "      <td>0</td>\n",
              "      <td>3</td>\n",
              "      <td>11</td>\n",
              "      <td>1</td>\n",
              "      <td>25</td>\n",
              "      <td>1617</td>\n",
              "      <td>0</td>\n",
              "      <td>811</td>\n",
              "      <td>806</td>\n",
              "    </tr>\n",
              "    <tr>\n",
              "      <th>2174</th>\n",
              "      <td>Graduation</td>\n",
              "      <td>Single</td>\n",
              "      <td>46344.0</td>\n",
              "      <td>1</td>\n",
              "      <td>1</td>\n",
              "      <td>38</td>\n",
              "      <td>11</td>\n",
              "      <td>1</td>\n",
              "      <td>6</td>\n",
              "      <td>2</td>\n",
              "      <td>1</td>\n",
              "      <td>6</td>\n",
              "      <td>5</td>\n",
              "      <td>0</td>\n",
              "      <td>0</td>\n",
              "      <td>0</td>\n",
              "      <td>0</td>\n",
              "      <td>0</td>\n",
              "      <td>0</td>\n",
              "      <td>3</td>\n",
              "      <td>11</td>\n",
              "      <td>0</td>\n",
              "      <td>6</td>\n",
              "      <td>27</td>\n",
              "      <td>2</td>\n",
              "      <td>18</td>\n",
              "      <td>9</td>\n",
              "    </tr>\n",
              "    <tr>\n",
              "      <th>4141</th>\n",
              "      <td>Graduation</td>\n",
              "      <td>Together</td>\n",
              "      <td>71613.0</td>\n",
              "      <td>0</td>\n",
              "      <td>0</td>\n",
              "      <td>26</td>\n",
              "      <td>426</td>\n",
              "      <td>49</td>\n",
              "      <td>127</td>\n",
              "      <td>111</td>\n",
              "      <td>21</td>\n",
              "      <td>42</td>\n",
              "      <td>4</td>\n",
              "      <td>0</td>\n",
              "      <td>0</td>\n",
              "      <td>0</td>\n",
              "      <td>0</td>\n",
              "      <td>0</td>\n",
              "      <td>0</td>\n",
              "      <td>3</td>\n",
              "      <td>11</td>\n",
              "      <td>0</td>\n",
              "      <td>21</td>\n",
              "      <td>776</td>\n",
              "      <td>0</td>\n",
              "      <td>489</td>\n",
              "      <td>287</td>\n",
              "    </tr>\n",
              "    <tr>\n",
              "      <th>6182</th>\n",
              "      <td>Graduation</td>\n",
              "      <td>Together</td>\n",
              "      <td>26646.0</td>\n",
              "      <td>1</td>\n",
              "      <td>0</td>\n",
              "      <td>26</td>\n",
              "      <td>11</td>\n",
              "      <td>4</td>\n",
              "      <td>20</td>\n",
              "      <td>10</td>\n",
              "      <td>3</td>\n",
              "      <td>5</td>\n",
              "      <td>6</td>\n",
              "      <td>0</td>\n",
              "      <td>0</td>\n",
              "      <td>0</td>\n",
              "      <td>0</td>\n",
              "      <td>0</td>\n",
              "      <td>0</td>\n",
              "      <td>3</td>\n",
              "      <td>11</td>\n",
              "      <td>0</td>\n",
              "      <td>8</td>\n",
              "      <td>53</td>\n",
              "      <td>1</td>\n",
              "      <td>19</td>\n",
              "      <td>34</td>\n",
              "    </tr>\n",
              "    <tr>\n",
              "      <th>5324</th>\n",
              "      <td>PhD</td>\n",
              "      <td>Married</td>\n",
              "      <td>58293.0</td>\n",
              "      <td>1</td>\n",
              "      <td>0</td>\n",
              "      <td>94</td>\n",
              "      <td>173</td>\n",
              "      <td>43</td>\n",
              "      <td>118</td>\n",
              "      <td>46</td>\n",
              "      <td>27</td>\n",
              "      <td>15</td>\n",
              "      <td>5</td>\n",
              "      <td>0</td>\n",
              "      <td>0</td>\n",
              "      <td>0</td>\n",
              "      <td>0</td>\n",
              "      <td>0</td>\n",
              "      <td>0</td>\n",
              "      <td>3</td>\n",
              "      <td>11</td>\n",
              "      <td>0</td>\n",
              "      <td>19</td>\n",
              "      <td>422</td>\n",
              "      <td>1</td>\n",
              "      <td>215</td>\n",
              "      <td>207</td>\n",
              "    </tr>\n",
              "  </tbody>\n",
              "</table>\n",
              "</div>"
            ],
            "text/plain": [
              "       Education Marital_Status   Income  ...  children  luxuries  food\n",
              "ID                                        ...                          \n",
              "5524  Graduation         Single  58138.0  ...         0       811   806\n",
              "2174  Graduation         Single  46344.0  ...         2        18     9\n",
              "4141  Graduation       Together  71613.0  ...         0       489   287\n",
              "6182  Graduation       Together  26646.0  ...         1        19    34\n",
              "5324         PhD        Married  58293.0  ...         1       215   207\n",
              "\n",
              "[5 rows x 27 columns]"
            ]
          },
          "metadata": {},
          "execution_count": 20
        }
      ]
    },
    {
      "cell_type": "markdown",
      "metadata": {
        "id": "RaRNQpzEPFdB"
      },
      "source": [
        "### Accuracy"
      ]
    },
    {
      "cell_type": "code",
      "metadata": {
        "colab": {
          "base_uri": "https://localhost:8080/",
          "height": 321
        },
        "id": "UlTv7oTHllEO",
        "outputId": "088bb6b0-eca1-40b5-bec5-a10c996fa347"
      },
      "source": [
        "# Procedure 1:\n",
        "# Data Cleaning Action: Checking for outliers\n",
        "# Explanation: This will assist us to understand how accurate our data is.\n",
        "# We will first import the matplot library\n",
        "\n",
        "import matplotlib.pyplot as plt \n",
        "% matplotlib inline\n",
        "\n",
        "marketing_matplotlib = marketing.boxplot(column =['Recency','number_purchases', 'Income'], grid = False)\n",
        "marketing_matplotlib;"
      ],
      "execution_count": null,
      "outputs": [
        {
          "output_type": "stream",
          "name": "stderr",
          "text": [
            "/usr/local/lib/python3.7/dist-packages/numpy/core/_asarray.py:83: VisibleDeprecationWarning: Creating an ndarray from ragged nested sequences (which is a list-or-tuple of lists-or-tuples-or ndarrays with different lengths or shapes) is deprecated. If you meant to do this, you must specify 'dtype=object' when creating the ndarray\n",
            "  return array(a, dtype, copy=False, order=order)\n"
          ]
        },
        {
          "output_type": "display_data",
          "data": {
            "image/png": "[encoded data removed]",
            "text/plain": [
              "<Figure size 432x288 with 1 Axes>"
            ]
          },
          "metadata": {
            "needs_background": "light"
          }
        }
      ]
    },
    {
      "cell_type": "markdown",
      "metadata": {
        "id": "5CBHzGisoCqw"
      },
      "source": [
        "We can see that on our income and purchases that there are outliers, but since they are few and  it is reflective of true data so there's no reason why they should  be dropped"
      ]
    },
    {
      "cell_type": "markdown",
      "metadata": {
        "id": "yXXEkB_itskg"
      },
      "source": [
        "### Completeness "
      ]
    },
    {
      "cell_type": "code",
      "metadata": {
        "colab": {
          "base_uri": "https://localhost:8080/"
        },
        "id": "s-az1UIutxsF",
        "outputId": "f27d9877-bf94-4037-fc8f-20cfb84de72a"
      },
      "source": [
        "# Procedure 1:\n",
        "# Data Cleaning Action: Checking the count of null values if there is any\n",
        "# Explanation: This will enables us to figure out if the data is complete thus easing manipulation\n",
        "\n",
        "marketing.isnull().sum()\n"
      ],
      "execution_count": null,
      "outputs": [
        {
          "output_type": "execute_result",
          "data": {
            "text/plain": [
              "Education             0\n",
              "Marital_Status        0\n",
              "Income               24\n",
              "Kidhome               0\n",
              "Teenhome              0\n",
              "Recency               0\n",
              "MntWines              0\n",
              "MntFruits             0\n",
              "MntMeatProducts       0\n",
              "MntFishProducts       0\n",
              "MntSweetProducts      0\n",
              "MntGoldProds          0\n",
              "NumWebVisitsMonth     0\n",
              "AcceptedCmp3          0\n",
              "AcceptedCmp4          0\n",
              "AcceptedCmp5          0\n",
              "AcceptedCmp1          0\n",
              "AcceptedCmp2          0\n",
              "Complain              0\n",
              "Z_CostContact         0\n",
              "Z_Revenue             0\n",
              "Response              0\n",
              "number_purchases      0\n",
              "total_spent           0\n",
              "children              0\n",
              "luxuries              0\n",
              "food                  0\n",
              "dtype: int64"
            ]
          },
          "metadata": {},
          "execution_count": 22
        }
      ]
    },
    {
      "cell_type": "markdown",
      "metadata": {
        "id": "ITeTybxDuPHg"
      },
      "source": [
        "From the data above we can see that we have about 24 null values under the income column."
      ]
    },
    {
      "cell_type": "code",
      "metadata": {
        "colab": {
          "base_uri": "https://localhost:8080/"
        },
        "id": "EGVhZhCqu1ZV",
        "outputId": "7f732756-fbfb-429b-dffd-6cc244f4e946"
      },
      "source": [
        "# Procedure 2\n",
        "# Data Cleaning Action: Filling in the null values\n",
        "# Explanation: Finding the mean of the income colume to help us fill in the null values.\n",
        "#\n",
        "income_mean = marketing['Income'].mean()\n",
        "marketing['Income'].fillna(value=income_mean, inplace=True)\n",
        "\n",
        "# Checking if there are no null values now.\n",
        "marketing.isnull().sum()\n"
      ],
      "execution_count": null,
      "outputs": [
        {
          "output_type": "execute_result",
          "data": {
            "text/plain": [
              "Education            0\n",
              "Marital_Status       0\n",
              "Income               0\n",
              "Kidhome              0\n",
              "Teenhome             0\n",
              "Recency              0\n",
              "MntWines             0\n",
              "MntFruits            0\n",
              "MntMeatProducts      0\n",
              "MntFishProducts      0\n",
              "MntSweetProducts     0\n",
              "MntGoldProds         0\n",
              "NumWebVisitsMonth    0\n",
              "AcceptedCmp3         0\n",
              "AcceptedCmp4         0\n",
              "AcceptedCmp5         0\n",
              "AcceptedCmp1         0\n",
              "AcceptedCmp2         0\n",
              "Complain             0\n",
              "Z_CostContact        0\n",
              "Z_Revenue            0\n",
              "Response             0\n",
              "number_purchases     0\n",
              "total_spent          0\n",
              "children             0\n",
              "luxuries             0\n",
              "food                 0\n",
              "dtype: int64"
            ]
          },
          "metadata": {},
          "execution_count": 23
        }
      ]
    },
    {
      "cell_type": "markdown",
      "metadata": {
        "id": "okLjQ0vRxm6o"
      },
      "source": [
        "We can now see that our dataset is clean of null values."
      ]
    },
    {
      "cell_type": "markdown",
      "metadata": {
        "id": "oF2rw3tYyDbB"
      },
      "source": [
        "### Consistency"
      ]
    },
    {
      "cell_type": "code",
      "metadata": {
        "colab": {
          "base_uri": "https://localhost:8080/"
        },
        "id": "ggVG-MKHygA-",
        "outputId": "86fb599b-83ba-4c83-f726-9a6173523a0f"
      },
      "source": [
        "# Procedure 1:\n",
        "# Data Cleaning Action: Check for duplicate values.\n",
        "# Explanation: This is to allow us determine data that is duplicated.\n",
        "#\n",
        "marketing_dup= marketing.duplicated().sum()\n",
        "marketing_dup"
      ],
      "execution_count": null,
      "outputs": [
        {
          "output_type": "execute_result",
          "data": {
            "text/plain": [
              "182"
            ]
          },
          "metadata": {},
          "execution_count": 24
        }
      ]
    },
    {
      "cell_type": "code",
      "metadata": {
        "colab": {
          "base_uri": "https://localhost:8080/",
          "height": 258
        },
        "id": "9YygPjBhyrCv",
        "outputId": "0e62d097-5e06-4aa0-f086-02c30153ecb6"
      },
      "source": [
        "# Procedure 2:\n",
        "# Data Cleaning Action: Dropping duplicated values if they exist.\n",
        "# Explanation: This is to allow us determine data that is duplicated.\n",
        "#\n",
        "marketing_new = marketing.drop_duplicates(keep=False,inplace=True)\n",
        "marketing.head(5)"
      ],
      "execution_count": null,
      "outputs": [
        {
          "output_type": "execute_result",
          "data": {
            "text/html": [
              "<div>\n",
              "<style scoped>\n",
              "    .dataframe tbody tr th:only-of-type {\n",
              "        vertical-align: middle;\n",
              "    }\n",
              "\n",
              "    .dataframe tbody tr th {\n",
              "        vertical-align: top;\n",
              "    }\n",
              "\n",
              "    .dataframe thead th {\n",
              "        text-align: right;\n",
              "    }\n",
              "</style>\n",
              "<table border=\"1\" class=\"dataframe\">\n",
              "  <thead>\n",
              "    <tr style=\"text-align: right;\">\n",
              "      <th></th>\n",
              "      <th>Education</th>\n",
              "      <th>Marital_Status</th>\n",
              "      <th>Income</th>\n",
              "      <th>Kidhome</th>\n",
              "      <th>Teenhome</th>\n",
              "      <th>Recency</th>\n",
              "      <th>MntWines</th>\n",
              "      <th>MntFruits</th>\n",
              "      <th>MntMeatProducts</th>\n",
              "      <th>MntFishProducts</th>\n",
              "      <th>MntSweetProducts</th>\n",
              "      <th>MntGoldProds</th>\n",
              "      <th>NumWebVisitsMonth</th>\n",
              "      <th>AcceptedCmp3</th>\n",
              "      <th>AcceptedCmp4</th>\n",
              "      <th>AcceptedCmp5</th>\n",
              "      <th>AcceptedCmp1</th>\n",
              "      <th>AcceptedCmp2</th>\n",
              "      <th>Complain</th>\n",
              "      <th>Z_CostContact</th>\n",
              "      <th>Z_Revenue</th>\n",
              "      <th>Response</th>\n",
              "      <th>number_purchases</th>\n",
              "      <th>total_spent</th>\n",
              "      <th>children</th>\n",
              "      <th>luxuries</th>\n",
              "      <th>food</th>\n",
              "    </tr>\n",
              "    <tr>\n",
              "      <th>ID</th>\n",
              "      <th></th>\n",
              "      <th></th>\n",
              "      <th></th>\n",
              "      <th></th>\n",
              "      <th></th>\n",
              "      <th></th>\n",
              "      <th></th>\n",
              "      <th></th>\n",
              "      <th></th>\n",
              "      <th></th>\n",
              "      <th></th>\n",
              "      <th></th>\n",
              "      <th></th>\n",
              "      <th></th>\n",
              "      <th></th>\n",
              "      <th></th>\n",
              "      <th></th>\n",
              "      <th></th>\n",
              "      <th></th>\n",
              "      <th></th>\n",
              "      <th></th>\n",
              "      <th></th>\n",
              "      <th></th>\n",
              "      <th></th>\n",
              "      <th></th>\n",
              "      <th></th>\n",
              "      <th></th>\n",
              "    </tr>\n",
              "  </thead>\n",
              "  <tbody>\n",
              "    <tr>\n",
              "      <th>5524</th>\n",
              "      <td>Graduation</td>\n",
              "      <td>Single</td>\n",
              "      <td>58138.0</td>\n",
              "      <td>0</td>\n",
              "      <td>0</td>\n",
              "      <td>58</td>\n",
              "      <td>635</td>\n",
              "      <td>88</td>\n",
              "      <td>546</td>\n",
              "      <td>172</td>\n",
              "      <td>88</td>\n",
              "      <td>88</td>\n",
              "      <td>7</td>\n",
              "      <td>0</td>\n",
              "      <td>0</td>\n",
              "      <td>0</td>\n",
              "      <td>0</td>\n",
              "      <td>0</td>\n",
              "      <td>0</td>\n",
              "      <td>3</td>\n",
              "      <td>11</td>\n",
              "      <td>1</td>\n",
              "      <td>25</td>\n",
              "      <td>1617</td>\n",
              "      <td>0</td>\n",
              "      <td>811</td>\n",
              "      <td>806</td>\n",
              "    </tr>\n",
              "    <tr>\n",
              "      <th>2174</th>\n",
              "      <td>Graduation</td>\n",
              "      <td>Single</td>\n",
              "      <td>46344.0</td>\n",
              "      <td>1</td>\n",
              "      <td>1</td>\n",
              "      <td>38</td>\n",
              "      <td>11</td>\n",
              "      <td>1</td>\n",
              "      <td>6</td>\n",
              "      <td>2</td>\n",
              "      <td>1</td>\n",
              "      <td>6</td>\n",
              "      <td>5</td>\n",
              "      <td>0</td>\n",
              "      <td>0</td>\n",
              "      <td>0</td>\n",
              "      <td>0</td>\n",
              "      <td>0</td>\n",
              "      <td>0</td>\n",
              "      <td>3</td>\n",
              "      <td>11</td>\n",
              "      <td>0</td>\n",
              "      <td>6</td>\n",
              "      <td>27</td>\n",
              "      <td>2</td>\n",
              "      <td>18</td>\n",
              "      <td>9</td>\n",
              "    </tr>\n",
              "    <tr>\n",
              "      <th>4141</th>\n",
              "      <td>Graduation</td>\n",
              "      <td>Together</td>\n",
              "      <td>71613.0</td>\n",
              "      <td>0</td>\n",
              "      <td>0</td>\n",
              "      <td>26</td>\n",
              "      <td>426</td>\n",
              "      <td>49</td>\n",
              "      <td>127</td>\n",
              "      <td>111</td>\n",
              "      <td>21</td>\n",
              "      <td>42</td>\n",
              "      <td>4</td>\n",
              "      <td>0</td>\n",
              "      <td>0</td>\n",
              "      <td>0</td>\n",
              "      <td>0</td>\n",
              "      <td>0</td>\n",
              "      <td>0</td>\n",
              "      <td>3</td>\n",
              "      <td>11</td>\n",
              "      <td>0</td>\n",
              "      <td>21</td>\n",
              "      <td>776</td>\n",
              "      <td>0</td>\n",
              "      <td>489</td>\n",
              "      <td>287</td>\n",
              "    </tr>\n",
              "    <tr>\n",
              "      <th>6182</th>\n",
              "      <td>Graduation</td>\n",
              "      <td>Together</td>\n",
              "      <td>26646.0</td>\n",
              "      <td>1</td>\n",
              "      <td>0</td>\n",
              "      <td>26</td>\n",
              "      <td>11</td>\n",
              "      <td>4</td>\n",
              "      <td>20</td>\n",
              "      <td>10</td>\n",
              "      <td>3</td>\n",
              "      <td>5</td>\n",
              "      <td>6</td>\n",
              "      <td>0</td>\n",
              "      <td>0</td>\n",
              "      <td>0</td>\n",
              "      <td>0</td>\n",
              "      <td>0</td>\n",
              "      <td>0</td>\n",
              "      <td>3</td>\n",
              "      <td>11</td>\n",
              "      <td>0</td>\n",
              "      <td>8</td>\n",
              "      <td>53</td>\n",
              "      <td>1</td>\n",
              "      <td>19</td>\n",
              "      <td>34</td>\n",
              "    </tr>\n",
              "    <tr>\n",
              "      <th>5324</th>\n",
              "      <td>PhD</td>\n",
              "      <td>Married</td>\n",
              "      <td>58293.0</td>\n",
              "      <td>1</td>\n",
              "      <td>0</td>\n",
              "      <td>94</td>\n",
              "      <td>173</td>\n",
              "      <td>43</td>\n",
              "      <td>118</td>\n",
              "      <td>46</td>\n",
              "      <td>27</td>\n",
              "      <td>15</td>\n",
              "      <td>5</td>\n",
              "      <td>0</td>\n",
              "      <td>0</td>\n",
              "      <td>0</td>\n",
              "      <td>0</td>\n",
              "      <td>0</td>\n",
              "      <td>0</td>\n",
              "      <td>3</td>\n",
              "      <td>11</td>\n",
              "      <td>0</td>\n",
              "      <td>19</td>\n",
              "      <td>422</td>\n",
              "      <td>1</td>\n",
              "      <td>215</td>\n",
              "      <td>207</td>\n",
              "    </tr>\n",
              "  </tbody>\n",
              "</table>\n",
              "</div>"
            ],
            "text/plain": [
              "       Education Marital_Status   Income  ...  children  luxuries  food\n",
              "ID                                        ...                          \n",
              "5524  Graduation         Single  58138.0  ...         0       811   806\n",
              "2174  Graduation         Single  46344.0  ...         2        18     9\n",
              "4141  Graduation       Together  71613.0  ...         0       489   287\n",
              "6182  Graduation       Together  26646.0  ...         1        19    34\n",
              "5324         PhD        Married  58293.0  ...         1       215   207\n",
              "\n",
              "[5 rows x 27 columns]"
            ]
          },
          "metadata": {},
          "execution_count": 25
        }
      ]
    },
    {
      "cell_type": "code",
      "metadata": {
        "colab": {
          "base_uri": "https://localhost:8080/"
        },
        "id": "vxe46RkozZ7-",
        "outputId": "fd1f6253-09ab-4a44-a145-959568f0144f"
      },
      "source": [
        "# Checking if they are still there\n",
        "marketing.duplicated().sum()"
      ],
      "execution_count": null,
      "outputs": [
        {
          "output_type": "execute_result",
          "data": {
            "text/plain": [
              "0"
            ]
          },
          "metadata": {},
          "execution_count": 26
        }
      ]
    },
    {
      "cell_type": "markdown",
      "metadata": {
        "id": "WNjGgz6Q1awH"
      },
      "source": [
        "Our data is now clean of duplicated values"
      ]
    },
    {
      "cell_type": "markdown",
      "metadata": {
        "id": "4KMPw07a1Gl5"
      },
      "source": [
        "### Uniformity"
      ]
    },
    {
      "cell_type": "code",
      "metadata": {
        "colab": {
          "base_uri": "https://localhost:8080/",
          "height": 258
        },
        "id": "xmlIAEcM1Ken",
        "outputId": "5a5738dd-c4eb-4224-b3e8-3fff1d3d30dc"
      },
      "source": [
        "# Procedure 1:\n",
        "# Data Cleaning Action: Converting column names to lowercase characters.\n",
        "# Explanation: This is to allow for a uniform columns in the data column names.\n",
        "#\n",
        "marketing.columns = marketing.columns.str.rstrip().str.lower()\n",
        "marketing.head(5)"
      ],
      "execution_count": null,
      "outputs": [
        {
          "output_type": "execute_result",
          "data": {
            "text/html": [
              "<div>\n",
              "<style scoped>\n",
              "    .dataframe tbody tr th:only-of-type {\n",
              "        vertical-align: middle;\n",
              "    }\n",
              "\n",
              "    .dataframe tbody tr th {\n",
              "        vertical-align: top;\n",
              "    }\n",
              "\n",
              "    .dataframe thead th {\n",
              "        text-align: right;\n",
              "    }\n",
              "</style>\n",
              "<table border=\"1\" class=\"dataframe\">\n",
              "  <thead>\n",
              "    <tr style=\"text-align: right;\">\n",
              "      <th></th>\n",
              "      <th>education</th>\n",
              "      <th>marital_status</th>\n",
              "      <th>income</th>\n",
              "      <th>kidhome</th>\n",
              "      <th>teenhome</th>\n",
              "      <th>recency</th>\n",
              "      <th>mntwines</th>\n",
              "      <th>mntfruits</th>\n",
              "      <th>mntmeatproducts</th>\n",
              "      <th>mntfishproducts</th>\n",
              "      <th>mntsweetproducts</th>\n",
              "      <th>mntgoldprods</th>\n",
              "      <th>numwebvisitsmonth</th>\n",
              "      <th>acceptedcmp3</th>\n",
              "      <th>acceptedcmp4</th>\n",
              "      <th>acceptedcmp5</th>\n",
              "      <th>acceptedcmp1</th>\n",
              "      <th>acceptedcmp2</th>\n",
              "      <th>complain</th>\n",
              "      <th>z_costcontact</th>\n",
              "      <th>z_revenue</th>\n",
              "      <th>response</th>\n",
              "      <th>number_purchases</th>\n",
              "      <th>total_spent</th>\n",
              "      <th>children</th>\n",
              "      <th>luxuries</th>\n",
              "      <th>food</th>\n",
              "    </tr>\n",
              "    <tr>\n",
              "      <th>ID</th>\n",
              "      <th></th>\n",
              "      <th></th>\n",
              "      <th></th>\n",
              "      <th></th>\n",
              "      <th></th>\n",
              "      <th></th>\n",
              "      <th></th>\n",
              "      <th></th>\n",
              "      <th></th>\n",
              "      <th></th>\n",
              "      <th></th>\n",
              "      <th></th>\n",
              "      <th></th>\n",
              "      <th></th>\n",
              "      <th></th>\n",
              "      <th></th>\n",
              "      <th></th>\n",
              "      <th></th>\n",
              "      <th></th>\n",
              "      <th></th>\n",
              "      <th></th>\n",
              "      <th></th>\n",
              "      <th></th>\n",
              "      <th></th>\n",
              "      <th></th>\n",
              "      <th></th>\n",
              "      <th></th>\n",
              "    </tr>\n",
              "  </thead>\n",
              "  <tbody>\n",
              "    <tr>\n",
              "      <th>5524</th>\n",
              "      <td>Graduation</td>\n",
              "      <td>Single</td>\n",
              "      <td>58138.0</td>\n",
              "      <td>0</td>\n",
              "      <td>0</td>\n",
              "      <td>58</td>\n",
              "      <td>635</td>\n",
              "      <td>88</td>\n",
              "      <td>546</td>\n",
              "      <td>172</td>\n",
              "      <td>88</td>\n",
              "      <td>88</td>\n",
              "      <td>7</td>\n",
              "      <td>0</td>\n",
              "      <td>0</td>\n",
              "      <td>0</td>\n",
              "      <td>0</td>\n",
              "      <td>0</td>\n",
              "      <td>0</td>\n",
              "      <td>3</td>\n",
              "      <td>11</td>\n",
              "      <td>1</td>\n",
              "      <td>25</td>\n",
              "      <td>1617</td>\n",
              "      <td>0</td>\n",
              "      <td>811</td>\n",
              "      <td>806</td>\n",
              "    </tr>\n",
              "    <tr>\n",
              "      <th>2174</th>\n",
              "      <td>Graduation</td>\n",
              "      <td>Single</td>\n",
              "      <td>46344.0</td>\n",
              "      <td>1</td>\n",
              "      <td>1</td>\n",
              "      <td>38</td>\n",
              "      <td>11</td>\n",
              "      <td>1</td>\n",
              "      <td>6</td>\n",
              "      <td>2</td>\n",
              "      <td>1</td>\n",
              "      <td>6</td>\n",
              "      <td>5</td>\n",
              "      <td>0</td>\n",
              "      <td>0</td>\n",
              "      <td>0</td>\n",
              "      <td>0</td>\n",
              "      <td>0</td>\n",
              "      <td>0</td>\n",
              "      <td>3</td>\n",
              "      <td>11</td>\n",
              "      <td>0</td>\n",
              "      <td>6</td>\n",
              "      <td>27</td>\n",
              "      <td>2</td>\n",
              "      <td>18</td>\n",
              "      <td>9</td>\n",
              "    </tr>\n",
              "    <tr>\n",
              "      <th>4141</th>\n",
              "      <td>Graduation</td>\n",
              "      <td>Together</td>\n",
              "      <td>71613.0</td>\n",
              "      <td>0</td>\n",
              "      <td>0</td>\n",
              "      <td>26</td>\n",
              "      <td>426</td>\n",
              "      <td>49</td>\n",
              "      <td>127</td>\n",
              "      <td>111</td>\n",
              "      <td>21</td>\n",
              "      <td>42</td>\n",
              "      <td>4</td>\n",
              "      <td>0</td>\n",
              "      <td>0</td>\n",
              "      <td>0</td>\n",
              "      <td>0</td>\n",
              "      <td>0</td>\n",
              "      <td>0</td>\n",
              "      <td>3</td>\n",
              "      <td>11</td>\n",
              "      <td>0</td>\n",
              "      <td>21</td>\n",
              "      <td>776</td>\n",
              "      <td>0</td>\n",
              "      <td>489</td>\n",
              "      <td>287</td>\n",
              "    </tr>\n",
              "    <tr>\n",
              "      <th>6182</th>\n",
              "      <td>Graduation</td>\n",
              "      <td>Together</td>\n",
              "      <td>26646.0</td>\n",
              "      <td>1</td>\n",
              "      <td>0</td>\n",
              "      <td>26</td>\n",
              "      <td>11</td>\n",
              "      <td>4</td>\n",
              "      <td>20</td>\n",
              "      <td>10</td>\n",
              "      <td>3</td>\n",
              "      <td>5</td>\n",
              "      <td>6</td>\n",
              "      <td>0</td>\n",
              "      <td>0</td>\n",
              "      <td>0</td>\n",
              "      <td>0</td>\n",
              "      <td>0</td>\n",
              "      <td>0</td>\n",
              "      <td>3</td>\n",
              "      <td>11</td>\n",
              "      <td>0</td>\n",
              "      <td>8</td>\n",
              "      <td>53</td>\n",
              "      <td>1</td>\n",
              "      <td>19</td>\n",
              "      <td>34</td>\n",
              "    </tr>\n",
              "    <tr>\n",
              "      <th>5324</th>\n",
              "      <td>PhD</td>\n",
              "      <td>Married</td>\n",
              "      <td>58293.0</td>\n",
              "      <td>1</td>\n",
              "      <td>0</td>\n",
              "      <td>94</td>\n",
              "      <td>173</td>\n",
              "      <td>43</td>\n",
              "      <td>118</td>\n",
              "      <td>46</td>\n",
              "      <td>27</td>\n",
              "      <td>15</td>\n",
              "      <td>5</td>\n",
              "      <td>0</td>\n",
              "      <td>0</td>\n",
              "      <td>0</td>\n",
              "      <td>0</td>\n",
              "      <td>0</td>\n",
              "      <td>0</td>\n",
              "      <td>3</td>\n",
              "      <td>11</td>\n",
              "      <td>0</td>\n",
              "      <td>19</td>\n",
              "      <td>422</td>\n",
              "      <td>1</td>\n",
              "      <td>215</td>\n",
              "      <td>207</td>\n",
              "    </tr>\n",
              "  </tbody>\n",
              "</table>\n",
              "</div>"
            ],
            "text/plain": [
              "       education marital_status   income  ...  children  luxuries  food\n",
              "ID                                        ...                          \n",
              "5524  Graduation         Single  58138.0  ...         0       811   806\n",
              "2174  Graduation         Single  46344.0  ...         2        18     9\n",
              "4141  Graduation       Together  71613.0  ...         0       489   287\n",
              "6182  Graduation       Together  26646.0  ...         1        19    34\n",
              "5324         PhD        Married  58293.0  ...         1       215   207\n",
              "\n",
              "[5 rows x 27 columns]"
            ]
          },
          "metadata": {},
          "execution_count": 27
        }
      ]
    },
    {
      "cell_type": "markdown",
      "metadata": {
        "id": "V5lPk0jC1u4R"
      },
      "source": [
        "## 1.3 Data Analysis"
      ]
    },
    {
      "cell_type": "markdown",
      "metadata": {
        "id": "H0ciwoJepvLy"
      },
      "source": [
        "### Comparing the different education levels and buying behaviours"
      ]
    },
    {
      "cell_type": "markdown",
      "metadata": {
        "id": "B-GEC-y1oSVL"
      },
      "source": [
        "We will look at how the campaigns and purchases of different products were afffected by the various levels of education"
      ]
    },
    {
      "cell_type": "code",
      "metadata": {
        "colab": {
          "base_uri": "https://localhost:8080/"
        },
        "id": "cMuIOq0fH6nj",
        "outputId": "88fb3163-224e-4513-92ae-4fa9dc4dc1b2"
      },
      "source": [
        "# How many customers responded positively to the campaigns according to their education levels\n",
        "# this is the first campaign\n",
        "education = marketing.groupby(['education'])['acceptedcmp1'].sum().sort_values(ascending=False)\n",
        "education.head()"
      ],
      "execution_count": null,
      "outputs": [
        {
          "output_type": "execute_result",
          "data": {
            "text/plain": [
              "education\n",
              "Graduation    72\n",
              "PhD           26\n",
              "Master        18\n",
              "2n Cycle      10\n",
              "Basic          0\n",
              "Name: acceptedcmp1, dtype: int64"
            ]
          },
          "metadata": {},
          "execution_count": 28
        }
      ]
    },
    {
      "cell_type": "code",
      "metadata": {
        "colab": {
          "base_uri": "https://localhost:8080/",
          "height": 325
        },
        "id": "A4UkUY6nIFc2",
        "outputId": "ffe1a323-bcc9-46d9-a747-25fbca5270d6"
      },
      "source": [
        "# plotting a bar graph\n",
        "education.plot(x = 'education' , y = 'acceptedcmp1' , kind = 'bar');"
      ],
      "execution_count": null,
      "outputs": [
        {
          "output_type": "display_data",
          "data": {
            "image/png": "[encoded data removed]",
            "text/plain": [
              "<Figure size 432x288 with 1 Axes>"
            ]
          },
          "metadata": {
            "needs_background": "light"
          }
        }
      ]
    },
    {
      "cell_type": "markdown",
      "metadata": {
        "id": "WcazB66QiFRG"
      },
      "source": [
        "From the data above, the 1st campaign was well recieved by the graduation educational level"
      ]
    },
    {
      "cell_type": "code",
      "metadata": {
        "colab": {
          "base_uri": "https://localhost:8080/"
        },
        "id": "roeLwbnfIZ0o",
        "outputId": "acd6fef9-4386-4f01-ca3c-3f438964ef76"
      },
      "source": [
        "# this is the fifth campaign\n",
        "education5= marketing.groupby(['education'])['acceptedcmp5'].sum().sort_values(ascending=False)\n",
        "education5.head()"
      ],
      "execution_count": null,
      "outputs": [
        {
          "output_type": "execute_result",
          "data": {
            "text/plain": [
              "education\n",
              "Graduation    67\n",
              "PhD           33\n",
              "Master        26\n",
              "2n Cycle       8\n",
              "Basic          0\n",
              "Name: acceptedcmp5, dtype: int64"
            ]
          },
          "metadata": {},
          "execution_count": 30
        }
      ]
    },
    {
      "cell_type": "markdown",
      "metadata": {
        "id": "iUodlmVpijkF"
      },
      "source": [
        "The fifth and last campaign too was popular with the people that had just graduated, let's keep that in mind and see if the marketing campaigns had any effect on how the customers shop."
      ]
    },
    {
      "cell_type": "code",
      "metadata": {
        "colab": {
          "base_uri": "https://localhost:8080/"
        },
        "id": "Ax4pRM8RImPt",
        "outputId": "f7f12d36-85d1-40c8-8c5d-cb35b40236f6"
      },
      "source": [
        "# How much money was spent on food stuffs by the various levels of education\n",
        "educationf= marketing.groupby(['education'])['food'].sum().sort_values(ascending=False)\n",
        "educationf.head()"
      ],
      "execution_count": null,
      "outputs": [
        {
          "output_type": "execute_result",
          "data": {
            "text/plain": [
              "education\n",
              "Graduation    242744\n",
              "PhD            84461\n",
              "Master         70098\n",
              "2n Cycle       36866\n",
              "Basic           1855\n",
              "Name: food, dtype: int64"
            ]
          },
          "metadata": {},
          "execution_count": 31
        }
      ]
    },
    {
      "cell_type": "code",
      "metadata": {
        "colab": {
          "base_uri": "https://localhost:8080/",
          "height": 325
        },
        "id": "irKmGsQNJIHW",
        "outputId": "7475142b-0d9f-44ae-e06a-50b7084bd033"
      },
      "source": [
        "# plotting a bar graph\n",
        "educationf.plot(x = 'education' , y = 'food' , kind = 'bar');"
      ],
      "execution_count": null,
      "outputs": [
        {
          "output_type": "display_data",
          "data": {
            "image/png": "[encoded data removed]",
            "text/plain": [
              "<Figure size 432x288 with 1 Axes>"
            ]
          },
          "metadata": {
            "needs_background": "light"
          }
        }
      ]
    },
    {
      "cell_type": "markdown",
      "metadata": {
        "id": "TcqTbVUCiyOE"
      },
      "source": [
        "The graduated people were the more frequent buyers of foodstuff as compared to the others, with the PhD people following on second."
      ]
    },
    {
      "cell_type": "code",
      "metadata": {
        "colab": {
          "base_uri": "https://localhost:8080/"
        },
        "id": "VBQk3tknIq__",
        "outputId": "1260e111-140b-4186-d721-02cfaed51184"
      },
      "source": [
        "# How much money was spent on gold products by the various levels of education\n",
        "educationg= marketing.groupby(['education'])['mntgoldprods'].sum().sort_values(ascending=False)\n",
        "educationg.head()"
      ],
      "execution_count": null,
      "outputs": [
        {
          "output_type": "execute_result",
          "data": {
            "text/plain": [
              "education\n",
              "Graduation    46974\n",
              "PhD           13507\n",
              "Master        13002\n",
              "2n Cycle       7899\n",
              "Basic           997\n",
              "Name: mntgoldprods, dtype: int64"
            ]
          },
          "metadata": {},
          "execution_count": 33
        }
      ]
    },
    {
      "cell_type": "markdown",
      "metadata": {
        "id": "OpPmWDINpKrT"
      },
      "source": [
        "It seems like due to the popularity of the campaigns among the graduated people, they spent more on the products from the shop as compared to the othe education levels."
      ]
    },
    {
      "cell_type": "markdown",
      "metadata": {
        "id": "QTWoJOBfcFPu"
      },
      "source": [
        "### Comparing the different marital status and buying behaviours"
      ]
    },
    {
      "cell_type": "code",
      "metadata": {
        "colab": {
          "base_uri": "https://localhost:8080/"
        },
        "id": "CQSaT_ExJ_uw",
        "outputId": "dd306db7-8580-42ae-b7d5-7fe40b23014e"
      },
      "source": [
        "# How many customers responded positively to the campaigns according to their marital status\n",
        "# this is the first campaign\n",
        "marital = marketing.groupby(['marital_status'])['acceptedcmp1'].sum().sort_values(ascending=False)\n",
        "marital.head()"
      ],
      "execution_count": null,
      "outputs": [
        {
          "output_type": "execute_result",
          "data": {
            "text/plain": [
              "marital_status\n",
              "Married     57\n",
              "Single      29\n",
              "Together    24\n",
              "Divorced    10\n",
              "Widow        5\n",
              "Name: acceptedcmp1, dtype: int64"
            ]
          },
          "metadata": {},
          "execution_count": 34
        }
      ]
    },
    {
      "cell_type": "code",
      "metadata": {
        "colab": {
          "base_uri": "https://localhost:8080/",
          "height": 315
        },
        "id": "gf7PUwiVJQPR",
        "outputId": "212fa36d-5bd0-42b0-f8e7-ccb32362775a"
      },
      "source": [
        "# plotting a bar graph\n",
        "marital.plot(x = 'marital_status' , y = 'acceptedcmp1' , kind = 'bar');"
      ],
      "execution_count": null,
      "outputs": [
        {
          "output_type": "display_data",
          "data": {
            "image/png": "[encoded data removed]",
            "text/plain": [
              "<Figure size 432x288 with 1 Axes>"
            ]
          },
          "metadata": {
            "needs_background": "light"
          }
        }
      ]
    },
    {
      "cell_type": "markdown",
      "metadata": {
        "id": "6xEa8H_gmSjK"
      },
      "source": [
        "The first campaign was popular among the couples as compared to single people"
      ]
    },
    {
      "cell_type": "code",
      "metadata": {
        "colab": {
          "base_uri": "https://localhost:8080/"
        },
        "id": "MWHJ03zFKSNh",
        "outputId": "4a64e24d-3e7b-4c57-feed-b6c07ffff39a"
      },
      "source": [
        "# this is the fifth campaign\n",
        "marital5 = marketing.groupby(['marital_status'])['acceptedcmp5'].sum().sort_values(ascending=False)\n",
        "marital5.head()"
      ],
      "execution_count": null,
      "outputs": [
        {
          "output_type": "execute_result",
          "data": {
            "text/plain": [
              "marital_status\n",
              "Married     52\n",
              "Together    35\n",
              "Single      27\n",
              "Divorced    11\n",
              "Widow        8\n",
              "Name: acceptedcmp5, dtype: int64"
            ]
          },
          "metadata": {},
          "execution_count": 36
        }
      ]
    },
    {
      "cell_type": "markdown",
      "metadata": {
        "id": "3pEQTDsLmdlJ"
      },
      "source": [
        "The fifth campaign too, was popular among couples as compared to the single people, there's an interesting trend here, let us see how it will affect the buying nature of the various people based on their marital status."
      ]
    },
    {
      "cell_type": "code",
      "metadata": {
        "colab": {
          "base_uri": "https://localhost:8080/"
        },
        "id": "PewTTFJ1KdxF",
        "outputId": "f9ea03f2-0eaf-468f-98e2-fca90feacb18"
      },
      "source": [
        "# How much money was spent on food by people of different marital status\n",
        "maritalf = marketing.groupby(['marital_status'])['food'].sum().sort_values(ascending=False)\n",
        "maritalf.head()"
      ],
      "execution_count": null,
      "outputs": [
        {
          "output_type": "execute_result",
          "data": {
            "text/plain": [
              "marital_status\n",
              "Married     165145\n",
              "Together    108709\n",
              "Single       99865\n",
              "Divorced     42244\n",
              "Widow        18628\n",
              "Name: food, dtype: int64"
            ]
          },
          "metadata": {},
          "execution_count": 37
        }
      ]
    },
    {
      "cell_type": "code",
      "metadata": {
        "colab": {
          "base_uri": "https://localhost:8080/",
          "height": 315
        },
        "id": "jDu4OUBrJafb",
        "outputId": "b265b517-bcbe-40cc-8070-79dc9461536e"
      },
      "source": [
        "# plotting a bar graph\n",
        "maritalf.plot(x = 'marital_status' , y = 'food' , kind = 'bar');"
      ],
      "execution_count": null,
      "outputs": [
        {
          "output_type": "display_data",
          "data": {
            "image/png": "[encoded data removed]",
            "text/plain": [
              "<Figure size 432x288 with 1 Axes>"
            ]
          },
          "metadata": {
            "needs_background": "light"
          }
        }
      ]
    },
    {
      "cell_type": "markdown",
      "metadata": {
        "id": "lLJd18npmCx7"
      },
      "source": [
        "The people that were coupled (i.e Married & Together) spent more on wines as compared to the single,divorced and widowed people"
      ]
    },
    {
      "cell_type": "code",
      "metadata": {
        "colab": {
          "base_uri": "https://localhost:8080/"
        },
        "id": "tgdYU41dKl3F",
        "outputId": "0b3c5aaf-abc9-4f09-dd49-7f3bfbfdda87"
      },
      "source": [
        "# How much money was spent on wine by people of different marital status\n",
        "maritalw = marketing.groupby(['marital_status'])['mntwines'].sum().sort_values(ascending=False)\n",
        "maritalw.head()"
      ],
      "execution_count": null,
      "outputs": [
        {
          "output_type": "execute_result",
          "data": {
            "text/plain": [
              "marital_status\n",
              "Married     219247\n",
              "Together    140804\n",
              "Single      119745\n",
              "Divorced     64483\n",
              "Widow        26298\n",
              "Name: mntwines, dtype: int64"
            ]
          },
          "metadata": {},
          "execution_count": 39
        }
      ]
    },
    {
      "cell_type": "markdown",
      "metadata": {
        "id": "TyDLvGYPlovC"
      },
      "source": [
        "The people that were coupled are still the ones that spent more on wines as compared to the single,divorced and widowed people"
      ]
    },
    {
      "cell_type": "markdown",
      "metadata": {
        "id": "RpBMvpALnfTK"
      },
      "source": [
        "An interesting insight to note here is that, the campaigns done seem to be very popular among the coupled people as compared to the single,divorced and widowed, making the couples buy the different products more than the other do."
      ]
    },
    {
      "cell_type": "markdown",
      "metadata": {
        "id": "GAcDNlEDWBmb"
      },
      "source": [
        "### How the number of kids affected the purchasing behaviour of customers"
      ]
    },
    {
      "cell_type": "code",
      "metadata": {
        "colab": {
          "base_uri": "https://localhost:8080/"
        },
        "id": "7SU5C__TVjx6",
        "outputId": "1a1bc9ae-6065-43b7-f5e9-0f4148501af4"
      },
      "source": [
        "# How did the number of children at home affect the total spent\n",
        "kids= marketing.groupby(['children'])['total_spent'].sum().sort_values(ascending=False)\n",
        "kids.head(10)"
      ],
      "execution_count": null,
      "outputs": [
        {
          "output_type": "execute_result",
          "data": {
            "text/plain": [
              "children\n",
              "0    589422\n",
              "1    451769\n",
              "2     88786\n",
              "3     12278\n",
              "Name: total_spent, dtype: int64"
            ]
          },
          "metadata": {},
          "execution_count": 40
        }
      ]
    },
    {
      "cell_type": "code",
      "metadata": {
        "colab": {
          "base_uri": "https://localhost:8080/",
          "height": 276
        },
        "id": "ptCHoOscJofI",
        "outputId": "efc2a55f-cd40-47dc-a28b-b857fd301b35"
      },
      "source": [
        "# plotting a bar graph\n",
        "kids.plot(x = 'children' , y = 'total_spent' , kind = 'bar');"
      ],
      "execution_count": null,
      "outputs": [
        {
          "output_type": "display_data",
          "data": {
            "image/png": "[encoded data removed]",
            "text/plain": [
              "<Figure size 432x288 with 1 Axes>"
            ]
          },
          "metadata": {
            "needs_background": "light"
          }
        }
      ]
    },
    {
      "cell_type": "markdown",
      "metadata": {
        "id": "tqsbclJ_Y_R5"
      },
      "source": [
        "Customers with no children had the highest spending and the amount decreased with increase in the number of children"
      ]
    },
    {
      "cell_type": "code",
      "metadata": {
        "colab": {
          "base_uri": "https://localhost:8080/"
        },
        "id": "zIqUh1W7WSlT",
        "outputId": "56ed3f29-ca46-4b10-8cc3-c772dcdaee0a"
      },
      "source": [
        "# How did number of children at home affect the amount spent on food\n",
        "kids= marketing.groupby(['children'])['food'].sum().sort_values(ascending=False)\n",
        "kids.head(10)"
      ],
      "execution_count": null,
      "outputs": [
        {
          "output_type": "execute_result",
          "data": {
            "text/plain": [
              "children\n",
              "0    268217\n",
              "1    138605\n",
              "2     25548\n",
              "3      3654\n",
              "Name: food, dtype: int64"
            ]
          },
          "metadata": {},
          "execution_count": 42
        }
      ]
    },
    {
      "cell_type": "markdown",
      "metadata": {
        "id": "kdgt2Fh1ZPLp"
      },
      "source": [
        "The amount spent on foodstuffs decreased with an increase in the number of children."
      ]
    },
    {
      "cell_type": "code",
      "metadata": {
        "colab": {
          "base_uri": "https://localhost:8080/"
        },
        "id": "_x6Kg6GvWe52",
        "outputId": "6c11dd5b-fc2c-4c75-d528-e924d410eee8"
      },
      "source": [
        "# How did children at home affect the amount spent on luxuries\n",
        "kids= marketing.groupby(['children'])['luxuries'].sum().sort_values(ascending=False)\n",
        "kids.head(10)"
      ],
      "execution_count": null,
      "outputs": [
        {
          "output_type": "execute_result",
          "data": {
            "text/plain": [
              "children\n",
              "0    321205\n",
              "1    313164\n",
              "2     63238\n",
              "3      8624\n",
              "Name: luxuries, dtype: int64"
            ]
          },
          "metadata": {},
          "execution_count": 43
        }
      ]
    },
    {
      "cell_type": "markdown",
      "metadata": {
        "id": "hypNi91BZqrC"
      },
      "source": [
        "The amount spent on luxuries decreased with an increase in the number of children"
      ]
    },
    {
      "cell_type": "markdown",
      "metadata": {
        "id": "I9HplBaAkcyi"
      },
      "source": [
        "### Comparing the married people to the single people."
      ]
    },
    {
      "cell_type": "markdown",
      "metadata": {
        "id": "7EMIqTftlOwB"
      },
      "source": [
        "We are going to do this by comparing the number of purchases that each make."
      ]
    },
    {
      "cell_type": "code",
      "metadata": {
        "colab": {
          "base_uri": "https://localhost:8080/"
        },
        "id": "xak8Me7IQ_xX",
        "outputId": "c95acd7d-2180-4f70-e85d-cdd320b3275d"
      },
      "source": [
        "# let's compare the number of purchases in our store by married people to single people.\n",
        "# this works out the number of purchases by married people\n",
        "maritalm = marketing[(marketing['marital_status']=='Married')]\n",
        "maritalm.groupby(['marital_status'])['total_spent'].sum().sort_values(ascending=False).head()\n"
      ],
      "execution_count": null,
      "outputs": [
        {
          "output_type": "execute_result",
          "data": {
            "text/plain": [
              "marital_status\n",
              "Married    435268\n",
              "Name: total_spent, dtype: int64"
            ]
          },
          "metadata": {},
          "execution_count": 44
        }
      ]
    },
    {
      "cell_type": "code",
      "metadata": {
        "colab": {
          "base_uri": "https://localhost:8080/"
        },
        "id": "amTyuTf5TFvz",
        "outputId": "dd5ba95c-c24d-41e5-b49d-04d0247944a1"
      },
      "source": [
        "# this works out the number of purchases by single people\n",
        "single = marketing[(marketing['marital_status']=='Single')]\n",
        "single.groupby(['marital_status'])['total_spent'].sum().sort_values(ascending=False).head()"
      ],
      "execution_count": null,
      "outputs": [
        {
          "output_type": "execute_result",
          "data": {
            "text/plain": [
              "marital_status\n",
              "Single    249478\n",
              "Name: total_spent, dtype: int64"
            ]
          },
          "metadata": {},
          "execution_count": 45
        }
      ]
    },
    {
      "cell_type": "markdown",
      "metadata": {
        "id": "V52CxriNhMYX"
      },
      "source": [
        "Married people purchased nearly twice as much as single people.\n"
      ]
    },
    {
      "cell_type": "markdown",
      "metadata": {
        "id": "v-l4Qv2aWx2-"
      },
      "source": [
        "### Finding out which group customers spent the highest amount given all their atributes."
      ]
    },
    {
      "cell_type": "code",
      "metadata": {
        "colab": {
          "base_uri": "https://localhost:8080/"
        },
        "id": "QAEX55O_XVCK",
        "outputId": "bf8877d9-5f96-4a6e-f084-18847791d142"
      },
      "source": [
        "# Finding out which group customers spent the highest amount given all their atributes.\n",
        "marketing.groupby(['education' , 'marital_status', 'income' , 'children'], as_index=False)['total_spent'].sum().max()"
      ],
      "execution_count": null,
      "outputs": [
        {
          "output_type": "execute_result",
          "data": {
            "text/plain": [
              "education            PhD\n",
              "marital_status      YOLO\n",
              "income            666666\n",
              "children               3\n",
              "total_spent         5050\n",
              "dtype: object"
            ]
          },
          "metadata": {},
          "execution_count": 47
        }
      ]
    },
    {
      "cell_type": "markdown",
      "metadata": {
        "id": "3CTUv91QYZdT"
      },
      "source": [
        "Customers who had a PhD, with an income of 666666, with 3 children and who described their status as YOLO had the highest combined spending."
      ]
    },
    {
      "cell_type": "markdown",
      "metadata": {
        "id": "3WHoXI1pp85J"
      },
      "source": [
        "## Recommendation"
      ]
    },
    {
      "cell_type": "markdown",
      "metadata": {
        "id": "F-sPUsZnqF3a"
      },
      "source": [
        "1. The marital status of interest seems to be the coupled ones, so we must focus on selling products fitting them.\n",
        "\n",
        "2. People that have graduated buy from the shop frequently and products that enjoy should be focused on.\n",
        "\n",
        "3. Food is a very popular commodity from our shop, whether considering education level or marital status and as such supply should be increased.\n",
        "\n",
        "4. The next marketing campaign should focus on customers with one to three children so as to increase their spendings on foodstuffs and luxuries.\n",
        "\n",
        "5. Work needs to be done to make the shop and its campaigns more appealing to the people with basic and 2nd cycle education level, probably do more campaigns that relate to them as this will increase how they interacte with the shop and also get in more revenue.\n",
        "\n",
        "\n",
        "\n"
      ]
    }
  ]
}